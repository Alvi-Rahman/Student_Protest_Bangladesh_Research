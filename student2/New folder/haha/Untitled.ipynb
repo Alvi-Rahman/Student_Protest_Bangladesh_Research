{
 "cells": [
  {
   "cell_type": "code",
   "execution_count": 81,
   "metadata": {},
   "outputs": [],
   "source": [
    "import numpy as np\n",
    "import pandas as pd"
   ]
  },
  {
   "cell_type": "code",
   "execution_count": 82,
   "metadata": {},
   "outputs": [
    {
     "name": "stderr",
     "output_type": "stream",
     "text": [
      "c:\\users\\alvira~1\\deeple~1\\lib\\site-packages\\ipykernel_launcher.py:9: FutureWarning: \n",
      "Passing list-likes to .loc or [] with any missing label will raise\n",
      "KeyError in the future, you can use .reindex() as an alternative.\n",
      "\n",
      "See the documentation here:\n",
      "https://pandas.pydata.org/pandas-docs/stable/indexing.html#deprecate-loc-reindex-listlike\n",
      "  if __name__ == '__main__':\n",
      "c:\\users\\alvira~1\\deeple~1\\lib\\site-packages\\ipykernel_launcher.py:21: FutureWarning: \n",
      "Passing list-likes to .loc or [] with any missing label will raise\n",
      "KeyError in the future, you can use .reindex() as an alternative.\n",
      "\n",
      "See the documentation here:\n",
      "https://pandas.pydata.org/pandas-docs/stable/indexing.html#deprecate-loc-reindex-listlike\n",
      "c:\\users\\alvira~1\\deeple~1\\lib\\site-packages\\ipykernel_launcher.py:31: FutureWarning: Sorting because non-concatenation axis is not aligned. A future version\n",
      "of pandas will change to not sort by default.\n",
      "\n",
      "To accept the future behavior, pass 'sort=False'.\n",
      "\n",
      "To retain the current behavior and silence the warning, pass 'sort=True'.\n",
      "\n"
     ]
    }
   ],
   "source": [
    "bnpjamaat = pd.read_excel('bnpjamaat.xlsx')\n",
    "\n",
    "id_name = dict(zip(list(bnpjamaat['user_id'].unique()) , list(bnpjamaat['usernameTweet'].unique())))\n",
    "\n",
    "\n",
    "\n",
    "follower = pd.read_excel('follower_followed.xlsx',index_col=0)\n",
    "\n",
    "follower_bj = follower.loc[list(id_name.keys())]\n",
    "\n",
    "follower_bj.dropna(inplace=True)\n",
    "\n",
    "follower_bj['followed'] = [int(list(follower_bj['followed'])[i]) for i in range(len(follower_bj))]\n",
    "\n",
    "follower_bj['follower_name'] = [id_name.get(key) for key in list(follower_bj.index)]\n",
    "\n",
    "follower_bj['followed_name'] = [id_name.get(key) if id_name.get(key) in list(follower_bj['followed']) else key for key in list(follower_bj['followed'])]\n",
    "\n",
    "follwed = pd.read_excel('follower_followed.xlsx',index_col=1)\n",
    "\n",
    "follwed_bj = follwed.loc[list(id_name.keys())]\n",
    "\n",
    "follwed_bj.dropna(inplace=True)\n",
    "\n",
    "follwed_bj['follower'] = [int(list(follwed_bj['follower'])[i]) for i in range(len(follwed_bj))]\n",
    "\n",
    "follwed_bj['followed_name'] = [id_name.get(key) for key in list(follwed_bj.index)]\n",
    "\n",
    "follwed_bj['follower_name'] = [id_name.get(key) if id_name.get(key) in list(follwed_bj['follower']) else key for key in list(follwed_bj['follower'])]\n",
    "\n",
    "bj = pd.concat([follower_bj,follwed_bj])"
   ]
  },
  {
   "cell_type": "code",
   "execution_count": 88,
   "metadata": {},
   "outputs": [],
   "source": [
    "bj[['follower_name','followed_name']].to_excel('bj.xlsx')"
   ]
  },
  {
   "cell_type": "code",
   "execution_count": null,
   "metadata": {},
   "outputs": [],
   "source": []
  },
  {
   "cell_type": "code",
   "execution_count": 84,
   "metadata": {},
   "outputs": [
    {
     "name": "stderr",
     "output_type": "stream",
     "text": [
      "c:\\users\\alvira~1\\deeple~1\\lib\\site-packages\\ipykernel_launcher.py:25: FutureWarning: Sorting because non-concatenation axis is not aligned. A future version\n",
      "of pandas will change to not sort by default.\n",
      "\n",
      "To accept the future behavior, pass 'sort=False'.\n",
      "\n",
      "To retain the current behavior and silence the warning, pass 'sort=True'.\n",
      "\n"
     ]
    }
   ],
   "source": [
    "stephasina = pd.read_excel('stepdownhasina.xlsx')\n",
    "\n",
    "id_name = dict(zip(list(stephasina['user_id'].unique()) , list(stephasina['usernameTweet'].unique())))\n",
    "\n",
    "follower_step_hasina = follower.loc[list(id_name.keys())]\n",
    "\n",
    "follower_step_hasina.dropna(inplace=True)\n",
    "\n",
    "follower_step_hasina['followed'] = [int(list(follower_step_hasina['followed'])[i]) for i in range(len(follower_step_hasina))]\n",
    "\n",
    "follower_step_hasina['follower_name'] = [id_name.get(key) for key in list(follower_step_hasina.index)]\n",
    "\n",
    "follower_step_hasina['followed_name'] = [id_name.get(key) if id_name.get(key) in list(follower_step_hasina['followed']) else key for key in list(follower_step_hasina['followed'])]\n",
    "\n",
    "follwed_step_hasina = follwed.loc[list(id_name.keys())]\n",
    "\n",
    "follwed_step_hasina.dropna(inplace=True)\n",
    "\n",
    "follwed_step_hasina['follower'] = [int(list(follwed_step_hasina['follower'])[i]) for i in range(len(follwed_step_hasina))]\n",
    "\n",
    "follwed_step_hasina['followed_name'] = [id_name.get(key) for key in list(follwed_step_hasina.index)]\n",
    "\n",
    "follwed_step_hasina['follower_name'] = [id_name.get(key) if id_name.get(key) in list(follwed_step_hasina['follower']) else key for key in list(follwed_step_hasina['follower'])]\n",
    "\n",
    "step_hasina = pd.concat([follower_step_hasina,follwed_step_hasina])"
   ]
  },
  {
   "cell_type": "code",
   "execution_count": 89,
   "metadata": {},
   "outputs": [],
   "source": [
    "step_hasina[['follower_name','followed_name']].to_excel('step_hasina.xlsx')"
   ]
  },
  {
   "cell_type": "code",
   "execution_count": null,
   "metadata": {},
   "outputs": [],
   "source": []
  },
  {
   "cell_type": "code",
   "execution_count": 90,
   "metadata": {},
   "outputs": [
    {
     "name": "stderr",
     "output_type": "stream",
     "text": [
      "c:\\users\\alvira~1\\deeple~1\\lib\\site-packages\\ipykernel_launcher.py:5: FutureWarning: \n",
      "Passing list-likes to .loc or [] with any missing label will raise\n",
      "KeyError in the future, you can use .reindex() as an alternative.\n",
      "\n",
      "See the documentation here:\n",
      "https://pandas.pydata.org/pandas-docs/stable/indexing.html#deprecate-loc-reindex-listlike\n",
      "  \"\"\"\n",
      "c:\\users\\alvira~1\\deeple~1\\lib\\site-packages\\ipykernel_launcher.py:15: FutureWarning: \n",
      "Passing list-likes to .loc or [] with any missing label will raise\n",
      "KeyError in the future, you can use .reindex() as an alternative.\n",
      "\n",
      "See the documentation here:\n",
      "https://pandas.pydata.org/pandas-docs/stable/indexing.html#deprecate-loc-reindex-listlike\n",
      "  from ipykernel import kernelapp as app\n",
      "c:\\users\\alvira~1\\deeple~1\\lib\\site-packages\\ipykernel_launcher.py:25: FutureWarning: Sorting because non-concatenation axis is not aligned. A future version\n",
      "of pandas will change to not sort by default.\n",
      "\n",
      "To accept the future behavior, pass 'sort=False'.\n",
      "\n",
      "To retain the current behavior and silence the warning, pass 'sort=True'.\n",
      "\n"
     ]
    }
   ],
   "source": [
    "shahjahan = pd.read_excel('shahjahanmustgo.xlsx')\n",
    "\n",
    "id_name = dict(zip(list(shahjahan['user_id'].unique()) , list(shahjahan['usernameTweet'].unique())))\n",
    "\n",
    "follower_shahjahan = follower.loc[list(id_name.keys())]\n",
    "\n",
    "follower_shahjahan.dropna(inplace=True)\n",
    "\n",
    "follower_shahjahan['followed'] = [int(list(follower_shahjahan['followed'])[i]) for i in range(len(follower_shahjahan))]\n",
    "\n",
    "follower_shahjahan['follower_name'] = [id_name.get(key) for key in list(follower_shahjahan.index)]\n",
    "\n",
    "follower_shahjahan['followed_name'] = [id_name.get(key) if id_name.get(key) in list(follower_shahjahan['followed']) else key for key in list(follower_shahjahan['followed'])]\n",
    "\n",
    "follwed_shahjahan = follwed.loc[list(id_name.keys())]\n",
    "\n",
    "follwed_shahjahan.dropna(inplace=True)\n",
    "\n",
    "follwed_shahjahan['follower'] = [int(list(follwed_shahjahan['follower'])[i]) for i in range(len(follwed_shahjahan))]\n",
    "\n",
    "follwed_shahjahan['followed_name'] = [id_name.get(key) for key in list(follwed_shahjahan.index)]\n",
    "\n",
    "follwed_shahjahan['follower_name'] = [id_name.get(key) if id_name.get(key) in list(follwed_shahjahan['follower']) else key for key in list(follwed_shahjahan['follower'])]\n",
    "\n",
    "shahjahan_must_go = pd.concat([follower_shahjahan,follwed_shahjahan])"
   ]
  },
  {
   "cell_type": "code",
   "execution_count": 91,
   "metadata": {},
   "outputs": [],
   "source": [
    "shahjahan_must_go[['follower_name','followed_name']].to_excel('shahjahan_must_go.xlsx')"
   ]
  },
  {
   "cell_type": "code",
   "execution_count": null,
   "metadata": {},
   "outputs": [],
   "source": []
  },
  {
   "cell_type": "code",
   "execution_count": 93,
   "metadata": {},
   "outputs": [
    {
     "name": "stderr",
     "output_type": "stream",
     "text": [
      "c:\\users\\alvira~1\\deeple~1\\lib\\site-packages\\ipykernel_launcher.py:15: FutureWarning: \n",
      "Passing list-likes to .loc or [] with any missing label will raise\n",
      "KeyError in the future, you can use .reindex() as an alternative.\n",
      "\n",
      "See the documentation here:\n",
      "https://pandas.pydata.org/pandas-docs/stable/indexing.html#deprecate-loc-reindex-listlike\n",
      "  from ipykernel import kernelapp as app\n",
      "c:\\users\\alvira~1\\deeple~1\\lib\\site-packages\\ipykernel_launcher.py:25: FutureWarning: Sorting because non-concatenation axis is not aligned. A future version\n",
      "of pandas will change to not sort by default.\n",
      "\n",
      "To accept the future behavior, pass 'sort=False'.\n",
      "\n",
      "To retain the current behavior and silence the warning, pass 'sort=True'.\n",
      "\n"
     ]
    }
   ],
   "source": [
    "savedemocracy = pd.read_excel('savedemocracy.xlsx')\n",
    "\n",
    "id_name = dict(zip(list(savedemocracy['user_id'].unique()) , list(savedemocracy['usernameTweet'].unique())))\n",
    "\n",
    "follower_dem = follower.loc[list(id_name.keys())]\n",
    "\n",
    "follower_dem.dropna(inplace=True)\n",
    "\n",
    "follower_dem['followed'] = [int(list(follower_dem['followed'])[i]) for i in range(len(follower_dem))]\n",
    "\n",
    "follower_dem['follower_name'] = [id_name.get(key) for key in list(follower_dem.index)]\n",
    "\n",
    "follower_dem['followed_name'] = [id_name.get(key) if id_name.get(key) in list(follower_dem['followed']) else key for key in list(follower_dem['followed'])]\n",
    "\n",
    "follwed_dem = follwed.loc[list(id_name.keys())]\n",
    "\n",
    "follwed_dem.dropna(inplace=True)\n",
    "\n",
    "follwed_dem['follower'] = [int(list(follwed_dem['follower'])[i]) for i in range(len(follwed_dem))]\n",
    "\n",
    "follwed_dem['followed_name'] = [id_name.get(key) for key in list(follwed_dem.index)]\n",
    "\n",
    "follwed_dem['follower_name'] = [id_name.get(key) if id_name.get(key) in list(follwed_dem['follower']) else key for key in list(follwed_dem['follower'])]\n",
    "\n",
    "save_dem = pd.concat([follower_dem,follwed_dem])\n",
    "\n",
    "save_dem[['follower_name','followed_name']].to_excel('save_dem.xlsx')"
   ]
  },
  {
   "cell_type": "code",
   "execution_count": null,
   "metadata": {},
   "outputs": [],
   "source": []
  },
  {
   "cell_type": "code",
   "execution_count": null,
   "metadata": {},
   "outputs": [],
   "source": []
  },
  {
   "cell_type": "code",
   "execution_count": 95,
   "metadata": {},
   "outputs": [
    {
     "name": "stderr",
     "output_type": "stream",
     "text": [
      "c:\\users\\alvira~1\\deeple~1\\lib\\site-packages\\ipykernel_launcher.py:5: FutureWarning: \n",
      "Passing list-likes to .loc or [] with any missing label will raise\n",
      "KeyError in the future, you can use .reindex() as an alternative.\n",
      "\n",
      "See the documentation here:\n",
      "https://pandas.pydata.org/pandas-docs/stable/indexing.html#deprecate-loc-reindex-listlike\n",
      "  \"\"\"\n",
      "c:\\users\\alvira~1\\deeple~1\\lib\\site-packages\\ipykernel_launcher.py:15: FutureWarning: \n",
      "Passing list-likes to .loc or [] with any missing label will raise\n",
      "KeyError in the future, you can use .reindex() as an alternative.\n",
      "\n",
      "See the documentation here:\n",
      "https://pandas.pydata.org/pandas-docs/stable/indexing.html#deprecate-loc-reindex-listlike\n",
      "  from ipykernel import kernelapp as app\n",
      "c:\\users\\alvira~1\\deeple~1\\lib\\site-packages\\ipykernel_launcher.py:25: FutureWarning: Sorting because non-concatenation axis is not aligned. A future version\n",
      "of pandas will change to not sort by default.\n",
      "\n",
      "To accept the future behavior, pass 'sort=False'.\n",
      "\n",
      "To retain the current behavior and silence the warning, pass 'sort=True'.\n",
      "\n"
     ]
    }
   ],
   "source": [
    "hoax = pd.read_excel('stophoax.xlsx')\n",
    "\n",
    "id_name = dict(zip(list(hoax['user_id'].unique()) , list(hoax['usernameTweet'].unique())))\n",
    "\n",
    "follower_hoax = follower.loc[list(id_name.keys())]\n",
    "\n",
    "follower_hoax.dropna(inplace=True)\n",
    "\n",
    "follower_hoax['followed'] = [int(list(follower_hoax['followed'])[i]) for i in range(len(follower_hoax))]\n",
    "\n",
    "follower_hoax['follower_name'] = [id_name.get(key) for key in list(follower_hoax.index)]\n",
    "\n",
    "follower_hoax['followed_name'] = [id_name.get(key) if id_name.get(key) in list(follower_hoax['followed']) else key for key in list(follower_hoax['followed'])]\n",
    "\n",
    "follwed_hoax = follwed.loc[list(id_name.keys())]\n",
    "\n",
    "follwed_hoax.dropna(inplace=True)\n",
    "\n",
    "follwed_hoax['follower'] = [int(list(follwed_hoax['follower'])[i]) for i in range(len(follwed_hoax))]\n",
    "\n",
    "follwed_hoax['followed_name'] = [id_name.get(key) for key in list(follwed_hoax.index)]\n",
    "\n",
    "follwed_hoax['follower_name'] = [id_name.get(key) if id_name.get(key) in list(follwed_hoax['follower']) else key for key in list(follwed_hoax['follower'])]\n",
    "\n",
    "stop_hoax = pd.concat([follower_hoax,follwed_hoax])\n",
    "\n",
    "stop_hoax[['follower_name','followed_name']].to_excel('stop_hoax.xlsx')"
   ]
  },
  {
   "cell_type": "code",
   "execution_count": null,
   "metadata": {},
   "outputs": [],
   "source": []
  },
  {
   "cell_type": "code",
   "execution_count": null,
   "metadata": {},
   "outputs": [],
   "source": []
  },
  {
   "cell_type": "code",
   "execution_count": null,
   "metadata": {},
   "outputs": [],
   "source": []
  },
  {
   "cell_type": "code",
   "execution_count": null,
   "metadata": {},
   "outputs": [],
   "source": []
  },
  {
   "cell_type": "code",
   "execution_count": null,
   "metadata": {},
   "outputs": [],
   "source": []
  },
  {
   "cell_type": "code",
   "execution_count": null,
   "metadata": {},
   "outputs": [],
   "source": []
  },
  {
   "cell_type": "code",
   "execution_count": null,
   "metadata": {},
   "outputs": [],
   "source": []
  },
  {
   "cell_type": "code",
   "execution_count": null,
   "metadata": {},
   "outputs": [],
   "source": []
  },
  {
   "cell_type": "code",
   "execution_count": null,
   "metadata": {},
   "outputs": [],
   "source": []
  },
  {
   "cell_type": "code",
   "execution_count": null,
   "metadata": {},
   "outputs": [],
   "source": []
  }
 ],
 "metadata": {
  "kernelspec": {
   "display_name": "Python 3",
   "language": "python",
   "name": "python3"
  },
  "language_info": {
   "codemirror_mode": {
    "name": "ipython",
    "version": 3
   },
   "file_extension": ".py",
   "mimetype": "text/x-python",
   "name": "python",
   "nbconvert_exporter": "python",
   "pygments_lexer": "ipython3",
   "version": "3.7.3"
  }
 },
 "nbformat": 4,
 "nbformat_minor": 2
}
