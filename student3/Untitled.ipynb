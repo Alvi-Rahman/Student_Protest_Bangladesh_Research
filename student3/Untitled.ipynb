{
 "cells": [
  {
   "cell_type": "code",
   "execution_count": 1,
   "metadata": {},
   "outputs": [],
   "source": [
    "import numpy as np\n",
    "import pandas as pd"
   ]
  },
  {
   "cell_type": "code",
   "execution_count": 3,
   "metadata": {},
   "outputs": [],
   "source": [
    "bcl = np.array(pd.read_excel('.\\\\subject\\\\bcl.xlsx')['text'])\n",
    "\n",
    "bcl.shape\n",
    "\n",
    "kill = np.array(pd.read_excel('.\\\\verb\\\\kill.xlsx')['text'])\n",
    "\n",
    "kill.shape\n",
    "\n",
    "student = np.array(pd.read_excel('.\\\\object\\\\student.xlsx')['text'])\n",
    "\n",
    "student.shape\n",
    "\n",
    "bcl_kill_student = np.concatenate([bcl,kill,student],axis=0)\n",
    "\n",
    "bcl_kill_student.shape\n",
    "\n",
    "bcl_kill_student = np.array(list(set(bcl_kill_student)))\n",
    "\n",
    "len(bcl_kill_student)\n",
    "\n",
    "for i in range(len(bcl_kill_student)):\n",
    "    bcl_kill_student[i] = bcl_kill_student[i].lower()\n",
    "\n",
    "unique_bcl_kill_student = []\n",
    "\n",
    "for i in range(len(bcl_kill_student)):\n",
    "    if ('bcl' in bcl_kill_student[i] or 'bsl' in bcl_kill_student[i] or 'chaatro league' in bcl_kill_student[i] or 'chatro league' in bcl_kill_student[i]\n",
    "       or 'Chhatra League' in bcl_kill_student[i] or 'student league' in bcl_kill_student[i] or 'chatra league' in bcl_kill_student[i] or\n",
    "        'chattra league' in bcl_kill_student[i]) and ('kill' in bcl_kill_student[i] or 'murder' in bcl_kill_student[i]) and ('student' in bcl_kill_student[i] or 'protester' in bcl_kill_student or\n",
    "                                                                                       'school kids' in bcl_kill_student or 'teenage' in bcl_kill_student):\n",
    "        unique_bcl_kill_student.append(bcl_kill_student[i])\n",
    "\n",
    "len(unique_bcl_kill_student)\n",
    "\n",
    "freq_bcl_kill_students = len(unique_bcl_kill_student) / len(bcl_kill_student) * 100"
   ]
  },
  {
   "cell_type": "code",
   "execution_count": 131,
   "metadata": {},
   "outputs": [],
   "source": [
    "bcl_kill_student = np.concatenate([bcl,kill,student],axis=0)\n",
    "\n",
    "bcl_kill_student = np.array(list(set(bcl_kill_student)))\n",
    "\n",
    "for i in range(len(bcl_kill_student)):\n",
    "    bcl_kill_student[i] = bcl_kill_student[i].lower()\n",
    "\n",
    "unique_bcl_kill_student = []\n",
    "\n",
    "for i in range(len(bcl_kill_student)):\n",
    "    if ('bcl' in bcl_kill_student[i] or 'bsl' in bcl_kill_student[i] or 'chaatro league' in bcl_kill_student[i] or 'chatro league' in bcl_kill_student[i]\n",
    "       or 'Chhatra League' in bcl_kill_student[i] or 'student league' in bcl_kill_student[i] or 'chatra league' in bcl_kill_student[i] or\n",
    "        'chattra league' in bcl_kill_student[i]) and ('kill' in bcl_kill_student[i] or 'murder' in bcl_kill_student[i]) and ('student' in bcl_kill_student[i] or 'protester' in bcl_kill_student or\n",
    "                                                                                       'school kids' in bcl_kill_student or 'teenage' in bcl_kill_student):\n",
    "        unique_bcl_kill_student.append(bcl_kill_student[i])\n",
    "\n",
    "freq_bcl_kill_students = len(unique_bcl_kill_student) / len(bcl_kill_student) * 100"
   ]
  },
  {
   "cell_type": "code",
   "execution_count": 132,
   "metadata": {},
   "outputs": [
    {
     "data": {
      "text/plain": [
       "2.178940961655508"
      ]
     },
     "execution_count": 132,
     "metadata": {},
     "output_type": "execute_result"
    }
   ],
   "source": [
    "freq_bcl_kill_students"
   ]
  },
  {
   "cell_type": "code",
   "execution_count": null,
   "metadata": {},
   "outputs": [],
   "source": []
  },
  {
   "cell_type": "code",
   "execution_count": null,
   "metadata": {},
   "outputs": [],
   "source": []
  },
  {
   "cell_type": "code",
   "execution_count": 137,
   "metadata": {},
   "outputs": [],
   "source": [
    "boy = np.array(pd.read_excel('.\\\\object\\\\boy.xlsx')['text'])\n",
    "\n",
    "bcl_kill_boy = np.concatenate([bcl,kill,boy],axis=0)\n",
    "\n",
    "bcl_kill_boy = np.array(list(set(bcl_kill_boy)))\n",
    "\n",
    "for i in range(len(bcl_kill_boy)):\n",
    "    bcl_kill_boy[i] = bcl_kill_boy[i].lower()\n",
    "\n",
    "unique_bcl_kill_boy = []\n",
    "\n",
    "for i in range(len(bcl_kill_boy)):\n",
    "    if ('bcl' in bcl_kill_boy[i] or 'bsl' in bcl_kill_boy[i] or 'chaatro league' in bcl_kill_boy[i] or\n",
    "        'chatro league' in bcl_kill_boy[i] or 'Chhatra League' in bcl_kill_boy[i] or 'student league' in bcl_kill_boy[i] or \n",
    "        'chatra league' in bcl_kill_boy[i] or 'chattra league' in bcl_kill_boy[i]) and ('kill' in bcl_kill_boy[i] or 'murder' in bcl_kill_boy[i]) and 'boy' in bcl_kill_boy[i] :\n",
    "        \n",
    "        unique_bcl_kill_boy.append(bcl_kill_boy[i])\n",
    "\n",
    "freq_bcl_kill_boy = len(unique_bcl_kill_boy) / len(bcl_kill_boy) * 100"
   ]
  },
  {
   "cell_type": "code",
   "execution_count": null,
   "metadata": {},
   "outputs": [],
   "source": []
  },
  {
   "cell_type": "code",
   "execution_count": 138,
   "metadata": {},
   "outputs": [
    {
     "data": {
      "text/plain": [
       "0.39984767707539987"
      ]
     },
     "execution_count": 138,
     "metadata": {},
     "output_type": "execute_result"
    }
   ],
   "source": [
    "freq_bcl_kill_boy"
   ]
  },
  {
   "cell_type": "code",
   "execution_count": 139,
   "metadata": {},
   "outputs": [],
   "source": [
    "girl = np.array(pd.read_excel('.\\\\object\\\\girl.xlsx')['text'])\n",
    "\n",
    "bcl_kill_girl = np.concatenate([bcl,kill,girl],axis=0)\n",
    "\n",
    "bcl_kill_girl = np.array(list(set(bcl_kill_girl)))\n",
    "\n",
    "for i in range(len(bcl_kill_girl)):\n",
    "    bcl_kill_girl[i] = bcl_kill_girl[i].lower()\n",
    "\n",
    "unique_bcl_kill_girl = []\n",
    "\n",
    "for i in range(len(bcl_kill_girl)):\n",
    "    if ('bcl' in bcl_kill_girl[i] or 'bsl' in bcl_kill_girl[i] or 'chaatro league' in bcl_kill_girl[i] or\n",
    "        'chatro league' in bcl_kill_girl[i] or 'Chhatra League' in bcl_kill_girl[i] or 'student league' in bcl_kill_girl[i] or \n",
    "        'chatra league' in bcl_kill_girl[i] or 'chattra league' in bcl_kill_girl[i]) and ('kill' in bcl_kill_girl[i] or 'murder' in bcl_kill_girl[i]) and 'girl' in bcl_kill_girl[i] :\n",
    "        \n",
    "        unique_bcl_kill_girl.append(bcl_kill_girl[i])\n",
    "\n",
    "freq_bcl_kill_girl = len(unique_bcl_kill_girl) / len(bcl_kill_girl) * 100"
   ]
  },
  {
   "cell_type": "code",
   "execution_count": 140,
   "metadata": {},
   "outputs": [
    {
     "data": {
      "text/plain": [
       "1.7654711020256457"
      ]
     },
     "execution_count": 140,
     "metadata": {},
     "output_type": "execute_result"
    }
   ],
   "source": [
    "freq_bcl_kill_girl"
   ]
  },
  {
   "cell_type": "code",
   "execution_count": null,
   "metadata": {},
   "outputs": [],
   "source": []
  },
  {
   "cell_type": "code",
   "execution_count": 141,
   "metadata": {},
   "outputs": [],
   "source": [
    "journalist = np.array(pd.read_excel('.\\\\object\\\\journalist.xlsx')['text'])\n",
    "\n",
    "bcl_kill_journalist = np.concatenate([bcl,kill,journalist],axis=0)\n",
    "\n",
    "bcl_kill_journalist = np.array(list(set(bcl_kill_journalist)))\n",
    "\n",
    "for i in range(len(bcl_kill_journalist)):\n",
    "    bcl_kill_journalist[i] = bcl_kill_journalist[i].lower()\n",
    "\n",
    "unique_bcl_kill_journalist = []\n",
    "\n",
    "for i in range(len(bcl_kill_journalist)):\n",
    "    if ('bcl' in bcl_kill_journalist[i] or 'bsl' in bcl_kill_journalist[i] or 'chaatro league' in bcl_kill_journalist[i] or\n",
    "        'chatro league' in bcl_kill_journalist[i] or 'Chhatra League' in bcl_kill_journalist[i] or 'student league' in bcl_kill_journalist[i] or \n",
    "        'chatra league' in bcl_kill_journalist[i] or 'chattra league' in bcl_kill_journalist[i]) and ('kill' in bcl_kill_journalist[i] or 'murder' in bcl_kill_journalist[i]) and 'journalist' in bcl_kill_journalist[i] :\n",
    "        \n",
    "        unique_bcl_kill_journalist.append(bcl_kill_journalist[i])\n",
    "\n",
    "freq_bcl_kill_journalist = len(unique_bcl_kill_journalist) / len(bcl_kill_journalist) * 100"
   ]
  },
  {
   "cell_type": "code",
   "execution_count": 142,
   "metadata": {},
   "outputs": [
    {
     "data": {
      "text/plain": [
       "0.05270555165144061"
      ]
     },
     "execution_count": 142,
     "metadata": {},
     "output_type": "execute_result"
    }
   ],
   "source": [
    "freq_bcl_kill_journalist"
   ]
  },
  {
   "cell_type": "code",
   "execution_count": null,
   "metadata": {},
   "outputs": [],
   "source": []
  },
  {
   "cell_type": "code",
   "execution_count": null,
   "metadata": {},
   "outputs": [],
   "source": []
  },
  {
   "cell_type": "code",
   "execution_count": 143,
   "metadata": {},
   "outputs": [],
   "source": [
    "govt = np.array(pd.read_excel('.\\\\subject\\\\govt.xlsx')['text'])\n",
    "\n",
    "govt_kill_journalist = np.concatenate([govt,kill,journalist],axis=0)\n",
    "\n",
    "govt_kill_journalist = np.array(list(set(govt_kill_journalist)))\n",
    "\n",
    "for i in range(len(govt_kill_journalist)):\n",
    "    govt_kill_journalist[i] = govt_kill_journalist[i].lower()\n",
    "\n",
    "unique_govt_kill_journalist = []\n",
    "\n",
    "for i in range(len(govt_kill_journalist)):\n",
    "    if ('government' in govt_kill_journalist[i] or 'govt' in govt_kill_journalist[i] or 'Ruling party supporter' in govt_kill_journalist[i]\n",
    "       or 'political leader' in govt_kill_journalist[i] or 'government party' in govt_kill_journalist[i] or\n",
    "       'Pro government supporter' in govt_kill_journalist[i] or 'awami league' in govt_kill_journalist[i]) and ('kill' in govt_kill_journalist[i] or 'murder' in govt_kill_journalist[i]) and 'journalist' in govt_kill_journalist[i] :\n",
    "        \n",
    "        unique_govt_kill_journalist.append(govt_kill_journalist[i])\n",
    "\n",
    "freq_govt_kill_journalist = len(unique_govt_kill_journalist) / len(govt_kill_journalist) * 100"
   ]
  },
  {
   "cell_type": "code",
   "execution_count": 144,
   "metadata": {},
   "outputs": [
    {
     "data": {
      "text/plain": [
       "0.06428801028608164"
      ]
     },
     "execution_count": 144,
     "metadata": {},
     "output_type": "execute_result"
    }
   ],
   "source": [
    "freq_govt_kill_journalist"
   ]
  },
  {
   "cell_type": "code",
   "execution_count": null,
   "metadata": {},
   "outputs": [],
   "source": []
  },
  {
   "cell_type": "code",
   "execution_count": null,
   "metadata": {},
   "outputs": [],
   "source": []
  },
  {
   "cell_type": "code",
   "execution_count": 145,
   "metadata": {},
   "outputs": [],
   "source": [
    "#student = np.array(pd.read_excel('.\\\\object\\\\student.xlsx')['text'])\n",
    "\n",
    "govt_kill_student = np.concatenate([govt,kill,student],axis=0)\n",
    "\n",
    "govt_kill_student = np.array(list(set(govt_kill_student)))\n",
    "\n",
    "for i in range(len(govt_kill_student)):\n",
    "    govt_kill_student[i] = govt_kill_student[i].lower()\n",
    "\n",
    "unique_govt_kill_student = []\n",
    "\n",
    "for i in range(len(govt_kill_student)):\n",
    "    if ('government' in govt_kill_student[i] or 'govt' in govt_kill_student[i] or 'Ruling party supporter' in govt_kill_student[i]\n",
    "       or 'political leader' in govt_kill_student[i] or 'government party' in govt_kill_student[i] or\n",
    "       'Pro government supporter' in govt_kill_student[i] or 'awami league' in govt_kill_student[i]) and ('kill' in govt_kill_student[i] or 'murder' in govt_kill_student[i]) and ('student' in govt_kill_student[i] or 'protester' in govt_kill_student or\n",
    "                                                                                       'school kids' in govt_kill_student or 'teenage' in govt_kill_student) :\n",
    "        \n",
    "        unique_govt_kill_student.append(govt_kill_student[i])\n",
    "\n",
    "freq_govt_kill_student = len(unique_govt_kill_student) / len(govt_kill_student) * 100"
   ]
  },
  {
   "cell_type": "code",
   "execution_count": 146,
   "metadata": {},
   "outputs": [
    {
     "data": {
      "text/plain": [
       "6.702835141757088"
      ]
     },
     "execution_count": 146,
     "metadata": {},
     "output_type": "execute_result"
    }
   ],
   "source": [
    "freq_govt_kill_student"
   ]
  },
  {
   "cell_type": "code",
   "execution_count": null,
   "metadata": {},
   "outputs": [],
   "source": []
  },
  {
   "cell_type": "code",
   "execution_count": 147,
   "metadata": {},
   "outputs": [],
   "source": [
    "#boy = np.array(pd.read_excel('.\\\\object\\\\boy.xlsx')['text'])\n",
    "\n",
    "govt_kill_boy = np.concatenate([govt,kill,boy],axis=0)\n",
    "\n",
    "govt_kill_boy = np.array(list(set(govt_kill_boy)))\n",
    "\n",
    "for i in range(len(govt_kill_boy)):\n",
    "    govt_kill_boy[i] = govt_kill_boy[i].lower()\n",
    "\n",
    "unique_govt_kill_boy = []\n",
    "\n",
    "for i in range(len(govt_kill_boy)):\n",
    "    if ('government' in govt_kill_boy[i] or 'govt' in govt_kill_boy[i] or 'Ruling party supporter' in govt_kill_boy[i]\n",
    "       or 'political leader' in govt_kill_boy[i] or 'government party' in govt_kill_boy[i] or\n",
    "       'Pro government supporter' in govt_kill_boy[i] or 'awami league' in govt_kill_boy[i]) and ('kill' in govt_kill_boy[i] or 'murder' in govt_kill_boy[i]) and 'boy' in govt_kill_boy[i] :\n",
    "        \n",
    "        unique_govt_kill_boy.append(govt_kill_boy[i])\n",
    "\n",
    "freq_govt_kill_boy = len(unique_govt_kill_boy) / len(govt_kill_boy) * 100"
   ]
  },
  {
   "cell_type": "code",
   "execution_count": 148,
   "metadata": {},
   "outputs": [
    {
     "data": {
      "text/plain": [
       "0.36007651625970516"
      ]
     },
     "execution_count": 148,
     "metadata": {},
     "output_type": "execute_result"
    }
   ],
   "source": [
    "freq_govt_kill_boy"
   ]
  },
  {
   "cell_type": "code",
   "execution_count": null,
   "metadata": {},
   "outputs": [],
   "source": []
  },
  {
   "cell_type": "code",
   "execution_count": 149,
   "metadata": {},
   "outputs": [],
   "source": [
    "girl = np.array(pd.read_excel('.\\\\object\\\\girl.xlsx')['text'])\n",
    "\n",
    "govt_kill_girl = np.concatenate([govt,kill,girl],axis=0)\n",
    "\n",
    "govt_kill_girl = np.array(list(set(govt_kill_girl)))\n",
    "\n",
    "for i in range(len(govt_kill_girl)):\n",
    "    govt_kill_girl[i] = govt_kill_girl[i].lower()\n",
    "\n",
    "unique_govt_kill_girl = []\n",
    "\n",
    "for i in range(len(govt_kill_girl)):\n",
    "    if ('government' in govt_kill_girl[i] or 'govt' in govt_kill_girl[i] or 'Ruling party supporter' in govt_kill_girl[i]\n",
    "       or 'political leader' in govt_kill_girl[i] or 'government party' in govt_kill_girl[i] or\n",
    "       'Pro government supporter' in govt_kill_girl[i] or 'awami league' in govt_kill_girl[i]) and ('kill' in govt_kill_girl[i] or 'murder' in govt_kill_girl[i]) and 'girl' in govt_kill_girl[i] :\n",
    "        \n",
    "        unique_govt_kill_girl.append(govt_kill_girl[i])\n",
    "\n",
    "freq_govt_kill_girl = len(unique_govt_kill_girl) / len(govt_kill_girl) * 100"
   ]
  },
  {
   "cell_type": "code",
   "execution_count": 150,
   "metadata": {},
   "outputs": [
    {
     "data": {
      "text/plain": [
       "1.8788215675375208"
      ]
     },
     "execution_count": 150,
     "metadata": {},
     "output_type": "execute_result"
    }
   ],
   "source": [
    "freq_govt_kill_girl"
   ]
  },
  {
   "cell_type": "code",
   "execution_count": null,
   "metadata": {},
   "outputs": [],
   "source": []
  },
  {
   "cell_type": "code",
   "execution_count": 151,
   "metadata": {},
   "outputs": [],
   "source": [
    "#police = np.array(pd.read_excel('.\\\\subject\\\\police.xlsx')['text'])\n",
    "\n",
    "police_kill_journalist = np.concatenate([police,kill,journalist],axis=0)\n",
    "\n",
    "police_kill_journalist = np.array(list(set(police_kill_journalist)))\n",
    "\n",
    "for i in range(len(police_kill_journalist)):\n",
    "    police_kill_journalist[i] = police_kill_journalist[i].lower()\n",
    "\n",
    "unique_police_kill_journalist = []\n",
    "\n",
    "for i in range(len(police_kill_journalist)):\n",
    "    if 'police' in police_kill_journalist[i] and ('kill' in police_kill_journalist[i] or 'murder' in police_kill_journalist[i]) and 'journalist' in police_kill_journalist[i] :\n",
    "        \n",
    "        unique_police_kill_journalist.append(police_kill_journalist[i])\n",
    "\n",
    "freq_police_kill_journalist = len(unique_police_kill_journalist) / len(police_kill_journalist) * 100"
   ]
  },
  {
   "cell_type": "code",
   "execution_count": 152,
   "metadata": {},
   "outputs": [
    {
     "data": {
      "text/plain": [
       "0.049011599411860805"
      ]
     },
     "execution_count": 152,
     "metadata": {},
     "output_type": "execute_result"
    }
   ],
   "source": [
    "freq_police_kill_journalist"
   ]
  },
  {
   "cell_type": "code",
   "execution_count": null,
   "metadata": {},
   "outputs": [],
   "source": []
  },
  {
   "cell_type": "code",
   "execution_count": 153,
   "metadata": {},
   "outputs": [],
   "source": [
    "boy = np.array(pd.read_excel('.\\\\object\\\\boy.xlsx')['text'])\n",
    "\n",
    "police_kill_boy = np.concatenate([police,kill,boy],axis=0)\n",
    "\n",
    "police_kill_boy = np.array(list(set(police_kill_boy)))\n",
    "\n",
    "for i in range(len(police_kill_boy)):\n",
    "    police_kill_boy[i] = police_kill_boy[i].lower()\n",
    "\n",
    "unique_police_kill_boy = []\n",
    "\n",
    "for i in range(len(police_kill_boy)):\n",
    "    if 'police' in police_kill_boy[i] and ('kill' in police_kill_boy[i] or 'murder' in police_kill_boy[i]) and 'boy' in police_kill_boy[i] :\n",
    "        \n",
    "        unique_police_kill_boy.append(police_kill_boy[i])\n",
    "\n",
    "freq_police_kill_boy = len(unique_police_kill_boy) / len(police_kill_boy) * 100"
   ]
  },
  {
   "cell_type": "code",
   "execution_count": 154,
   "metadata": {},
   "outputs": [
    {
     "data": {
      "text/plain": [
       "0.2615062761506276"
      ]
     },
     "execution_count": 154,
     "metadata": {},
     "output_type": "execute_result"
    }
   ],
   "source": [
    "freq_police_kill_boy"
   ]
  },
  {
   "cell_type": "code",
   "execution_count": null,
   "metadata": {},
   "outputs": [],
   "source": []
  },
  {
   "cell_type": "code",
   "execution_count": 155,
   "metadata": {},
   "outputs": [],
   "source": [
    "girl = np.array(pd.read_excel('.\\\\object\\\\girl.xlsx')['text'])\n",
    "\n",
    "police_kill_girl = np.concatenate([police,kill,girl],axis=0)\n",
    "\n",
    "police_kill_girl = np.array(list(set(police_kill_girl)))\n",
    "\n",
    "for i in range(len(police_kill_girl)):\n",
    "    police_kill_girl[i] = police_kill_girl[i].lower()\n",
    "\n",
    "unique_police_kill_girl = []\n",
    "\n",
    "for i in range(len(police_kill_girl)):\n",
    "    if 'police' in police_kill_girl[i] and ('kill' in police_kill_girl[i] or 'murder' in police_kill_girl[i]) and 'girl' in police_kill_girl[i] :\n",
    "        \n",
    "        unique_police_kill_girl.append(police_kill_girl[i])\n",
    "\n",
    "freq_police_kill_girl = len(unique_police_kill_girl) / len(police_kill_girl) * 100"
   ]
  },
  {
   "cell_type": "code",
   "execution_count": 156,
   "metadata": {},
   "outputs": [
    {
     "data": {
      "text/plain": [
       "1.2696800406297613"
      ]
     },
     "execution_count": 156,
     "metadata": {},
     "output_type": "execute_result"
    }
   ],
   "source": [
    "freq_police_kill_girl"
   ]
  },
  {
   "cell_type": "code",
   "execution_count": null,
   "metadata": {},
   "outputs": [],
   "source": []
  },
  {
   "cell_type": "code",
   "execution_count": 159,
   "metadata": {},
   "outputs": [],
   "source": [
    "student = np.array(pd.read_excel('.\\\\object\\\\student.xlsx')['text'])\n",
    "\n",
    "police_kill_student = np.concatenate([police,kill,student],axis=0)\n",
    "\n",
    "police_kill_student = np.array(list(set(police_kill_student)))\n",
    "\n",
    "for i in range(len(police_kill_student)):\n",
    "    police_kill_student[i] = police_kill_student[i].lower()\n",
    "\n",
    "unique_police_kill_student = []\n",
    "\n",
    "for i in range(len(police_kill_student)):\n",
    "    if 'police' in police_kill_student[i] and ('kill' in police_kill_student[i] or 'murder' in police_kill_student[i]) and ('student' in police_kill_student[i] or 'protester' in police_kill_student or 'school kids' in police_kill_student or 'teenage' in police_kill_student) :    \n",
    "        unique_police_kill_student.append(police_kill_student[i])\n",
    "\n",
    "freq_police_kill_student = len(unique_police_kill_student) / len(police_kill_student) * 100"
   ]
  },
  {
   "cell_type": "code",
   "execution_count": 160,
   "metadata": {},
   "outputs": [
    {
     "data": {
      "text/plain": [
       "2.0446662204101504"
      ]
     },
     "execution_count": 160,
     "metadata": {},
     "output_type": "execute_result"
    }
   ],
   "source": [
    "freq_police_kill_student"
   ]
  },
  {
   "cell_type": "code",
   "execution_count": null,
   "metadata": {},
   "outputs": [],
   "source": []
  },
  {
   "cell_type": "code",
   "execution_count": 86,
   "metadata": {},
   "outputs": [],
   "source": [
    "shoot = np.array(pd.read_excel('.\\\\verb\\\\shoot.xlsx')['text'])\n",
    "\n",
    "police_shoot_student = np.concatenate([police,shoot,student],axis=0)\n",
    "\n",
    "police_shoot_student = np.array(list(set(police_shoot_student)))\n",
    "\n",
    "for i in range(len(police_shoot_student)):\n",
    "    police_shoot_student[i] = police_shoot_student[i].lower()\n",
    "\n",
    "unique_police_shoot_student = []\n",
    "\n",
    "for i in range(len(police_shoot_student)):\n",
    "    if 'police' in police_shoot_student[i] and 'shoot' in police_shoot_student[i] and ('student' in police_shoot_student[i] or 'protester' in police_shoot_student or 'school kids' in police_shoot_student or 'teenage' in police_shoot_student):\n",
    "        \n",
    "        unique_police_shoot_student.append(police_shoot_student[i])\n",
    "\n",
    "freq_police_shoot_student = len(unique_police_shoot_student) / len(police_shoot_student) * 100"
   ]
  },
  {
   "cell_type": "code",
   "execution_count": 87,
   "metadata": {},
   "outputs": [
    {
     "data": {
      "text/plain": [
       "0.1853035143769968"
      ]
     },
     "execution_count": 87,
     "metadata": {},
     "output_type": "execute_result"
    }
   ],
   "source": [
    "freq_police_shoot_student"
   ]
  },
  {
   "cell_type": "code",
   "execution_count": null,
   "metadata": {},
   "outputs": [],
   "source": []
  },
  {
   "cell_type": "code",
   "execution_count": 88,
   "metadata": {},
   "outputs": [],
   "source": [
    "police_shoot_boy = np.concatenate([police,shoot,boy],axis=0)\n",
    "\n",
    "police_shoot_boy = np.array(list(set(police_shoot_boy)))\n",
    "\n",
    "for i in range(len(police_shoot_boy)):\n",
    "    police_shoot_boy[i] = police_shoot_boy[i].lower()\n",
    "\n",
    "unique_police_shoot_boy = []\n",
    "\n",
    "for i in range(len(police_shoot_boy)):\n",
    "    if 'police' in police_shoot_boy[i] and 'shoot' in police_shoot_boy[i] and 'boy' in police_shoot_boy:\n",
    "        \n",
    "        unique_police_shoot_boy.append(police_shoot_boy[i])\n",
    "\n",
    "freq_police_shoot_boy = len(unique_police_shoot_boy) / len(police_shoot_boy) * 100"
   ]
  },
  {
   "cell_type": "code",
   "execution_count": 89,
   "metadata": {},
   "outputs": [
    {
     "data": {
      "text/plain": [
       "0.0"
      ]
     },
     "execution_count": 89,
     "metadata": {},
     "output_type": "execute_result"
    }
   ],
   "source": [
    "freq_police_shoot_boy"
   ]
  },
  {
   "cell_type": "code",
   "execution_count": null,
   "metadata": {},
   "outputs": [],
   "source": []
  },
  {
   "cell_type": "code",
   "execution_count": 90,
   "metadata": {},
   "outputs": [],
   "source": [
    "police_shoot_girl = np.concatenate([police,shoot,girl],axis=0)\n",
    "\n",
    "police_shoot_girl = np.array(list(set(police_shoot_girl)))\n",
    "\n",
    "for i in range(len(police_shoot_girl)):\n",
    "    police_shoot_girl[i] = police_shoot_girl[i].lower()\n",
    "\n",
    "unique_police_shoot_girl = []\n",
    "\n",
    "for i in range(len(police_shoot_girl)):\n",
    "    if 'police' in police_shoot_girl[i] and 'shoot' in police_shoot_girl[i] and 'girl' in police_shoot_girl:\n",
    "        \n",
    "        unique_police_shoot_girl.append(police_shoot_girl[i])\n",
    "\n",
    "freq_police_shoot_girl = len(unique_police_shoot_girl) / len(police_shoot_girl) * 100"
   ]
  },
  {
   "cell_type": "code",
   "execution_count": 94,
   "metadata": {},
   "outputs": [
    {
     "data": {
      "text/plain": [
       "0.0"
      ]
     },
     "execution_count": 94,
     "metadata": {},
     "output_type": "execute_result"
    }
   ],
   "source": [
    "freq_police_shoot_girl"
   ]
  },
  {
   "cell_type": "code",
   "execution_count": null,
   "metadata": {},
   "outputs": [],
   "source": []
  },
  {
   "cell_type": "code",
   "execution_count": null,
   "metadata": {},
   "outputs": [],
   "source": []
  },
  {
   "cell_type": "code",
   "execution_count": 92,
   "metadata": {},
   "outputs": [],
   "source": [
    "police_shoot_journalist = np.concatenate([police,shoot,journalist],axis=0)\n",
    "\n",
    "police_shoot_journalist = np.array(list(set(police_shoot_journalist)))\n",
    "\n",
    "for i in range(len(police_shoot_journalist)):\n",
    "    police_shoot_journalist[i] = police_shoot_journalist[i].lower()\n",
    "\n",
    "unique_police_shoot_journalist = []\n",
    "\n",
    "for i in range(len(police_shoot_journalist)):\n",
    "    if 'police' in police_shoot_journalist[i] and 'shoot' in police_shoot_journalist[i] and 'journalist' in police_shoot_journalist:\n",
    "        \n",
    "        unique_police_shoot_journalist.append(police_shoot_journalist[i])\n",
    "\n",
    "freq_police_shoot_journalist = len(unique_police_shoot_journalist) / len(police_shoot_journalist) * 100"
   ]
  },
  {
   "cell_type": "code",
   "execution_count": 93,
   "metadata": {},
   "outputs": [
    {
     "data": {
      "text/plain": [
       "0.0"
      ]
     },
     "execution_count": 93,
     "metadata": {},
     "output_type": "execute_result"
    }
   ],
   "source": [
    "freq_police_shoot_journalist"
   ]
  },
  {
   "cell_type": "code",
   "execution_count": null,
   "metadata": {},
   "outputs": [],
   "source": []
  },
  {
   "cell_type": "code",
   "execution_count": 96,
   "metadata": {},
   "outputs": [],
   "source": [
    "bcl_shoot_student = np.concatenate([bcl,shoot,student],axis=0)\n",
    "\n",
    "bcl_shoot_student.shape\n",
    "\n",
    "bcl_shoot_student = np.array(list(set(bcl_shoot_student)))\n",
    "\n",
    "len(bcl_shoot_student)\n",
    "\n",
    "for i in range(len(bcl_shoot_student)):\n",
    "    bcl_shoot_student[i] = bcl_shoot_student[i].lower()\n",
    "\n",
    "unique_bcl_shoot_student = []\n",
    "\n",
    "for i in range(len(bcl_shoot_student)):\n",
    "    if ('bcl' in bcl_shoot_student[i] or 'bsl' in bcl_shoot_student[i] or 'chaatro league' in bcl_shoot_student[i] or 'chatro league' in bcl_shoot_student[i]\n",
    "       or 'Chhatra League' in bcl_shoot_student[i] or 'student league' in bcl_shoot_student[i] or 'chatra league' in bcl_shoot_student[i] or\n",
    "        'chattra league' in bcl_shoot_student[i]) and 'shoot' in bcl_shoot_student[i] and ('student' in bcl_shoot_student[i] or 'protester' in bcl_shoot_student or\n",
    "                                                                                       'school kids' in bcl_shoot_student or 'teenage' in bcl_shoot_student):\n",
    "        unique_bcl_shoot_student.append(bcl_shoot_student[i])\n",
    "\n",
    "len(unique_bcl_shoot_student)\n",
    "\n",
    "freq_bcl_shoot_students = len(unique_bcl_shoot_student) / len(bcl_shoot_student) * 100"
   ]
  },
  {
   "cell_type": "code",
   "execution_count": 97,
   "metadata": {},
   "outputs": [
    {
     "data": {
      "text/plain": [
       "0.08321065096332331"
      ]
     },
     "execution_count": 97,
     "metadata": {},
     "output_type": "execute_result"
    }
   ],
   "source": [
    "freq_bcl_shoot_students"
   ]
  },
  {
   "cell_type": "code",
   "execution_count": null,
   "metadata": {},
   "outputs": [],
   "source": []
  },
  {
   "cell_type": "code",
   "execution_count": 98,
   "metadata": {},
   "outputs": [],
   "source": [
    "bcl_shoot_boy = np.concatenate([bcl,shoot,boy],axis=0)\n",
    "\n",
    "bcl_shoot_boy = np.array(list(set(bcl_shoot_boy)))\n",
    "\n",
    "for i in range(len(bcl_shoot_boy)):\n",
    "    bcl_shoot_boy[i] = bcl_shoot_boy[i].lower()\n",
    "\n",
    "unique_bcl_shoot_boy = []\n",
    "\n",
    "for i in range(len(bcl_shoot_boy)):\n",
    "    if ('bcl' in bcl_shoot_boy[i] or 'bsl' in bcl_shoot_boy[i] or 'chaatro league' in bcl_shoot_boy[i] or\n",
    "        'chatro league' in bcl_shoot_boy[i] or 'Chhatra League' in bcl_shoot_boy[i] or 'student league' in bcl_shoot_boy[i] or \n",
    "        'chatra league' in bcl_shoot_boy[i] or 'chattra league' in bcl_shoot_boy[i]) and 'shoot' in bcl_shoot_boy[i] and 'boy' in bcl_shoot_boy[i] :\n",
    "        \n",
    "        unique_bcl_shoot_boy.append(bcl_shoot_boy[i])\n",
    "\n",
    "freq_bcl_shoot_boy = len(unique_bcl_shoot_boy) / len(bcl_shoot_boy) * 100"
   ]
  },
  {
   "cell_type": "code",
   "execution_count": 99,
   "metadata": {},
   "outputs": [
    {
     "data": {
      "text/plain": [
       "0.14478764478764478"
      ]
     },
     "execution_count": 99,
     "metadata": {},
     "output_type": "execute_result"
    }
   ],
   "source": [
    "freq_bcl_shoot_boy"
   ]
  },
  {
   "cell_type": "code",
   "execution_count": null,
   "metadata": {},
   "outputs": [],
   "source": []
  },
  {
   "cell_type": "code",
   "execution_count": 100,
   "metadata": {},
   "outputs": [],
   "source": [
    "bcl_shoot_girl = np.concatenate([bcl,shoot,girl],axis=0)\n",
    "\n",
    "bcl_shoot_girl = np.array(list(set(bcl_shoot_girl)))\n",
    "\n",
    "for i in range(len(bcl_shoot_girl)):\n",
    "    bcl_shoot_girl[i] = bcl_shoot_girl[i].lower()\n",
    "\n",
    "unique_bcl_shoot_girl = []\n",
    "\n",
    "for i in range(len(bcl_shoot_girl)):\n",
    "    if ('bcl' in bcl_shoot_girl[i] or 'bsl' in bcl_shoot_girl[i] or 'chaatro league' in bcl_shoot_girl[i] or\n",
    "        'chatro league' in bcl_shoot_girl[i] or 'Chhatra League' in bcl_shoot_girl[i] or 'student league' in bcl_shoot_girl[i] or \n",
    "        'chatra league' in bcl_shoot_girl[i] or 'chattra league' in bcl_shoot_girl[i]) and 'shoot' in bcl_shoot_girl[i] and 'girl' in bcl_shoot_girl[i] :\n",
    "        \n",
    "        unique_bcl_shoot_girl.append(bcl_shoot_girl[i])\n",
    "\n",
    "freq_bcl_shoot_girl = len(unique_bcl_shoot_girl) / len(bcl_shoot_girl) * 100"
   ]
  },
  {
   "cell_type": "code",
   "execution_count": 101,
   "metadata": {},
   "outputs": [
    {
     "data": {
      "text/plain": [
       "0.16135538523598225"
      ]
     },
     "execution_count": 101,
     "metadata": {},
     "output_type": "execute_result"
    }
   ],
   "source": [
    "freq_bcl_shoot_girl"
   ]
  },
  {
   "cell_type": "code",
   "execution_count": null,
   "metadata": {},
   "outputs": [],
   "source": []
  },
  {
   "cell_type": "code",
   "execution_count": 102,
   "metadata": {},
   "outputs": [],
   "source": [
    "bcl_shoot_journalist = np.concatenate([bcl,shoot,journalist],axis=0)\n",
    "\n",
    "bcl_shoot_journalist = np.array(list(set(bcl_shoot_journalist)))\n",
    "\n",
    "for i in range(len(bcl_shoot_journalist)):\n",
    "    bcl_shoot_journalist[i] = bcl_shoot_journalist[i].lower()\n",
    "\n",
    "unique_bcl_shoot_journalist = []\n",
    "\n",
    "for i in range(len(bcl_shoot_journalist)):\n",
    "    if ('bcl' in bcl_shoot_journalist[i] or 'bsl' in bcl_shoot_journalist[i] or 'chaatro league' in bcl_shoot_journalist[i] or\n",
    "        'chatro league' in bcl_shoot_journalist[i] or 'Chhatra League' in bcl_shoot_journalist[i] or 'student league' in bcl_shoot_journalist[i] or \n",
    "        'chatra league' in bcl_shoot_journalist[i] or 'chattra league' in bcl_shoot_journalist[i]) and 'shoot' in bcl_shoot_journalist[i] and 'journalist' in bcl_shoot_journalist[i] :\n",
    "        \n",
    "        unique_bcl_shoot_journalist.append(bcl_shoot_journalist[i])\n",
    "\n",
    "freq_bcl_shoot_journalist = len(unique_bcl_shoot_journalist) / len(bcl_shoot_journalist) * 100"
   ]
  },
  {
   "cell_type": "code",
   "execution_count": 103,
   "metadata": {},
   "outputs": [
    {
     "data": {
      "text/plain": [
       "0.0"
      ]
     },
     "execution_count": 103,
     "metadata": {},
     "output_type": "execute_result"
    }
   ],
   "source": [
    "freq_bcl_shoot_journalist"
   ]
  },
  {
   "cell_type": "code",
   "execution_count": null,
   "metadata": {},
   "outputs": [],
   "source": []
  },
  {
   "cell_type": "code",
   "execution_count": 104,
   "metadata": {},
   "outputs": [],
   "source": [
    "govt_shoot_journalist = np.concatenate([govt,shoot,journalist],axis=0)\n",
    "\n",
    "govt_shoot_journalist = np.array(list(set(govt_shoot_journalist)))\n",
    "\n",
    "for i in range(len(govt_shoot_journalist)):\n",
    "    govt_shoot_journalist[i] = govt_shoot_journalist[i].lower()\n",
    "\n",
    "unique_govt_shoot_journalist = []\n",
    "\n",
    "for i in range(len(govt_shoot_journalist)):\n",
    "    if ('government' in govt_shoot_journalist[i] or 'govt' in govt_shoot_journalist[i] or 'Ruling party supporter' in govt_shoot_journalist[i]\n",
    "       or 'political leader' in govt_shoot_journalist[i] or 'government party' in govt_shoot_journalist[i] or\n",
    "       'Pro government supporter' in govt_shoot_journalist[i] or 'awami league' in govt_shoot_journalist[i]) and 'shoot' in govt_shoot_journalist[i] and 'journalist' in govt_shoot_journalist[i] :\n",
    "        \n",
    "        unique_govt_shoot_journalist.append(govt_shoot_journalist[i])\n",
    "\n",
    "freq_govt_shoot_journalist = len(unique_govt_shoot_journalist) / len(govt_shoot_journalist) * 100"
   ]
  },
  {
   "cell_type": "code",
   "execution_count": 105,
   "metadata": {},
   "outputs": [
    {
     "data": {
      "text/plain": [
       "0.0"
      ]
     },
     "execution_count": 105,
     "metadata": {},
     "output_type": "execute_result"
    }
   ],
   "source": [
    "freq_govt_shoot_journalist"
   ]
  },
  {
   "cell_type": "code",
   "execution_count": null,
   "metadata": {},
   "outputs": [],
   "source": []
  },
  {
   "cell_type": "code",
   "execution_count": 106,
   "metadata": {},
   "outputs": [],
   "source": [
    "govt_shoot_boy = np.concatenate([govt,shoot,boy],axis=0)\n",
    "\n",
    "govt_shoot_boy = np.array(list(set(govt_shoot_boy)))\n",
    "\n",
    "for i in range(len(govt_shoot_boy)):\n",
    "    govt_shoot_boy[i] = govt_shoot_boy[i].lower()\n",
    "\n",
    "unique_govt_shoot_boy = []\n",
    "\n",
    "for i in range(len(govt_shoot_boy)):\n",
    "    if ('government' in govt_shoot_boy[i] or 'govt' in govt_shoot_boy[i] or 'Ruling party supporter' in govt_shoot_boy[i]\n",
    "       or 'political leader' in govt_shoot_boy[i] or 'government party' in govt_shoot_boy[i] or\n",
    "       'Pro government supporter' in govt_shoot_boy[i] or 'awami league' in govt_shoot_boy[i]) and 'shoot' in govt_shoot_boy[i] and 'boy' in govt_shoot_boy[i] :\n",
    "        \n",
    "        unique_govt_shoot_boy.append(govt_shoot_boy[i])\n",
    "\n",
    "freq_govt_shoot_boy = len(unique_govt_shoot_boy) / len(govt_shoot_boy) * 100"
   ]
  },
  {
   "cell_type": "code",
   "execution_count": 107,
   "metadata": {},
   "outputs": [
    {
     "data": {
      "text/plain": [
       "0.029940119760479042"
      ]
     },
     "execution_count": 107,
     "metadata": {},
     "output_type": "execute_result"
    }
   ],
   "source": [
    "freq_govt_shoot_boy"
   ]
  },
  {
   "cell_type": "code",
   "execution_count": null,
   "metadata": {},
   "outputs": [],
   "source": []
  },
  {
   "cell_type": "code",
   "execution_count": 108,
   "metadata": {},
   "outputs": [],
   "source": [
    "govt_shoot_girl = np.concatenate([govt,shoot,girl],axis=0)\n",
    "\n",
    "govt_shoot_girl = np.array(list(set(govt_shoot_girl)))\n",
    "\n",
    "for i in range(len(govt_shoot_girl)):\n",
    "    govt_shoot_girl[i] = govt_shoot_girl[i].lower()\n",
    "\n",
    "unique_govt_shoot_girl = []\n",
    "\n",
    "for i in range(len(govt_shoot_girl)):\n",
    "    if ('government' in govt_shoot_girl[i] or 'govt' in govt_shoot_girl[i] or 'Ruling party supporter' in govt_shoot_girl[i]\n",
    "       or 'political leader' in govt_shoot_girl[i] or 'government party' in govt_shoot_girl[i] or\n",
    "       'Pro government supporter' in govt_shoot_girl[i] or 'awami league' in govt_shoot_girl[i]) and 'shoot' in govt_shoot_girl[i] and 'girl' in govt_shoot_girl[i] :\n",
    "        \n",
    "        unique_govt_shoot_girl.append(govt_shoot_girl[i])\n",
    "\n",
    "freq_govt_shoot_girl = len(unique_govt_shoot_girl) / len(govt_shoot_girl) * 100"
   ]
  },
  {
   "cell_type": "code",
   "execution_count": 110,
   "metadata": {},
   "outputs": [
    {
     "data": {
      "text/plain": [
       "0.04283878337855205"
      ]
     },
     "execution_count": 110,
     "metadata": {},
     "output_type": "execute_result"
    }
   ],
   "source": [
    "freq_govt_shoot_girl"
   ]
  },
  {
   "cell_type": "code",
   "execution_count": null,
   "metadata": {},
   "outputs": [],
   "source": []
  },
  {
   "cell_type": "code",
   "execution_count": 111,
   "metadata": {},
   "outputs": [],
   "source": [
    "govt_shoot_student = np.concatenate([govt,shoot,student],axis=0)\n",
    "\n",
    "govt_shoot_student = np.array(list(set(govt_shoot_student)))\n",
    "\n",
    "for i in range(len(govt_shoot_student)):\n",
    "    govt_shoot_student[i] = govt_shoot_student[i].lower()\n",
    "\n",
    "unique_govt_shoot_student = []\n",
    "\n",
    "for i in range(len(govt_shoot_student)):\n",
    "    if ('government' in govt_shoot_student[i] or 'govt' in govt_shoot_student[i] or 'Ruling party supporter' in govt_shoot_student[i]\n",
    "       or 'political leader' in govt_shoot_student[i] or 'government party' in govt_shoot_student[i] or\n",
    "       'Pro government supporter' in govt_shoot_student[i] or 'awami league' in govt_shoot_student[i]) and 'shoot' in govt_shoot_student[i] and ('student' in govt_shoot_student[i] or 'protester' in govt_shoot_student or\n",
    "                                                                                       'school kids' in govt_shoot_student or 'teenage' in govt_shoot_student) :\n",
    "        \n",
    "        unique_govt_shoot_student.append(govt_shoot_student[i])\n",
    "\n",
    "freq_govt_shoot_student = len(unique_govt_shoot_student) / len(govt_shoot_student) * 100"
   ]
  },
  {
   "cell_type": "code",
   "execution_count": 112,
   "metadata": {},
   "outputs": [
    {
     "data": {
      "text/plain": [
       "0.09684643786695721"
      ]
     },
     "execution_count": 112,
     "metadata": {},
     "output_type": "execute_result"
    }
   ],
   "source": [
    "freq_govt_shoot_student"
   ]
  },
  {
   "cell_type": "code",
   "execution_count": null,
   "metadata": {},
   "outputs": [],
   "source": []
  },
  {
   "cell_type": "code",
   "execution_count": 113,
   "metadata": {},
   "outputs": [],
   "source": [
    "rape = np.array(pd.read_excel('.\\\\verb\\\\rape.xlsx')['text'])\n",
    "\n",
    "bcl_rape_student = np.concatenate([bcl,rape,student],axis=0)\n",
    "\n",
    "bcl_rape_student = np.array(list(set(bcl_rape_student)))\n",
    "\n",
    "len(bcl_rape_student)\n",
    "\n",
    "for i in range(len(bcl_rape_student)):\n",
    "    bcl_rape_student[i] = bcl_rape_student[i].lower()\n",
    "\n",
    "unique_bcl_rape_student = []\n",
    "\n",
    "for i in range(len(bcl_rape_student)):\n",
    "    if ('bcl' in bcl_rape_student[i] or 'bsl' in bcl_rape_student[i] or 'chaatro league' in bcl_rape_student[i] or 'chatro league' in bcl_rape_student[i]\n",
    "       or 'Chhatra League' in bcl_rape_student[i] or 'student league' in bcl_rape_student[i] or 'chatra league' in bcl_rape_student[i] or\n",
    "        'chattra league' in bcl_rape_student[i]) and 'rape' in bcl_rape_student[i] and ('student' in bcl_rape_student[i] or 'protester' in bcl_rape_student or\n",
    "                                                                                       'school kids' in bcl_rape_student or 'teenage' in bcl_rape_student):\n",
    "        unique_bcl_rape_student.append(bcl_rape_student[i])\n",
    "\n",
    "len(unique_bcl_rape_student)\n",
    "\n",
    "freq_bcl_rape_students = len(unique_bcl_rape_student) / len(bcl_rape_student) * 100"
   ]
  },
  {
   "cell_type": "code",
   "execution_count": 114,
   "metadata": {},
   "outputs": [
    {
     "data": {
      "text/plain": [
       "2.103630158237667"
      ]
     },
     "execution_count": 114,
     "metadata": {},
     "output_type": "execute_result"
    }
   ],
   "source": [
    "freq_bcl_rape_students"
   ]
  },
  {
   "cell_type": "code",
   "execution_count": 115,
   "metadata": {},
   "outputs": [],
   "source": [
    "bcl_rape_boy = np.concatenate([bcl,rape,boy],axis=0)\n",
    "\n",
    "bcl_rape_boy = np.array(list(set(bcl_rape_boy)))\n",
    "\n",
    "len(bcl_rape_boy)\n",
    "\n",
    "for i in range(len(bcl_rape_boy)):\n",
    "    bcl_rape_boy[i] = bcl_rape_boy[i].lower()\n",
    "\n",
    "unique_bcl_rape_boy = []\n",
    "\n",
    "for i in range(len(bcl_rape_boy)):\n",
    "    if ('bcl' in bcl_rape_boy[i] or 'bsl' in bcl_rape_boy[i] or 'chaatro league' in bcl_rape_boy[i] or 'chatro league' in bcl_rape_boy[i]\n",
    "       or 'Chhatra League' in bcl_rape_boy[i] or 'boy league' in bcl_rape_boy[i] or 'chatra league' in bcl_rape_boy[i] or\n",
    "        'chattra league' in bcl_rape_boy[i]) and 'rape' in bcl_rape_boy[i] and 'boy' in bcl_rape_boy[i] :\n",
    "        unique_bcl_rape_boy.append(bcl_rape_boy[i])\n",
    "\n",
    "len(unique_bcl_rape_boy)\n",
    "\n",
    "freq_bcl_rape_boys = len(unique_bcl_rape_boy) / len(bcl_rape_boy) * 100"
   ]
  },
  {
   "cell_type": "code",
   "execution_count": 116,
   "metadata": {},
   "outputs": [
    {
     "data": {
      "text/plain": [
       "0.37914691943127965"
      ]
     },
     "execution_count": 116,
     "metadata": {},
     "output_type": "execute_result"
    }
   ],
   "source": [
    "freq_bcl_rape_boys"
   ]
  },
  {
   "cell_type": "code",
   "execution_count": null,
   "metadata": {},
   "outputs": [],
   "source": []
  },
  {
   "cell_type": "code",
   "execution_count": 117,
   "metadata": {},
   "outputs": [],
   "source": [
    "bcl_rape_girl = np.concatenate([bcl,rape,girl],axis=0)\n",
    "\n",
    "bcl_rape_girl = np.array(list(set(bcl_rape_girl)))\n",
    "\n",
    "len(bcl_rape_girl)\n",
    "\n",
    "for i in range(len(bcl_rape_girl)):\n",
    "    bcl_rape_girl[i] = bcl_rape_girl[i].lower()\n",
    "\n",
    "unique_bcl_rape_girl = []\n",
    "\n",
    "for i in range(len(bcl_rape_girl)):\n",
    "    if ('bcl' in bcl_rape_girl[i] or 'bsl' in bcl_rape_girl[i] or 'chaatro league' in bcl_rape_girl[i] or 'chatro league' in bcl_rape_girl[i]\n",
    "       or 'Chhatra League' in bcl_rape_girl[i] or 'girl league' in bcl_rape_girl[i] or 'chatra league' in bcl_rape_girl[i] or\n",
    "        'chattra league' in bcl_rape_girl[i]) and 'rape' in bcl_rape_girl[i] and 'girl' in bcl_rape_girl[i] :\n",
    "        unique_bcl_rape_girl.append(bcl_rape_girl[i])\n",
    "\n",
    "len(unique_bcl_rape_girl)\n",
    "\n",
    "freq_bcl_rape_girls = len(unique_bcl_rape_girl) / len(bcl_rape_girl) * 100"
   ]
  },
  {
   "cell_type": "code",
   "execution_count": 118,
   "metadata": {},
   "outputs": [
    {
     "data": {
      "text/plain": [
       "2.937692489931296"
      ]
     },
     "execution_count": 118,
     "metadata": {},
     "output_type": "execute_result"
    }
   ],
   "source": [
    "freq_bcl_rape_girls"
   ]
  },
  {
   "cell_type": "code",
   "execution_count": null,
   "metadata": {},
   "outputs": [],
   "source": []
  },
  {
   "cell_type": "code",
   "execution_count": 119,
   "metadata": {},
   "outputs": [],
   "source": [
    "rape = np.array(pd.read_excel('.\\\\verb\\\\rape.xlsx')['text'])\n",
    "\n",
    "bcl_rape_journalist = np.concatenate([bcl,rape,journalist],axis=0)\n",
    "\n",
    "bcl_rape_journalist = np.array(list(set(bcl_rape_journalist)))\n",
    "\n",
    "len(bcl_rape_journalist)\n",
    "\n",
    "for i in range(len(bcl_rape_journalist)):\n",
    "    bcl_rape_journalist[i] = bcl_rape_journalist[i].lower()\n",
    "\n",
    "unique_bcl_rape_journalist = []\n",
    "\n",
    "for i in range(len(bcl_rape_journalist)):\n",
    "    if ('bcl' in bcl_rape_journalist[i] or 'bsl' in bcl_rape_journalist[i] or 'chaatro league' in bcl_rape_journalist[i] or 'chatro league' in bcl_rape_journalist[i]\n",
    "       or 'Chhatra League' in bcl_rape_journalist[i] or 'journalist league' in bcl_rape_journalist[i] or 'chatra league' in bcl_rape_journalist[i] or\n",
    "        'chattra league' in bcl_rape_journalist[i]) and 'rape' in bcl_rape_journalist[i] and 'journalist' in bcl_rape_journalist[i] :\n",
    "        unique_bcl_rape_journalist.append(bcl_rape_journalist[i])\n",
    "\n",
    "len(unique_bcl_rape_journalist)\n",
    "\n",
    "freq_bcl_rape_journalists = len(unique_bcl_rape_journalist) / len(bcl_rape_journalist) * 100"
   ]
  },
  {
   "cell_type": "code",
   "execution_count": 120,
   "metadata": {},
   "outputs": [
    {
     "data": {
      "text/plain": [
       "0.0"
      ]
     },
     "execution_count": 120,
     "metadata": {},
     "output_type": "execute_result"
    }
   ],
   "source": [
    "freq_bcl_rape_journalists"
   ]
  },
  {
   "cell_type": "code",
   "execution_count": null,
   "metadata": {},
   "outputs": [],
   "source": []
  },
  {
   "cell_type": "code",
   "execution_count": 122,
   "metadata": {},
   "outputs": [],
   "source": [
    "govt_rape_journalist = np.concatenate([govt,rape,journalist],axis=0)\n",
    "\n",
    "govt_rape_journalist = np.array(list(set(govt_rape_journalist)))\n",
    "\n",
    "len(govt_rape_journalist)\n",
    "\n",
    "for i in range(len(govt_rape_journalist)):\n",
    "    govt_rape_journalist[i] = govt_rape_journalist[i].lower()\n",
    "\n",
    "unique_govt_rape_journalist = []\n",
    "\n",
    "for i in range(len(govt_rape_journalist)):\n",
    "    if ('government' in govt_rape_journalist[i] or 'govt' in govt_rape_journalist[i] or 'Ruling party supporter' in govt_rape_journalist[i]\n",
    "       or 'political leader' in govt_rape_journalist[i] or 'government party' in govt_rape_journalist[i] or\n",
    "       'Pro government supporter' in govt_rape_journalist[i] or 'awami league' in govt_rape_journalist[i]) and 'rape' in govt_rape_journalist[i] and 'journalist' in govt_rape_journalist[i] :\n",
    "        unique_govt_rape_journalist.append(govt_rape_journalist[i])\n",
    "\n",
    "len(unique_govt_rape_journalist)\n",
    "\n",
    "freq_govt_rape_journalists = len(unique_govt_rape_journalist) / len(govt_rape_journalist) * 100"
   ]
  },
  {
   "cell_type": "code",
   "execution_count": 124,
   "metadata": {},
   "outputs": [
    {
     "data": {
      "text/plain": [
       "0.023199164830066118"
      ]
     },
     "execution_count": 124,
     "metadata": {},
     "output_type": "execute_result"
    }
   ],
   "source": [
    "freq_govt_rape_journalists"
   ]
  },
  {
   "cell_type": "code",
   "execution_count": null,
   "metadata": {},
   "outputs": [],
   "source": []
  },
  {
   "cell_type": "code",
   "execution_count": 125,
   "metadata": {},
   "outputs": [],
   "source": [
    "govt_rape_boy = np.concatenate([govt,rape,boy],axis=0)\n",
    "\n",
    "govt_rape_boy = np.array(list(set(govt_rape_boy)))\n",
    "\n",
    "len(govt_rape_boy)\n",
    "\n",
    "for i in range(len(govt_rape_boy)):\n",
    "    govt_rape_boy[i] = govt_rape_boy[i].lower()\n",
    "\n",
    "unique_govt_rape_boy = []\n",
    "\n",
    "for i in range(len(govt_rape_boy)):\n",
    "    if ('government' in govt_rape_boy[i] or 'govt' in govt_rape_boy[i] or 'Ruling party supporter' in govt_rape_boy[i]\n",
    "       or 'political leader' in govt_rape_boy[i] or 'government party' in govt_rape_boy[i] or\n",
    "       'Pro government supporter' in govt_rape_boy[i] or 'awami league' in govt_rape_boy[i]) and 'rape' in govt_rape_boy[i] and 'boy' in govt_rape_boy[i] :\n",
    "        unique_govt_rape_boy.append(govt_rape_boy[i])\n",
    "\n",
    "len(unique_govt_rape_boy)\n",
    "\n",
    "freq_govt_rape_boys = len(unique_govt_rape_boy) / len(govt_rape_boy) * 100"
   ]
  },
  {
   "cell_type": "code",
   "execution_count": 126,
   "metadata": {},
   "outputs": [
    {
     "data": {
      "text/plain": [
       "0.35534860923906386"
      ]
     },
     "execution_count": 126,
     "metadata": {},
     "output_type": "execute_result"
    }
   ],
   "source": [
    "freq_govt_rape_boys"
   ]
  },
  {
   "cell_type": "code",
   "execution_count": null,
   "metadata": {},
   "outputs": [],
   "source": []
  },
  {
   "cell_type": "code",
   "execution_count": 127,
   "metadata": {},
   "outputs": [],
   "source": [
    "govt_rape_girl = np.concatenate([govt,rape,girl],axis=0)\n",
    "\n",
    "govt_rape_girl = np.array(list(set(govt_rape_girl)))\n",
    "\n",
    "len(govt_rape_girl)\n",
    "\n",
    "for i in range(len(govt_rape_girl)):\n",
    "    govt_rape_girl[i] = govt_rape_girl[i].lower()\n",
    "\n",
    "unique_govt_rape_girl = []\n",
    "\n",
    "for i in range(len(govt_rape_girl)):\n",
    "    if ('government' in govt_rape_girl[i] or 'govt' in govt_rape_girl[i] or 'Ruling party supporter' in govt_rape_girl[i]\n",
    "       or 'political leader' in govt_rape_girl[i] or 'government party' in govt_rape_girl[i] or\n",
    "       'Pro government supporter' in govt_rape_girl[i] or 'awami league' in govt_rape_girl[i]) and 'rape' in govt_rape_girl[i] and 'girl' in govt_rape_girl[i] :\n",
    "        unique_govt_rape_girl.append(govt_rape_girl[i])\n",
    "\n",
    "len(unique_govt_rape_girl)\n",
    "\n",
    "freq_govt_rape_girls = len(unique_govt_rape_girl) / len(govt_rape_girl) * 100"
   ]
  },
  {
   "cell_type": "code",
   "execution_count": 128,
   "metadata": {},
   "outputs": [
    {
     "data": {
      "text/plain": [
       "2.5319567354965584"
      ]
     },
     "execution_count": 128,
     "metadata": {},
     "output_type": "execute_result"
    }
   ],
   "source": [
    "freq_govt_rape_girls"
   ]
  },
  {
   "cell_type": "code",
   "execution_count": null,
   "metadata": {},
   "outputs": [],
   "source": []
  },
  {
   "cell_type": "code",
   "execution_count": 129,
   "metadata": {},
   "outputs": [],
   "source": [
    "govt_rape_student = np.concatenate([govt,rape,student],axis=0)\n",
    "\n",
    "govt_rape_student = np.array(list(set(govt_rape_student)))\n",
    "\n",
    "len(govt_rape_student)\n",
    "\n",
    "for i in range(len(govt_rape_student)):\n",
    "    govt_rape_student[i] = govt_rape_student[i].lower()\n",
    "\n",
    "unique_govt_rape_student = []\n",
    "\n",
    "for i in range(len(govt_rape_student)):\n",
    "    if ('government' in govt_rape_student[i] or 'govt' in govt_rape_student[i] or 'Ruling party supporter' in govt_rape_student[i]\n",
    "       or 'political leader' in govt_rape_student[i] or 'government party' in govt_rape_student[i] or\n",
    "       'Pro government supporter' in govt_rape_student[i] or 'awami league' in govt_rape_student[i]) and 'rape' in govt_rape_student[i] and ('student' in govt_rape_student[i] or 'protester' in govt_rape_student or\n",
    "                                                                                       'school kids' in govt_rape_student or 'teenage' in govt_rape_student) :\n",
    "        unique_govt_rape_student.append(govt_rape_student[i])\n",
    "\n",
    "len(unique_govt_rape_student)\n",
    "\n",
    "freq_govt_rape_students = len(unique_govt_rape_student) / len(govt_rape_student) * 100"
   ]
  },
  {
   "cell_type": "code",
   "execution_count": 130,
   "metadata": {},
   "outputs": [
    {
     "data": {
      "text/plain": [
       "5.344776561112755"
      ]
     },
     "execution_count": 130,
     "metadata": {},
     "output_type": "execute_result"
    }
   ],
   "source": [
    "freq_govt_rape_students"
   ]
  },
  {
   "cell_type": "code",
   "execution_count": null,
   "metadata": {},
   "outputs": [],
   "source": []
  },
  {
   "cell_type": "code",
   "execution_count": 164,
   "metadata": {},
   "outputs": [],
   "source": [
    "torture = np.array(pd.read_excel('.\\\\verb\\\\torture.xlsx')['text'])\n",
    "\n",
    "bcl_torture_student = np.concatenate([bcl,torture,student],axis=0)\n",
    "\n",
    "bcl_torture_student = np.array(list(set(bcl_torture_student)))\n",
    "\n",
    "len(bcl_torture_student)\n",
    "\n",
    "for i in range(len(bcl_torture_student)):\n",
    "    bcl_torture_student[i] = bcl_torture_student[i].lower()\n",
    "\n",
    "unique_bcl_torture_student = []\n",
    "\n",
    "for i in range(len(bcl_torture_student)):\n",
    "    if ('bcl' in bcl_torture_student[i] or 'bsl' in bcl_torture_student[i] or 'chaatro league' in bcl_torture_student[i] or 'chatro league' in bcl_torture_student[i]\n",
    "       or 'Chhatra League' in bcl_torture_student[i] or 'student league' in bcl_torture_student[i] or 'chatra league' in bcl_torture_student[i] or\n",
    "        'chattra league' in bcl_torture_student[i]) and ('torture' in bcl_torture_student[i] or 'assault' in bcl_torture_student[i] or 'beat' in bcl_torture_student[i]) and ('student' in bcl_torture_student[i] or 'protester' in bcl_torture_student or\n",
    "                                                                                       'school kids' in bcl_torture_student or 'teenage' in bcl_torture_student):\n",
    "        unique_bcl_torture_student.append(bcl_torture_student[i])\n",
    "\n",
    "len(unique_bcl_torture_student)\n",
    "\n",
    "freq_bcl_torture_students = len(unique_bcl_torture_student) / len(bcl_torture_student) * 100"
   ]
  },
  {
   "cell_type": "code",
   "execution_count": 165,
   "metadata": {},
   "outputs": [
    {
     "data": {
      "text/plain": [
       "1.175007771215418"
      ]
     },
     "execution_count": 165,
     "metadata": {},
     "output_type": "execute_result"
    }
   ],
   "source": [
    "freq_bcl_torture_students"
   ]
  },
  {
   "cell_type": "code",
   "execution_count": null,
   "metadata": {},
   "outputs": [],
   "source": []
  },
  {
   "cell_type": "code",
   "execution_count": 167,
   "metadata": {},
   "outputs": [],
   "source": [
    "bcl_torture_boy = np.concatenate([bcl,torture,boy],axis=0)\n",
    "\n",
    "bcl_torture_boy = np.array(list(set(bcl_torture_boy)))\n",
    "\n",
    "len(bcl_torture_boy)\n",
    "\n",
    "for i in range(len(bcl_torture_boy)):\n",
    "    bcl_torture_boy[i] = bcl_torture_boy[i].lower()\n",
    "\n",
    "unique_bcl_torture_boy = []\n",
    "\n",
    "for i in range(len(bcl_torture_boy)):\n",
    "    if ('bcl' in bcl_torture_boy[i] or 'bsl' in bcl_torture_boy[i] or 'chaatro league' in bcl_torture_boy[i] or 'chatro league' in bcl_torture_boy[i]\n",
    "       or 'Chhatra League' in bcl_torture_boy[i] or 'boy league' in bcl_torture_boy[i] or 'chatra league' in bcl_torture_boy[i] or\n",
    "        'chattra league' in bcl_torture_boy[i]) and ('torture' in bcl_torture_boy[i] or 'assault' in bcl_torture_boy[i] or 'beat' in bcl_torture_boy[i]) and 'boy' in bcl_torture_boy[i]:\n",
    "        unique_bcl_torture_boy.append(bcl_torture_boy[i])\n",
    "\n",
    "len(unique_bcl_torture_boy)\n",
    "\n",
    "freq_bcl_torture_boys = len(unique_bcl_torture_boy) / len(bcl_torture_boy) * 100"
   ]
  },
  {
   "cell_type": "code",
   "execution_count": 168,
   "metadata": {},
   "outputs": [
    {
     "data": {
      "text/plain": [
       "0.11574074074074073"
      ]
     },
     "execution_count": 168,
     "metadata": {},
     "output_type": "execute_result"
    }
   ],
   "source": [
    "freq_bcl_torture_boys"
   ]
  },
  {
   "cell_type": "code",
   "execution_count": null,
   "metadata": {},
   "outputs": [],
   "source": []
  },
  {
   "cell_type": "code",
   "execution_count": 169,
   "metadata": {},
   "outputs": [],
   "source": [
    "bcl_torture_girl = np.concatenate([bcl,torture,girl],axis=0)\n",
    "\n",
    "bcl_torture_girl = np.array(list(set(bcl_torture_girl)))\n",
    "\n",
    "len(bcl_torture_girl)\n",
    "\n",
    "for i in range(len(bcl_torture_girl)):\n",
    "    bcl_torture_girl[i] = bcl_torture_girl[i].lower()\n",
    "\n",
    "unique_bcl_torture_girl = []\n",
    "\n",
    "for i in range(len(bcl_torture_girl)):\n",
    "    if ('bcl' in bcl_torture_girl[i] or 'bsl' in bcl_torture_girl[i] or 'chaatro league' in bcl_torture_girl[i] or 'chatro league' in bcl_torture_girl[i]\n",
    "       or 'Chhatra League' in bcl_torture_girl[i] or 'girl league' in bcl_torture_girl[i] or 'chatra league' in bcl_torture_girl[i] or\n",
    "        'chattra league' in bcl_torture_girl[i]) and ('torture' in bcl_torture_girl[i] or 'assault' in bcl_torture_girl[i] or 'beat' in bcl_torture_girl[i]) and 'girl' in bcl_torture_girl[i]:\n",
    "        unique_bcl_torture_girl.append(bcl_torture_girl[i])\n",
    "\n",
    "len(unique_bcl_torture_girl)\n",
    "\n",
    "freq_bcl_torture_girls = len(unique_bcl_torture_girl) / len(bcl_torture_girl) * 100"
   ]
  },
  {
   "cell_type": "code",
   "execution_count": 170,
   "metadata": {},
   "outputs": [
    {
     "data": {
      "text/plain": [
       "0.39556962025316456"
      ]
     },
     "execution_count": 170,
     "metadata": {},
     "output_type": "execute_result"
    }
   ],
   "source": [
    "freq_bcl_torture_girls"
   ]
  },
  {
   "cell_type": "code",
   "execution_count": null,
   "metadata": {},
   "outputs": [],
   "source": []
  },
  {
   "cell_type": "code",
   "execution_count": 171,
   "metadata": {},
   "outputs": [],
   "source": [
    "bcl_torture_journalist = np.concatenate([bcl,torture,journalist],axis=0)\n",
    "\n",
    "bcl_torture_journalist = np.array(list(set(bcl_torture_journalist)))\n",
    "\n",
    "len(bcl_torture_journalist)\n",
    "\n",
    "for i in range(len(bcl_torture_journalist)):\n",
    "    bcl_torture_journalist[i] = bcl_torture_journalist[i].lower()\n",
    "\n",
    "unique_bcl_torture_journalist = []\n",
    "\n",
    "for i in range(len(bcl_torture_journalist)):\n",
    "    if ('bcl' in bcl_torture_journalist[i] or 'bsl' in bcl_torture_journalist[i] or 'chaatro league' in bcl_torture_journalist[i] or 'chatro league' in bcl_torture_journalist[i]\n",
    "       or 'Chhatra League' in bcl_torture_journalist[i] or 'journalist league' in bcl_torture_journalist[i] or 'chatra league' in bcl_torture_journalist[i] or\n",
    "        'chattra league' in bcl_torture_journalist[i]) and ('torture' in bcl_torture_journalist[i] or 'assault' in bcl_torture_journalist[i] or 'beat' in bcl_torture_journalist[i]) and 'journalist' in bcl_torture_journalist[i]:\n",
    "        unique_bcl_torture_journalist.append(bcl_torture_journalist[i])\n",
    "\n",
    "len(unique_bcl_torture_journalist)\n",
    "\n",
    "freq_bcl_torture_journalists = len(unique_bcl_torture_journalist) / len(bcl_torture_journalist) * 100"
   ]
  },
  {
   "cell_type": "code",
   "execution_count": 172,
   "metadata": {},
   "outputs": [
    {
     "data": {
      "text/plain": [
       "0.7896814951302974"
      ]
     },
     "execution_count": 172,
     "metadata": {},
     "output_type": "execute_result"
    }
   ],
   "source": [
    "freq_bcl_torture_journalists"
   ]
  },
  {
   "cell_type": "code",
   "execution_count": null,
   "metadata": {},
   "outputs": [],
   "source": []
  },
  {
   "cell_type": "code",
   "execution_count": 173,
   "metadata": {},
   "outputs": [],
   "source": [
    "govt_torture_student = np.concatenate([govt,torture,student],axis=0)\n",
    "\n",
    "govt_torture_student = np.array(list(set(govt_torture_student)))\n",
    "\n",
    "len(govt_torture_student)\n",
    "\n",
    "for i in range(len(govt_torture_student)):\n",
    "    govt_torture_student[i] = govt_torture_student[i].lower()\n",
    "\n",
    "unique_govt_torture_student = []\n",
    "\n",
    "for i in range(len(govt_torture_student)):\n",
    "    if ('government' in govt_torture_student[i] or 'govt' in govt_torture_student[i] or 'Ruling party supporter' in govt_torture_student[i]\n",
    "       or 'political leader' in govt_torture_student[i] or 'government party' in govt_torture_student[i] or\n",
    "       'Pro government supporter' in govt_torture_student[i] or 'awami league' in govt_torture_student[i]) and ('torture' in govt_torture_student[i] or 'assault' in govt_torture_student[i] or 'beat' in govt_torture_student[i]) and ('student' in govt_torture_student[i] or 'protester' in govt_torture_student or\n",
    "                                                                                       'school kids' in govt_torture_student or 'teenage' in govt_torture_student):\n",
    "        unique_govt_torture_student.append(govt_torture_student[i])\n",
    "\n",
    "len(unique_govt_torture_student)\n",
    "\n",
    "freq_govt_torture_students = len(unique_govt_torture_student) / len(govt_torture_student) * 100"
   ]
  },
  {
   "cell_type": "code",
   "execution_count": 174,
   "metadata": {},
   "outputs": [
    {
     "data": {
      "text/plain": [
       "2.481389578163772"
      ]
     },
     "execution_count": 174,
     "metadata": {},
     "output_type": "execute_result"
    }
   ],
   "source": [
    "freq_govt_torture_students"
   ]
  },
  {
   "cell_type": "code",
   "execution_count": null,
   "metadata": {},
   "outputs": [],
   "source": []
  },
  {
   "cell_type": "code",
   "execution_count": 175,
   "metadata": {},
   "outputs": [],
   "source": [
    "govt_torture_boy = np.concatenate([govt,torture,boy],axis=0)\n",
    "\n",
    "govt_torture_boy = np.array(list(set(govt_torture_boy)))\n",
    "\n",
    "len(govt_torture_boy)\n",
    "\n",
    "for i in range(len(govt_torture_boy)):\n",
    "    govt_torture_boy[i] = govt_torture_boy[i].lower()\n",
    "\n",
    "unique_govt_torture_boy = []\n",
    "\n",
    "for i in range(len(govt_torture_boy)):\n",
    "    if ('government' in govt_torture_boy[i] or 'govt' in govt_torture_boy[i] or 'Ruling party supporter' in govt_torture_boy[i]\n",
    "       or 'political leader' in govt_torture_boy[i] or 'government party' in govt_torture_boy[i] or\n",
    "       'Pro government supporter' in govt_torture_boy[i] or 'awami league' in govt_torture_boy[i]) and ('torture' in govt_torture_boy[i] or 'assault' in govt_torture_boy[i] or 'beat' in govt_torture_boy[i]) and 'boy' in govt_torture_boy[i] :\n",
    "        unique_govt_torture_boy.append(govt_torture_boy[i])\n",
    "\n",
    "len(unique_govt_torture_boy)\n",
    "\n",
    "freq_govt_torture_boys = len(unique_govt_torture_boy) / len(govt_torture_boy) * 100"
   ]
  },
  {
   "cell_type": "code",
   "execution_count": 176,
   "metadata": {},
   "outputs": [
    {
     "data": {
      "text/plain": [
       "0.15402387370042356"
      ]
     },
     "execution_count": 176,
     "metadata": {},
     "output_type": "execute_result"
    }
   ],
   "source": [
    "freq_govt_torture_boys"
   ]
  },
  {
   "cell_type": "code",
   "execution_count": null,
   "metadata": {},
   "outputs": [],
   "source": []
  },
  {
   "cell_type": "code",
   "execution_count": 177,
   "metadata": {},
   "outputs": [],
   "source": [
    "govt_torture_girl = np.concatenate([govt,torture,girl],axis=0)\n",
    "\n",
    "govt_torture_girl = np.array(list(set(govt_torture_girl)))\n",
    "\n",
    "len(govt_torture_girl)\n",
    "\n",
    "for i in range(len(govt_torture_girl)):\n",
    "    govt_torture_girl[i] = govt_torture_girl[i].lower()\n",
    "\n",
    "unique_govt_torture_girl = []\n",
    "\n",
    "for i in range(len(govt_torture_girl)):\n",
    "    if ('government' in govt_torture_girl[i] or 'govt' in govt_torture_girl[i] or 'Ruling party supporter' in govt_torture_girl[i]\n",
    "       or 'political leader' in govt_torture_girl[i] or 'government party' in govt_torture_girl[i] or\n",
    "       'Pro government supporter' in govt_torture_girl[i] or 'awami league' in govt_torture_girl[i]) and ('torture' in govt_torture_girl[i] or 'assault' in govt_torture_girl[i] or 'beat' in govt_torture_girl[i]) and 'girl' in govt_torture_girl[i] :\n",
    "        unique_govt_torture_girl.append(govt_torture_girl[i])\n",
    "\n",
    "len(unique_govt_torture_girl)\n",
    "\n",
    "freq_govt_torture_girls = len(unique_govt_torture_girl) / len(govt_torture_girl) * 100"
   ]
  },
  {
   "cell_type": "code",
   "execution_count": 178,
   "metadata": {},
   "outputs": [
    {
     "data": {
      "text/plain": [
       "0.4345666749441272"
      ]
     },
     "execution_count": 178,
     "metadata": {},
     "output_type": "execute_result"
    }
   ],
   "source": [
    "freq_govt_torture_girls"
   ]
  },
  {
   "cell_type": "code",
   "execution_count": null,
   "metadata": {},
   "outputs": [],
   "source": []
  },
  {
   "cell_type": "code",
   "execution_count": 179,
   "metadata": {},
   "outputs": [],
   "source": [
    "govt_torture_journalist = np.concatenate([govt,torture,journalist],axis=0)\n",
    "\n",
    "govt_torture_journalist = np.array(list(set(govt_torture_journalist)))\n",
    "\n",
    "len(govt_torture_journalist)\n",
    "\n",
    "for i in range(len(govt_torture_journalist)):\n",
    "    govt_torture_journalist[i] = govt_torture_journalist[i].lower()\n",
    "\n",
    "unique_govt_torture_journalist = []\n",
    "\n",
    "for i in range(len(govt_torture_journalist)):\n",
    "    if ('government' in govt_torture_journalist[i] or 'govt' in govt_torture_journalist[i] or 'Ruling party supporter' in govt_torture_journalist[i]\n",
    "       or 'political leader' in govt_torture_journalist[i] or 'government party' in govt_torture_journalist[i] or\n",
    "       'Pro government supporter' in govt_torture_journalist[i] or 'awami league' in govt_torture_journalist[i]) and ('torture' in govt_torture_journalist[i] or 'assault' in govt_torture_journalist[i] or 'beat' in govt_torture_journalist[i]) and 'journalist' in govt_torture_journalist[i] :\n",
    "        unique_govt_torture_journalist.append(govt_torture_journalist[i])\n",
    "\n",
    "len(unique_govt_torture_journalist)\n",
    "\n",
    "freq_govt_torture_journalists = len(unique_govt_torture_journalist) / len(govt_torture_journalist) * 100"
   ]
  },
  {
   "cell_type": "code",
   "execution_count": 181,
   "metadata": {},
   "outputs": [
    {
     "data": {
      "text/plain": [
       "0.29545734334605445"
      ]
     },
     "execution_count": 181,
     "metadata": {},
     "output_type": "execute_result"
    }
   ],
   "source": [
    "freq_govt_torture_journalists"
   ]
  },
  {
   "cell_type": "code",
   "execution_count": 183,
   "metadata": {},
   "outputs": [],
   "source": [
    "police_torture_student = np.concatenate([police,torture,student],axis=0)\n",
    "\n",
    "police_torture_student = np.array(list(set(police_torture_student)))\n",
    "\n",
    "len(police_torture_student)\n",
    "\n",
    "for i in range(len(police_torture_student)):\n",
    "    police_torture_student[i] = police_torture_student[i].lower()\n",
    "\n",
    "unique_police_torture_student = []\n",
    "\n",
    "for i in range(len(police_torture_student)):\n",
    "    if 'police' in police_torture_student[i]  and ('torture' in police_torture_student[i] or 'assault' in police_torture_student[i] or 'beat' in police_torture_student[i]) and ('student' in police_torture_student[i] or 'protester' in police_torture_student or\n",
    "                                                                                       'school kids' in police_torture_student or 'teenage' in police_torture_student):\n",
    "        unique_police_torture_student.append(police_torture_student[i])\n",
    "\n",
    "len(unique_police_torture_student)\n",
    "\n",
    "freq_police_torture_students = len(unique_police_torture_student) / len(police_torture_student) * 100"
   ]
  },
  {
   "cell_type": "code",
   "execution_count": 185,
   "metadata": {},
   "outputs": [
    {
     "data": {
      "text/plain": [
       "1.5760294026038746"
      ]
     },
     "execution_count": 185,
     "metadata": {},
     "output_type": "execute_result"
    }
   ],
   "source": [
    "freq_police_torture_students"
   ]
  },
  {
   "cell_type": "code",
   "execution_count": null,
   "metadata": {},
   "outputs": [],
   "source": []
  },
  {
   "cell_type": "code",
   "execution_count": 186,
   "metadata": {},
   "outputs": [],
   "source": [
    "police_torture_boy = np.concatenate([police,torture,boy],axis=0)\n",
    "\n",
    "police_torture_boy = np.array(list(set(police_torture_boy)))\n",
    "\n",
    "len(police_torture_boy)\n",
    "\n",
    "for i in range(len(police_torture_boy)):\n",
    "    police_torture_boy[i] = police_torture_boy[i].lower()\n",
    "\n",
    "unique_police_torture_boy = []\n",
    "\n",
    "for i in range(len(police_torture_boy)):\n",
    "    if 'police' in police_torture_boy[i]  and ('torture' in police_torture_boy[i] or 'assault' in police_torture_boy[i] or 'beat' in police_torture_boy[i]) and 'boy' in police_torture_boy[i]:\n",
    "        unique_police_torture_boy.append(police_torture_boy[i])\n",
    "\n",
    "len(unique_police_torture_boy)\n",
    "\n",
    "freq_police_torture_boys = len(unique_police_torture_boy) / len(police_torture_boy) * 100"
   ]
  },
  {
   "cell_type": "code",
   "execution_count": 187,
   "metadata": {},
   "outputs": [
    {
     "data": {
      "text/plain": [
       "0.1566579634464752"
      ]
     },
     "execution_count": 187,
     "metadata": {},
     "output_type": "execute_result"
    }
   ],
   "source": [
    "freq_police_torture_boys"
   ]
  },
  {
   "cell_type": "code",
   "execution_count": 188,
   "metadata": {},
   "outputs": [],
   "source": [
    "police_torture_girl = np.concatenate([police,torture,girl],axis=0)\n",
    "\n",
    "police_torture_girl = np.array(list(set(police_torture_girl)))\n",
    "\n",
    "len(police_torture_girl)\n",
    "\n",
    "for i in range(len(police_torture_girl)):\n",
    "    police_torture_girl[i] = police_torture_girl[i].lower()\n",
    "\n",
    "unique_police_torture_girl = []\n",
    "\n",
    "for i in range(len(police_torture_girl)):\n",
    "    if 'police' in police_torture_girl[i]  and ('torture' in police_torture_girl[i] or 'assault' in police_torture_girl[i] or 'beat' in police_torture_girl[i]) and 'girl' in police_torture_girl[i]:\n",
    "        unique_police_torture_girl.append(police_torture_girl[i])\n",
    "\n",
    "len(unique_police_torture_girl)\n",
    "\n",
    "freq_police_torture_girls = len(unique_police_torture_girl) / len(police_torture_girl) * 100"
   ]
  },
  {
   "cell_type": "code",
   "execution_count": 189,
   "metadata": {},
   "outputs": [
    {
     "data": {
      "text/plain": [
       "0.42654028436018954"
      ]
     },
     "execution_count": 189,
     "metadata": {},
     "output_type": "execute_result"
    }
   ],
   "source": [
    "freq_police_torture_girls"
   ]
  },
  {
   "cell_type": "code",
   "execution_count": null,
   "metadata": {},
   "outputs": [],
   "source": []
  },
  {
   "cell_type": "code",
   "execution_count": 190,
   "metadata": {},
   "outputs": [],
   "source": [
    "police_torture_journalist = np.concatenate([police,torture,journalist],axis=0)\n",
    "\n",
    "police_torture_journalist = np.array(list(set(police_torture_journalist)))\n",
    "\n",
    "len(police_torture_journalist)\n",
    "\n",
    "for i in range(len(police_torture_journalist)):\n",
    "    police_torture_journalist[i] = police_torture_journalist[i].lower()\n",
    "\n",
    "unique_police_torture_journalist = []\n",
    "\n",
    "for i in range(len(police_torture_journalist)):\n",
    "    if 'police' in police_torture_journalist[i]  and ('torture' in police_torture_journalist[i] or 'assault' in police_torture_journalist[i] or 'beat' in police_torture_journalist[i]) and 'journalist' in police_torture_journalist[i]:\n",
    "        unique_police_torture_journalist.append(police_torture_journalist[i])\n",
    "\n",
    "len(unique_police_torture_journalist)\n",
    "\n",
    "freq_police_torture_journalists = len(unique_police_torture_journalist) / len(police_torture_journalist) * 100"
   ]
  },
  {
   "cell_type": "code",
   "execution_count": 191,
   "metadata": {},
   "outputs": [
    {
     "data": {
      "text/plain": [
       "0.3664793549963352"
      ]
     },
     "execution_count": 191,
     "metadata": {},
     "output_type": "execute_result"
    }
   ],
   "source": [
    "freq_police_torture_journalists"
   ]
  },
  {
   "cell_type": "code",
   "execution_count": 207,
   "metadata": {},
   "outputs": [],
   "source": [
    "data = pd.DataFrame(list(zip([freq_bcl_kill_boy,freq_bcl_kill_girl,freq_bcl_kill_journalist,freq_bcl_kill_students,freq_bcl_rape_boys,freq_bcl_rape_girls,freq_bcl_rape_journalists,freq_bcl_rape_students,freq_bcl_shoot_boy,freq_bcl_shoot_girl,freq_bcl_shoot_journalist,freq_bcl_shoot_students,freq_bcl_torture_boys,freq_bcl_torture_girls,freq_bcl_torture_journalists,freq_bcl_torture_students,freq_govt_kill_boy,freq_govt_kill_girl,freq_govt_kill_journalist,freq_govt_kill_student,freq_govt_rape_boys,freq_govt_rape_girls,freq_govt_rape_journalists,freq_govt_rape_students,freq_govt_shoot_boy,freq_govt_shoot_girl,freq_govt_shoot_journalist,freq_govt_shoot_student,freq_govt_torture_boys,freq_govt_torture_girls,freq_govt_torture_journalists,freq_govt_torture_students,freq_police_kill_boy,freq_police_kill_girl,freq_police_kill_journalist,freq_police_kill_student,freq_police_shoot_boy,freq_police_shoot_girl,freq_police_shoot_journalist,freq_police_shoot_student,freq_police_torture_boys,freq_police_torture_girls,freq_police_torture_journalists,freq_police_torture_students])))"
   ]
  },
  {
   "cell_type": "code",
   "execution_count": 208,
   "metadata": {},
   "outputs": [],
   "source": [
    "data.index = cols"
   ]
  },
  {
   "cell_type": "code",
   "execution_count": 203,
   "metadata": {},
   "outputs": [],
   "source": [
    "cols = 'freq_bcl_kill_boy,freq_bcl_kill_girl,freq_bcl_kill_journalist,freq_bcl_kill_students,freq_bcl_rape_boys,freq_bcl_rape_girls,freq_bcl_rape_journalists,freq_bcl_rape_students,freq_bcl_shoot_boy,freq_bcl_shoot_girl,freq_bcl_shoot_journalist,freq_bcl_shoot_students,freq_bcl_torture_boys,freq_bcl_torture_girls,freq_bcl_torture_journalists,freq_bcl_torture_students,freq_govt_kill_boy,freq_govt_kill_girl,freq_govt_kill_journalist,freq_govt_kill_student,freq_govt_rape_boys,freq_govt_rape_girls,freq_govt_rape_journalists,freq_govt_rape_students,freq_govt_shoot_boy,freq_govt_shoot_girl,freq_govt_shoot_journalist,freq_govt_shoot_student,freq_govt_torture_boys,freq_govt_torture_girls,freq_govt_torture_journalists,freq_govt_torture_students,freq_police_kill_boy,freq_police_kill_girl,freq_police_kill_journalist,freq_police_kill_student,freq_police_shoot_boy,freq_police_shoot_girl,freq_police_shoot_journalist,freq_police_shoot_student,freq_police_torture_boys,freq_police_torture_girls,freq_police_torture_journalists,freq_police_torture_students'"
   ]
  },
  {
   "cell_type": "code",
   "execution_count": 204,
   "metadata": {},
   "outputs": [],
   "source": [
    "cols = cols.split(',')"
   ]
  },
  {
   "cell_type": "code",
   "execution_count": 206,
   "metadata": {},
   "outputs": [
    {
     "data": {
      "text/plain": [
       "44"
      ]
     },
     "execution_count": 206,
     "metadata": {},
     "output_type": "execute_result"
    }
   ],
   "source": [
    "len(cols)"
   ]
  },
  {
   "cell_type": "code",
   "execution_count": 210,
   "metadata": {},
   "outputs": [],
   "source": [
    "data.to_csv('haha.csv')"
   ]
  },
  {
   "cell_type": "code",
   "execution_count": 219,
   "metadata": {},
   "outputs": [
    {
     "data": {
      "text/plain": [
       "[]"
      ]
     },
     "execution_count": 219,
     "metadata": {},
     "output_type": "execute_result"
    }
   ],
   "source": []
  },
  {
   "cell_type": "code",
   "execution_count": 227,
   "metadata": {},
   "outputs": [],
   "source": [
    "import csv"
   ]
  },
  {
   "cell_type": "code",
   "execution_count": 243,
   "metadata": {},
   "outputs": [],
   "source": [
    "pa = pd.read_excel('politicalaffiliation.xls')"
   ]
  },
  {
   "cell_type": "code",
   "execution_count": 255,
   "metadata": {},
   "outputs": [
    {
     "data": {
      "text/html": [
       "<div>\n",
       "<style scoped>\n",
       "    .dataframe tbody tr th:only-of-type {\n",
       "        vertical-align: middle;\n",
       "    }\n",
       "\n",
       "    .dataframe tbody tr th {\n",
       "        vertical-align: top;\n",
       "    }\n",
       "\n",
       "    .dataframe thead th {\n",
       "        text-align: right;\n",
       "    }\n",
       "</style>\n",
       "<table border=\"1\" class=\"dataframe\">\n",
       "  <thead>\n",
       "    <tr style=\"text-align: right;\">\n",
       "      <th></th>\n",
       "      <th>screen_name</th>\n",
       "      <th>ID</th>\n",
       "      <th>description</th>\n",
       "      <th>political affiliation</th>\n",
       "      <th>profile_pic</th>\n",
       "      <th>banner_pic</th>\n",
       "    </tr>\n",
       "  </thead>\n",
       "  <tbody>\n",
       "    <tr>\n",
       "      <th>5</th>\n",
       "      <td>tonmoybuet</td>\n",
       "      <td>771424000000000000</td>\n",
       "      <td>NaN</td>\n",
       "      <td>NaN</td>\n",
       "      <td>http://pbs.twimg.com/profile_images/7716356984...</td>\n",
       "      <td>https://pbs.twimg.com/profile_banners/77142418...</td>\n",
       "    </tr>\n",
       "    <tr>\n",
       "      <th>7</th>\n",
       "      <td>CP_Gang</td>\n",
       "      <td>2890454928</td>\n",
       "      <td>NaN</td>\n",
       "      <td>NaN</td>\n",
       "      <td>http://pbs.twimg.com/profile_images/1051023027...</td>\n",
       "      <td>https://pbs.twimg.com/profile_banners/28904549...</td>\n",
       "    </tr>\n",
       "    <tr>\n",
       "      <th>8</th>\n",
       "      <td>chowdhurysamim</td>\n",
       "      <td>1692108942</td>\n",
       "      <td>Even the darkest night will end, and the sun w...</td>\n",
       "      <td>NaN</td>\n",
       "      <td>http://pbs.twimg.com/profile_images/1030491425...</td>\n",
       "      <td>https://pbs.twimg.com/profile_banners/16921089...</td>\n",
       "    </tr>\n",
       "    <tr>\n",
       "      <th>10</th>\n",
       "      <td>KaeshEmon</td>\n",
       "      <td>2305027105</td>\n",
       "      <td>Love Politics &amp; Music. https://t.co/jEZs1QmLjZ</td>\n",
       "      <td>NaN</td>\n",
       "      <td>http://pbs.twimg.com/profile_images/8677439548...</td>\n",
       "      <td>https://pbs.twimg.com/profile_banners/23050271...</td>\n",
       "    </tr>\n",
       "    <tr>\n",
       "      <th>12</th>\n",
       "      <td>yeafeshosman</td>\n",
       "      <td>3184878468</td>\n",
       "      <td>Minister, Ministry of Science and Technology, ...</td>\n",
       "      <td>NaN</td>\n",
       "      <td>http://pbs.twimg.com/profile_images/5951378924...</td>\n",
       "      <td>https://pbs.twimg.com/profile_banners/31848784...</td>\n",
       "    </tr>\n",
       "    <tr>\n",
       "      <th>13</th>\n",
       "      <td>MAarafat71</td>\n",
       "      <td>752933000000000000</td>\n",
       "      <td>Academician, Political analyst, Social activis...</td>\n",
       "      <td>NaN</td>\n",
       "      <td>http://pbs.twimg.com/profile_images/7530171314...</td>\n",
       "      <td>https://pbs.twimg.com/profile_banners/75293296...</td>\n",
       "    </tr>\n",
       "    <tr>\n",
       "      <th>18</th>\n",
       "      <td>k_shayera</td>\n",
       "      <td>243519611</td>\n",
       "      <td>In helping others, we shall help ourselves, fo...</td>\n",
       "      <td>NaN</td>\n",
       "      <td>http://pbs.twimg.com/profile_images/8180203833...</td>\n",
       "      <td>https://pbs.twimg.com/profile_banners/24351961...</td>\n",
       "    </tr>\n",
       "    <tr>\n",
       "      <th>20</th>\n",
       "      <td>sidharthaeng</td>\n",
       "      <td>2893839972</td>\n",
       "      <td>do not judge me before u know me, but just to ...</td>\n",
       "      <td>NaN</td>\n",
       "      <td>http://pbs.twimg.com/profile_images/8049241852...</td>\n",
       "      <td>https://pbs.twimg.com/profile_banners/28938399...</td>\n",
       "    </tr>\n",
       "    <tr>\n",
       "      <th>21</th>\n",
       "      <td>Robi6869</td>\n",
       "      <td>707245000000000000</td>\n",
       "      <td>NaN</td>\n",
       "      <td>NaN</td>\n",
       "      <td>http://pbs.twimg.com/profile_images/8123361580...</td>\n",
       "      <td>https://pbs.twimg.com/profile_banners/70724515...</td>\n",
       "    </tr>\n",
       "    <tr>\n",
       "      <th>24</th>\n",
       "      <td>shaabbiir</td>\n",
       "      <td>87211335</td>\n",
       "      <td>A Hobbyist Digital Artist. Web Geek, Web Devel...</td>\n",
       "      <td>NaN</td>\n",
       "      <td>http://pbs.twimg.com/profile_images/9963680381...</td>\n",
       "      <td>https://pbs.twimg.com/profile_banners/87211335...</td>\n",
       "    </tr>\n",
       "    <tr>\n",
       "      <th>25</th>\n",
       "      <td>raihan050</td>\n",
       "      <td>81067459</td>\n",
       "      <td>?????, ???????, ?????????</td>\n",
       "      <td>NaN</td>\n",
       "      <td>http://pbs.twimg.com/profile_images/8737834031...</td>\n",
       "      <td>https://pbs.twimg.com/profile_banners/81067459...</td>\n",
       "    </tr>\n",
       "    <tr>\n",
       "      <th>27</th>\n",
       "      <td>ataurra0</td>\n",
       "      <td>1016770000000000000</td>\n",
       "      <td>stay on right path</td>\n",
       "      <td>NaN</td>\n",
       "      <td>http://pbs.twimg.com/profile_images/1016770239...</td>\n",
       "      <td>https://pbs.twimg.com/profile_banners/10167687...</td>\n",
       "    </tr>\n",
       "    <tr>\n",
       "      <th>28</th>\n",
       "      <td>AyubShe02910775</td>\n",
       "      <td>1003320000000000000</td>\n",
       "      <td>NaN</td>\n",
       "      <td>NaN</td>\n",
       "      <td>http://pbs.twimg.com/profile_images/1005430359...</td>\n",
       "      <td>https://pbs.twimg.com/profile_banners/10033222...</td>\n",
       "    </tr>\n",
       "    <tr>\n",
       "      <th>29</th>\n",
       "      <td>gobinda_radhe</td>\n",
       "      <td>1005140000000000000</td>\n",
       "      <td>NaN</td>\n",
       "      <td>NaN</td>\n",
       "      <td>http://pbs.twimg.com/profile_images/1005140393...</td>\n",
       "      <td>https://pbs.twimg.com/profile_banners/10051371...</td>\n",
       "    </tr>\n",
       "    <tr>\n",
       "      <th>30</th>\n",
       "      <td>samir17854129</td>\n",
       "      <td>1005230000000000000</td>\n",
       "      <td>Politics Books History Country Soccer Music Pr...</td>\n",
       "      <td>NaN</td>\n",
       "      <td>http://pbs.twimg.com/profile_images/1005226721...</td>\n",
       "      <td>https://pbs.twimg.com/profile_banners/10052252...</td>\n",
       "    </tr>\n",
       "    <tr>\n",
       "      <th>31</th>\n",
       "      <td>RaselAh96075238</td>\n",
       "      <td>1014870000000000000</td>\n",
       "      <td>NaN</td>\n",
       "      <td>NaN</td>\n",
       "      <td>http://pbs.twimg.com/profile_images/1014908679...</td>\n",
       "      <td>https://pbs.twimg.com/profile_banners/10148738...</td>\n",
       "    </tr>\n",
       "    <tr>\n",
       "      <th>33</th>\n",
       "      <td>ziaurrahma1</td>\n",
       "      <td>813224000000000000</td>\n",
       "      <td>NaN</td>\n",
       "      <td>NaN</td>\n",
       "      <td>http://pbs.twimg.com/profile_images/1029739298...</td>\n",
       "      <td>https://pbs.twimg.com/profile_banners/81322431...</td>\n",
       "    </tr>\n",
       "    <tr>\n",
       "      <th>34</th>\n",
       "      <td>dangerrokon1000</td>\n",
       "      <td>2504589961</td>\n",
       "      <td>NaN</td>\n",
       "      <td>NaN</td>\n",
       "      <td>http://pbs.twimg.com/profile_images/6901242099...</td>\n",
       "      <td>https://pbs.twimg.com/profile_banners/25045899...</td>\n",
       "    </tr>\n",
       "    <tr>\n",
       "      <th>35</th>\n",
       "      <td>farz4ana</td>\n",
       "      <td>2907780943</td>\n",
       "      <td>Someday I will learn to know, where to seek pe...</td>\n",
       "      <td>NaN</td>\n",
       "      <td>http://pbs.twimg.com/profile_images/1011554645...</td>\n",
       "      <td>https://pbs.twimg.com/profile_banners/29077809...</td>\n",
       "    </tr>\n",
       "    <tr>\n",
       "      <th>37</th>\n",
       "      <td>pardinx</td>\n",
       "      <td>1118997156</td>\n",
       "      <td>A realistic plan is always better than a fancy...</td>\n",
       "      <td>NaN</td>\n",
       "      <td>http://pbs.twimg.com/profile_images/1172231243...</td>\n",
       "      <td>https://pbs.twimg.com/profile_banners/11189971...</td>\n",
       "    </tr>\n",
       "    <tr>\n",
       "      <th>38</th>\n",
       "      <td>MdJoy_CP</td>\n",
       "      <td>825633000000000000</td>\n",
       "      <td>I'm, indeed, a king, because I know how to rul...</td>\n",
       "      <td>NaN</td>\n",
       "      <td>http://pbs.twimg.com/profile_images/9981863259...</td>\n",
       "      <td>https://pbs.twimg.com/profile_banners/82563274...</td>\n",
       "    </tr>\n",
       "    <tr>\n",
       "      <th>39</th>\n",
       "      <td>jhfahim_bd</td>\n",
       "      <td>3028156194</td>\n",
       "      <td>Computer Science Engineer! Creative Graphic De...</td>\n",
       "      <td>NaN</td>\n",
       "      <td>http://pbs.twimg.com/profile_images/1164406155...</td>\n",
       "      <td>https://pbs.twimg.com/profile_banners/30281561...</td>\n",
       "    </tr>\n",
       "    <tr>\n",
       "      <th>40</th>\n",
       "      <td>MirzaEmam</td>\n",
       "      <td>4893255358</td>\n",
       "      <td>??? ????????, ??? ??????????</td>\n",
       "      <td>NaN</td>\n",
       "      <td>http://pbs.twimg.com/profile_images/1030307449...</td>\n",
       "      <td>https://pbs.twimg.com/profile_banners/48932553...</td>\n",
       "    </tr>\n",
       "    <tr>\n",
       "      <th>41</th>\n",
       "      <td>NurUddin1971</td>\n",
       "      <td>1192146582</td>\n",
       "      <td>When you play with gentlemen, you play like a ...</td>\n",
       "      <td>NaN</td>\n",
       "      <td>http://pbs.twimg.com/profile_images/9422799101...</td>\n",
       "      <td>https://pbs.twimg.com/profile_banners/11921465...</td>\n",
       "    </tr>\n",
       "    <tr>\n",
       "      <th>42</th>\n",
       "      <td>chiranjibamit</td>\n",
       "      <td>583007948</td>\n",
       "      <td>student,worker and supporter of Bangladesh Awa...</td>\n",
       "      <td>NaN</td>\n",
       "      <td>http://pbs.twimg.com/profile_images/6486001030...</td>\n",
       "      <td>https://pbs.twimg.com/profile_banners/58300794...</td>\n",
       "    </tr>\n",
       "    <tr>\n",
       "      <th>43</th>\n",
       "      <td>A_I_Arif</td>\n",
       "      <td>2277929915</td>\n",
       "      <td>Simple living high thinking &amp; carefully carele...</td>\n",
       "      <td>NaN</td>\n",
       "      <td>http://pbs.twimg.com/profile_images/8541855342...</td>\n",
       "      <td>https://pbs.twimg.com/profile_banners/22779299...</td>\n",
       "    </tr>\n",
       "    <tr>\n",
       "      <th>44</th>\n",
       "      <td>MonjilHossain</td>\n",
       "      <td>1005340000000000000</td>\n",
       "      <td>NaN</td>\n",
       "      <td>NaN</td>\n",
       "      <td>http://pbs.twimg.com/profile_images/1005340288...</td>\n",
       "      <td>https://pbs.twimg.com/profile_banners/10053392...</td>\n",
       "    </tr>\n",
       "    <tr>\n",
       "      <th>46</th>\n",
       "      <td>RanaAmzad1</td>\n",
       "      <td>1894054435</td>\n",
       "      <td>NaN</td>\n",
       "      <td>NaN</td>\n",
       "      <td>http://pbs.twimg.com/profile_images/6501700228...</td>\n",
       "      <td>https://pbs.twimg.com/profile_banners/18940544...</td>\n",
       "    </tr>\n",
       "    <tr>\n",
       "      <th>48</th>\n",
       "      <td>JesminIslam6</td>\n",
       "      <td>1010180000000000000</td>\n",
       "      <td>NaN</td>\n",
       "      <td>NaN</td>\n",
       "      <td>http://pbs.twimg.com/profile_images/1166749757...</td>\n",
       "      <td>https://pbs.twimg.com/profile_banners/10101790...</td>\n",
       "    </tr>\n",
       "    <tr>\n",
       "      <th>50</th>\n",
       "      <td>NightbirdDr</td>\n",
       "      <td>2991126560</td>\n",
       "      <td>NaN</td>\n",
       "      <td>NaN</td>\n",
       "      <td>http://pbs.twimg.com/profile_images/7059826560...</td>\n",
       "      <td>https://pbs.twimg.com/profile_banners/29911265...</td>\n",
       "    </tr>\n",
       "    <tr>\n",
       "      <th>...</th>\n",
       "      <td>...</td>\n",
       "      <td>...</td>\n",
       "      <td>...</td>\n",
       "      <td>...</td>\n",
       "      <td>...</td>\n",
       "      <td>...</td>\n",
       "    </tr>\n",
       "    <tr>\n",
       "      <th>168</th>\n",
       "      <td>437537Faria</td>\n",
       "      <td>3021366652</td>\n",
       "      <td>Model</td>\n",
       "      <td>NaN</td>\n",
       "      <td>http://pbs.twimg.com/profile_images/5656316892...</td>\n",
       "      <td>https://pbs.twimg.com/profile_banners/30213666...</td>\n",
       "    </tr>\n",
       "    <tr>\n",
       "      <th>169</th>\n",
       "      <td>nirob_k1</td>\n",
       "      <td>3021222262</td>\n",
       "      <td>NaN</td>\n",
       "      <td>NaN</td>\n",
       "      <td>http://pbs.twimg.com/profile_images/5655580360...</td>\n",
       "      <td>https://pbs.twimg.com/profile_banners/30212222...</td>\n",
       "    </tr>\n",
       "    <tr>\n",
       "      <th>170</th>\n",
       "      <td>Rak_382</td>\n",
       "      <td>3012519721</td>\n",
       "      <td>IT specialist</td>\n",
       "      <td>NaN</td>\n",
       "      <td>http://pbs.twimg.com/profile_images/5652386937...</td>\n",
       "      <td>https://pbs.twimg.com/profile_banners/30125197...</td>\n",
       "    </tr>\n",
       "    <tr>\n",
       "      <th>171</th>\n",
       "      <td>atikhasan_ctg</td>\n",
       "      <td>3011285887</td>\n",
       "      <td>it specialist</td>\n",
       "      <td>NaN</td>\n",
       "      <td>http://pbs.twimg.com/profile_images/5657540814...</td>\n",
       "      <td>https://pbs.twimg.com/profile_banners/30112858...</td>\n",
       "    </tr>\n",
       "    <tr>\n",
       "      <th>172</th>\n",
       "      <td>hasanprtik</td>\n",
       "      <td>3167697600</td>\n",
       "      <td>?????? ??????? ??????? ?? ???????? ???????? ??...</td>\n",
       "      <td>NaN</td>\n",
       "      <td>http://pbs.twimg.com/profile_images/1168799140...</td>\n",
       "      <td>https://pbs.twimg.com/profile_banners/31676976...</td>\n",
       "    </tr>\n",
       "    <tr>\n",
       "      <th>173</th>\n",
       "      <td>hasanurrahmant2</td>\n",
       "      <td>771392000000000000</td>\n",
       "      <td>?????? ???? ?? ???? ??????...... ???? ????????...</td>\n",
       "      <td>NaN</td>\n",
       "      <td>http://pbs.twimg.com/profile_images/8100854316...</td>\n",
       "      <td>https://pbs.twimg.com/profile_banners/77139236...</td>\n",
       "    </tr>\n",
       "    <tr>\n",
       "      <th>175</th>\n",
       "      <td>gray_earth</td>\n",
       "      <td>2190964727</td>\n",
       "      <td>???? ????? ???? ???? ??? ??,?? ???? ????? ????...</td>\n",
       "      <td>NaN</td>\n",
       "      <td>http://pbs.twimg.com/profile_images/1136577171...</td>\n",
       "      <td>https://pbs.twimg.com/profile_banners/21909647...</td>\n",
       "    </tr>\n",
       "    <tr>\n",
       "      <th>176</th>\n",
       "      <td>HPMHasinaQuotes</td>\n",
       "      <td>944506000000000000</td>\n",
       "      <td>A very little effort to archive Visionary lead...</td>\n",
       "      <td>NaN</td>\n",
       "      <td>http://pbs.twimg.com/profile_images/9536512859...</td>\n",
       "      <td>https://pbs.twimg.com/profile_banners/94450572...</td>\n",
       "    </tr>\n",
       "    <tr>\n",
       "      <th>177</th>\n",
       "      <td>RashedSherpur</td>\n",
       "      <td>2956474999</td>\n",
       "      <td>I am for All</td>\n",
       "      <td>NaN</td>\n",
       "      <td>http://pbs.twimg.com/profile_images/7313309049...</td>\n",
       "      <td>https://pbs.twimg.com/profile_banners/29564749...</td>\n",
       "    </tr>\n",
       "    <tr>\n",
       "      <th>178</th>\n",
       "      <td>nayem_77</td>\n",
       "      <td>1026180000000000000</td>\n",
       "      <td>Why talk when you can mock? Why hide your Face...</td>\n",
       "      <td>NaN</td>\n",
       "      <td>http://pbs.twimg.com/profile_images/1026178150...</td>\n",
       "      <td>https://pbs.twimg.com/profile_banners/10261751...</td>\n",
       "    </tr>\n",
       "    <tr>\n",
       "      <th>179</th>\n",
       "      <td>shamimrahmankh1</td>\n",
       "      <td>695867000000000000</td>\n",
       "      <td>NaN</td>\n",
       "      <td>NaN</td>\n",
       "      <td>http://pbs.twimg.com/profile_images/9035576109...</td>\n",
       "      <td>https://pbs.twimg.com/profile_banners/69586662...</td>\n",
       "    </tr>\n",
       "    <tr>\n",
       "      <th>180</th>\n",
       "      <td>mahabubhasan9</td>\n",
       "      <td>472706965</td>\n",
       "      <td>proud &amp; love bangladesh, Bangladeshi nationali...</td>\n",
       "      <td>NaN</td>\n",
       "      <td>http://pbs.twimg.com/profile_images/1080926089...</td>\n",
       "      <td>https://pbs.twimg.com/profile_banners/47270696...</td>\n",
       "    </tr>\n",
       "    <tr>\n",
       "      <th>182</th>\n",
       "      <td>SyedaSumiya</td>\n",
       "      <td>962651000000000000</td>\n",
       "      <td>????????? ??????,?????? ???, ????? ???? ?????!!</td>\n",
       "      <td>NaN</td>\n",
       "      <td>http://pbs.twimg.com/profile_images/1154838597...</td>\n",
       "      <td>https://pbs.twimg.com/profile_banners/96265066...</td>\n",
       "    </tr>\n",
       "    <tr>\n",
       "      <th>183</th>\n",
       "      <td>atiq_impex</td>\n",
       "      <td>125252041</td>\n",
       "      <td>NaN</td>\n",
       "      <td>NaN</td>\n",
       "      <td>http://pbs.twimg.com/profile_images/6146790378...</td>\n",
       "      <td>https://pbs.twimg.com/profile_banners/12525204...</td>\n",
       "    </tr>\n",
       "    <tr>\n",
       "      <th>184</th>\n",
       "      <td>kostto2</td>\n",
       "      <td>872763000000000000</td>\n",
       "      <td>??????? ??????? ???? ??? ??????????? ????? : ?...</td>\n",
       "      <td>NaN</td>\n",
       "      <td>http://pbs.twimg.com/profile_images/1130874478...</td>\n",
       "      <td>https://pbs.twimg.com/profile_banners/87276319...</td>\n",
       "    </tr>\n",
       "    <tr>\n",
       "      <th>187</th>\n",
       "      <td>jamilaktardu</td>\n",
       "      <td>771723000000000000</td>\n",
       "      <td>Journalist</td>\n",
       "      <td>NaN</td>\n",
       "      <td>http://pbs.twimg.com/profile_images/7717250880...</td>\n",
       "      <td>https://pbs.twimg.com/profile_banners/77172319...</td>\n",
       "    </tr>\n",
       "    <tr>\n",
       "      <th>189</th>\n",
       "      <td>RoushonRahad</td>\n",
       "      <td>367907086</td>\n",
       "      <td>stay close with your time</td>\n",
       "      <td>NaN</td>\n",
       "      <td>http://pbs.twimg.com/profile_images/7076493080...</td>\n",
       "      <td>https://pbs.twimg.com/profile_banners/36790708...</td>\n",
       "    </tr>\n",
       "    <tr>\n",
       "      <th>191</th>\n",
       "      <td>RAHMATU40858163</td>\n",
       "      <td>930326000000000000</td>\n",
       "      <td>?????? ?????</td>\n",
       "      <td>NaN</td>\n",
       "      <td>http://pbs.twimg.com/profile_images/9633752340...</td>\n",
       "      <td>https://pbs.twimg.com/profile_banners/93032627...</td>\n",
       "    </tr>\n",
       "    <tr>\n",
       "      <th>193</th>\n",
       "      <td>mjmhmurad</td>\n",
       "      <td>750280000000000000</td>\n",
       "      <td>????? ??????? ???? ????? ???? ???? ???? ???? ?...</td>\n",
       "      <td>NaN</td>\n",
       "      <td>http://pbs.twimg.com/profile_images/1150733331...</td>\n",
       "      <td>https://pbs.twimg.com/profile_banners/75027953...</td>\n",
       "    </tr>\n",
       "    <tr>\n",
       "      <th>194</th>\n",
       "      <td>RobelAhamed19</td>\n",
       "      <td>949710000000000000</td>\n",
       "      <td>NaN</td>\n",
       "      <td>NaN</td>\n",
       "      <td>http://pbs.twimg.com/profile_images/9500548003...</td>\n",
       "      <td>https://pbs.twimg.com/profile_banners/94970992...</td>\n",
       "    </tr>\n",
       "    <tr>\n",
       "      <th>195</th>\n",
       "      <td>AshoniSanket</td>\n",
       "      <td>1039360000000000000</td>\n",
       "      <td>Nationalist Human Rights Activists</td>\n",
       "      <td>NaN</td>\n",
       "      <td>http://pbs.twimg.com/profile_images/1048555437...</td>\n",
       "      <td>https://pbs.twimg.com/profile_banners/10393640...</td>\n",
       "    </tr>\n",
       "    <tr>\n",
       "      <th>197</th>\n",
       "      <td>mazharul201066</td>\n",
       "      <td>922999477</td>\n",
       "      <td>i am pro-active</td>\n",
       "      <td>NaN</td>\n",
       "      <td>http://pbs.twimg.com/profile_images/1054416084...</td>\n",
       "      <td>https://pbs.twimg.com/profile_banners/92299947...</td>\n",
       "    </tr>\n",
       "    <tr>\n",
       "      <th>199</th>\n",
       "      <td>KhanYusuf98</td>\n",
       "      <td>779416000000000000</td>\n",
       "      <td>I am not interested in picking up crumbs of co...</td>\n",
       "      <td>NaN</td>\n",
       "      <td>http://pbs.twimg.com/profile_images/1172423409...</td>\n",
       "      <td>https://pbs.twimg.com/profile_banners/77941582...</td>\n",
       "    </tr>\n",
       "    <tr>\n",
       "      <th>200</th>\n",
       "      <td>Arefinemonbd</td>\n",
       "      <td>900306000000000000</td>\n",
       "      <td>Athlete and Footballer</td>\n",
       "      <td>NaN</td>\n",
       "      <td>http://pbs.twimg.com/profile_images/9003069507...</td>\n",
       "      <td>https://pbs.twimg.com/profile_banners/90030595...</td>\n",
       "    </tr>\n",
       "    <tr>\n",
       "      <th>201</th>\n",
       "      <td>AshrafJonal</td>\n",
       "      <td>955536000000000000</td>\n",
       "      <td>??????</td>\n",
       "      <td>NaN</td>\n",
       "      <td>http://pbs.twimg.com/profile_images/1149670480...</td>\n",
       "      <td>https://pbs.twimg.com/profile_banners/95553601...</td>\n",
       "    </tr>\n",
       "    <tr>\n",
       "      <th>204</th>\n",
       "      <td>AsaduliSK</td>\n",
       "      <td>3281312430</td>\n",
       "      <td>All praise be to #ALLAH for Everything | Proud...</td>\n",
       "      <td>NaN</td>\n",
       "      <td>http://pbs.twimg.com/profile_images/1014023206...</td>\n",
       "      <td>https://pbs.twimg.com/profile_banners/32813124...</td>\n",
       "    </tr>\n",
       "    <tr>\n",
       "      <th>205</th>\n",
       "      <td>natural_bd001</td>\n",
       "      <td>892738000000000000</td>\n",
       "      <td>Natural Bangladesh Twitter ID</td>\n",
       "      <td>NaN</td>\n",
       "      <td>http://pbs.twimg.com/profile_images/8927387160...</td>\n",
       "      <td>https://pbs.twimg.com/profile_banners/89273789...</td>\n",
       "    </tr>\n",
       "    <tr>\n",
       "      <th>206</th>\n",
       "      <td>AYNALDORZI</td>\n",
       "      <td>413579059</td>\n",
       "      <td>Try</td>\n",
       "      <td>NaN</td>\n",
       "      <td>http://pbs.twimg.com/profile_images/1068250408...</td>\n",
       "      <td>https://pbs.twimg.com/profile_banners/41357905...</td>\n",
       "    </tr>\n",
       "    <tr>\n",
       "      <th>207</th>\n",
       "      <td>FMShahin71</td>\n",
       "      <td>795330000000000000</td>\n",
       "      <td>Humanitarian,Online, Social and Cultural Activ...</td>\n",
       "      <td>NaN</td>\n",
       "      <td>http://pbs.twimg.com/profile_images/7963700408...</td>\n",
       "      <td>https://pbs.twimg.com/profile_banners/79532986...</td>\n",
       "    </tr>\n",
       "    <tr>\n",
       "      <th>210</th>\n",
       "      <td>Sujonmahmud91</td>\n",
       "      <td>808282000000000000</td>\n",
       "      <td>(Full Time Servant of Allah) Singer &amp; Secretar...</td>\n",
       "      <td>NaN</td>\n",
       "      <td>http://pbs.twimg.com/profile_images/1139964606...</td>\n",
       "      <td>https://pbs.twimg.com/profile_banners/80828152...</td>\n",
       "    </tr>\n",
       "  </tbody>\n",
       "</table>\n",
       "<p>156 rows × 6 columns</p>\n",
       "</div>"
      ],
      "text/plain": [
       "         screen_name                   ID  \\\n",
       "5         tonmoybuet   771424000000000000   \n",
       "7            CP_Gang           2890454928   \n",
       "8     chowdhurysamim           1692108942   \n",
       "10         KaeshEmon           2305027105   \n",
       "12      yeafeshosman           3184878468   \n",
       "13        MAarafat71   752933000000000000   \n",
       "18         k_shayera            243519611   \n",
       "20      sidharthaeng           2893839972   \n",
       "21          Robi6869   707245000000000000   \n",
       "24         shaabbiir             87211335   \n",
       "25         raihan050             81067459   \n",
       "27          ataurra0  1016770000000000000   \n",
       "28   AyubShe02910775  1003320000000000000   \n",
       "29     gobinda_radhe  1005140000000000000   \n",
       "30     samir17854129  1005230000000000000   \n",
       "31   RaselAh96075238  1014870000000000000   \n",
       "33       ziaurrahma1   813224000000000000   \n",
       "34   dangerrokon1000           2504589961   \n",
       "35          farz4ana           2907780943   \n",
       "37           pardinx           1118997156   \n",
       "38          MdJoy_CP   825633000000000000   \n",
       "39        jhfahim_bd           3028156194   \n",
       "40         MirzaEmam           4893255358   \n",
       "41      NurUddin1971           1192146582   \n",
       "42     chiranjibamit            583007948   \n",
       "43          A_I_Arif           2277929915   \n",
       "44     MonjilHossain  1005340000000000000   \n",
       "46        RanaAmzad1           1894054435   \n",
       "48      JesminIslam6  1010180000000000000   \n",
       "50       NightbirdDr           2991126560   \n",
       "..               ...                  ...   \n",
       "168      437537Faria           3021366652   \n",
       "169         nirob_k1           3021222262   \n",
       "170          Rak_382           3012519721   \n",
       "171    atikhasan_ctg           3011285887   \n",
       "172       hasanprtik           3167697600   \n",
       "173  hasanurrahmant2   771392000000000000   \n",
       "175       gray_earth           2190964727   \n",
       "176  HPMHasinaQuotes   944506000000000000   \n",
       "177    RashedSherpur           2956474999   \n",
       "178         nayem_77  1026180000000000000   \n",
       "179  shamimrahmankh1   695867000000000000   \n",
       "180    mahabubhasan9            472706965   \n",
       "182      SyedaSumiya   962651000000000000   \n",
       "183       atiq_impex            125252041   \n",
       "184          kostto2   872763000000000000   \n",
       "187     jamilaktardu   771723000000000000   \n",
       "189     RoushonRahad            367907086   \n",
       "191  RAHMATU40858163   930326000000000000   \n",
       "193        mjmhmurad   750280000000000000   \n",
       "194    RobelAhamed19   949710000000000000   \n",
       "195     AshoniSanket  1039360000000000000   \n",
       "197   mazharul201066            922999477   \n",
       "199      KhanYusuf98   779416000000000000   \n",
       "200     Arefinemonbd   900306000000000000   \n",
       "201      AshrafJonal   955536000000000000   \n",
       "204        AsaduliSK           3281312430   \n",
       "205    natural_bd001   892738000000000000   \n",
       "206       AYNALDORZI            413579059   \n",
       "207       FMShahin71   795330000000000000   \n",
       "210    Sujonmahmud91   808282000000000000   \n",
       "\n",
       "                                           description political affiliation  \\\n",
       "5                                                  NaN                   NaN   \n",
       "7                                                  NaN                   NaN   \n",
       "8    Even the darkest night will end, and the sun w...                   NaN   \n",
       "10      Love Politics & Music. https://t.co/jEZs1QmLjZ                   NaN   \n",
       "12   Minister, Ministry of Science and Technology, ...                   NaN   \n",
       "13   Academician, Political analyst, Social activis...                   NaN   \n",
       "18   In helping others, we shall help ourselves, fo...                   NaN   \n",
       "20   do not judge me before u know me, but just to ...                   NaN   \n",
       "21                                                 NaN                   NaN   \n",
       "24   A Hobbyist Digital Artist. Web Geek, Web Devel...                   NaN   \n",
       "25                           ?????, ???????, ?????????                   NaN   \n",
       "27                                  stay on right path                   NaN   \n",
       "28                                                 NaN                   NaN   \n",
       "29                                                 NaN                   NaN   \n",
       "30   Politics Books History Country Soccer Music Pr...                   NaN   \n",
       "31                                                 NaN                   NaN   \n",
       "33                                                 NaN                   NaN   \n",
       "34                                                 NaN                   NaN   \n",
       "35   Someday I will learn to know, where to seek pe...                   NaN   \n",
       "37   A realistic plan is always better than a fancy...                   NaN   \n",
       "38   I'm, indeed, a king, because I know how to rul...                   NaN   \n",
       "39   Computer Science Engineer! Creative Graphic De...                   NaN   \n",
       "40                        ??? ????????, ??? ??????????                   NaN   \n",
       "41   When you play with gentlemen, you play like a ...                   NaN   \n",
       "42   student,worker and supporter of Bangladesh Awa...                   NaN   \n",
       "43   Simple living high thinking & carefully carele...                   NaN   \n",
       "44                                                 NaN                   NaN   \n",
       "46                                                 NaN                   NaN   \n",
       "48                                                 NaN                   NaN   \n",
       "50                                                 NaN                   NaN   \n",
       "..                                                 ...                   ...   \n",
       "168                                              Model                   NaN   \n",
       "169                                                NaN                   NaN   \n",
       "170                                      IT specialist                   NaN   \n",
       "171                                      it specialist                   NaN   \n",
       "172  ?????? ??????? ??????? ?? ???????? ???????? ??...                   NaN   \n",
       "173  ?????? ???? ?? ???? ??????...... ???? ????????...                   NaN   \n",
       "175  ???? ????? ???? ???? ??? ??,?? ???? ????? ????...                   NaN   \n",
       "176  A very little effort to archive Visionary lead...                   NaN   \n",
       "177                                       I am for All                   NaN   \n",
       "178  Why talk when you can mock? Why hide your Face...                   NaN   \n",
       "179                                                NaN                   NaN   \n",
       "180  proud & love bangladesh, Bangladeshi nationali...                   NaN   \n",
       "182    ????????? ??????,?????? ???, ????? ???? ?????!!                   NaN   \n",
       "183                                                NaN                   NaN   \n",
       "184  ??????? ??????? ???? ??? ??????????? ????? : ?...                   NaN   \n",
       "187                                         Journalist                   NaN   \n",
       "189                          stay close with your time                   NaN   \n",
       "191                                       ?????? ?????                   NaN   \n",
       "193  ????? ??????? ???? ????? ???? ???? ???? ???? ?...                   NaN   \n",
       "194                                                NaN                   NaN   \n",
       "195                 Nationalist Human Rights Activists                   NaN   \n",
       "197                                    i am pro-active                   NaN   \n",
       "199  I am not interested in picking up crumbs of co...                   NaN   \n",
       "200                             Athlete and Footballer                   NaN   \n",
       "201                                             ??????                   NaN   \n",
       "204  All praise be to #ALLAH for Everything | Proud...                   NaN   \n",
       "205                      Natural Bangladesh Twitter ID                   NaN   \n",
       "206                                                Try                   NaN   \n",
       "207  Humanitarian,Online, Social and Cultural Activ...                   NaN   \n",
       "210  (Full Time Servant of Allah) Singer & Secretar...                   NaN   \n",
       "\n",
       "                                           profile_pic  \\\n",
       "5    http://pbs.twimg.com/profile_images/7716356984...   \n",
       "7    http://pbs.twimg.com/profile_images/1051023027...   \n",
       "8    http://pbs.twimg.com/profile_images/1030491425...   \n",
       "10   http://pbs.twimg.com/profile_images/8677439548...   \n",
       "12   http://pbs.twimg.com/profile_images/5951378924...   \n",
       "13   http://pbs.twimg.com/profile_images/7530171314...   \n",
       "18   http://pbs.twimg.com/profile_images/8180203833...   \n",
       "20   http://pbs.twimg.com/profile_images/8049241852...   \n",
       "21   http://pbs.twimg.com/profile_images/8123361580...   \n",
       "24   http://pbs.twimg.com/profile_images/9963680381...   \n",
       "25   http://pbs.twimg.com/profile_images/8737834031...   \n",
       "27   http://pbs.twimg.com/profile_images/1016770239...   \n",
       "28   http://pbs.twimg.com/profile_images/1005430359...   \n",
       "29   http://pbs.twimg.com/profile_images/1005140393...   \n",
       "30   http://pbs.twimg.com/profile_images/1005226721...   \n",
       "31   http://pbs.twimg.com/profile_images/1014908679...   \n",
       "33   http://pbs.twimg.com/profile_images/1029739298...   \n",
       "34   http://pbs.twimg.com/profile_images/6901242099...   \n",
       "35   http://pbs.twimg.com/profile_images/1011554645...   \n",
       "37   http://pbs.twimg.com/profile_images/1172231243...   \n",
       "38   http://pbs.twimg.com/profile_images/9981863259...   \n",
       "39   http://pbs.twimg.com/profile_images/1164406155...   \n",
       "40   http://pbs.twimg.com/profile_images/1030307449...   \n",
       "41   http://pbs.twimg.com/profile_images/9422799101...   \n",
       "42   http://pbs.twimg.com/profile_images/6486001030...   \n",
       "43   http://pbs.twimg.com/profile_images/8541855342...   \n",
       "44   http://pbs.twimg.com/profile_images/1005340288...   \n",
       "46   http://pbs.twimg.com/profile_images/6501700228...   \n",
       "48   http://pbs.twimg.com/profile_images/1166749757...   \n",
       "50   http://pbs.twimg.com/profile_images/7059826560...   \n",
       "..                                                 ...   \n",
       "168  http://pbs.twimg.com/profile_images/5656316892...   \n",
       "169  http://pbs.twimg.com/profile_images/5655580360...   \n",
       "170  http://pbs.twimg.com/profile_images/5652386937...   \n",
       "171  http://pbs.twimg.com/profile_images/5657540814...   \n",
       "172  http://pbs.twimg.com/profile_images/1168799140...   \n",
       "173  http://pbs.twimg.com/profile_images/8100854316...   \n",
       "175  http://pbs.twimg.com/profile_images/1136577171...   \n",
       "176  http://pbs.twimg.com/profile_images/9536512859...   \n",
       "177  http://pbs.twimg.com/profile_images/7313309049...   \n",
       "178  http://pbs.twimg.com/profile_images/1026178150...   \n",
       "179  http://pbs.twimg.com/profile_images/9035576109...   \n",
       "180  http://pbs.twimg.com/profile_images/1080926089...   \n",
       "182  http://pbs.twimg.com/profile_images/1154838597...   \n",
       "183  http://pbs.twimg.com/profile_images/6146790378...   \n",
       "184  http://pbs.twimg.com/profile_images/1130874478...   \n",
       "187  http://pbs.twimg.com/profile_images/7717250880...   \n",
       "189  http://pbs.twimg.com/profile_images/7076493080...   \n",
       "191  http://pbs.twimg.com/profile_images/9633752340...   \n",
       "193  http://pbs.twimg.com/profile_images/1150733331...   \n",
       "194  http://pbs.twimg.com/profile_images/9500548003...   \n",
       "195  http://pbs.twimg.com/profile_images/1048555437...   \n",
       "197  http://pbs.twimg.com/profile_images/1054416084...   \n",
       "199  http://pbs.twimg.com/profile_images/1172423409...   \n",
       "200  http://pbs.twimg.com/profile_images/9003069507...   \n",
       "201  http://pbs.twimg.com/profile_images/1149670480...   \n",
       "204  http://pbs.twimg.com/profile_images/1014023206...   \n",
       "205  http://pbs.twimg.com/profile_images/8927387160...   \n",
       "206  http://pbs.twimg.com/profile_images/1068250408...   \n",
       "207  http://pbs.twimg.com/profile_images/7963700408...   \n",
       "210  http://pbs.twimg.com/profile_images/1139964606...   \n",
       "\n",
       "                                            banner_pic  \n",
       "5    https://pbs.twimg.com/profile_banners/77142418...  \n",
       "7    https://pbs.twimg.com/profile_banners/28904549...  \n",
       "8    https://pbs.twimg.com/profile_banners/16921089...  \n",
       "10   https://pbs.twimg.com/profile_banners/23050271...  \n",
       "12   https://pbs.twimg.com/profile_banners/31848784...  \n",
       "13   https://pbs.twimg.com/profile_banners/75293296...  \n",
       "18   https://pbs.twimg.com/profile_banners/24351961...  \n",
       "20   https://pbs.twimg.com/profile_banners/28938399...  \n",
       "21   https://pbs.twimg.com/profile_banners/70724515...  \n",
       "24   https://pbs.twimg.com/profile_banners/87211335...  \n",
       "25   https://pbs.twimg.com/profile_banners/81067459...  \n",
       "27   https://pbs.twimg.com/profile_banners/10167687...  \n",
       "28   https://pbs.twimg.com/profile_banners/10033222...  \n",
       "29   https://pbs.twimg.com/profile_banners/10051371...  \n",
       "30   https://pbs.twimg.com/profile_banners/10052252...  \n",
       "31   https://pbs.twimg.com/profile_banners/10148738...  \n",
       "33   https://pbs.twimg.com/profile_banners/81322431...  \n",
       "34   https://pbs.twimg.com/profile_banners/25045899...  \n",
       "35   https://pbs.twimg.com/profile_banners/29077809...  \n",
       "37   https://pbs.twimg.com/profile_banners/11189971...  \n",
       "38   https://pbs.twimg.com/profile_banners/82563274...  \n",
       "39   https://pbs.twimg.com/profile_banners/30281561...  \n",
       "40   https://pbs.twimg.com/profile_banners/48932553...  \n",
       "41   https://pbs.twimg.com/profile_banners/11921465...  \n",
       "42   https://pbs.twimg.com/profile_banners/58300794...  \n",
       "43   https://pbs.twimg.com/profile_banners/22779299...  \n",
       "44   https://pbs.twimg.com/profile_banners/10053392...  \n",
       "46   https://pbs.twimg.com/profile_banners/18940544...  \n",
       "48   https://pbs.twimg.com/profile_banners/10101790...  \n",
       "50   https://pbs.twimg.com/profile_banners/29911265...  \n",
       "..                                                 ...  \n",
       "168  https://pbs.twimg.com/profile_banners/30213666...  \n",
       "169  https://pbs.twimg.com/profile_banners/30212222...  \n",
       "170  https://pbs.twimg.com/profile_banners/30125197...  \n",
       "171  https://pbs.twimg.com/profile_banners/30112858...  \n",
       "172  https://pbs.twimg.com/profile_banners/31676976...  \n",
       "173  https://pbs.twimg.com/profile_banners/77139236...  \n",
       "175  https://pbs.twimg.com/profile_banners/21909647...  \n",
       "176  https://pbs.twimg.com/profile_banners/94450572...  \n",
       "177  https://pbs.twimg.com/profile_banners/29564749...  \n",
       "178  https://pbs.twimg.com/profile_banners/10261751...  \n",
       "179  https://pbs.twimg.com/profile_banners/69586662...  \n",
       "180  https://pbs.twimg.com/profile_banners/47270696...  \n",
       "182  https://pbs.twimg.com/profile_banners/96265066...  \n",
       "183  https://pbs.twimg.com/profile_banners/12525204...  \n",
       "184  https://pbs.twimg.com/profile_banners/87276319...  \n",
       "187  https://pbs.twimg.com/profile_banners/77172319...  \n",
       "189  https://pbs.twimg.com/profile_banners/36790708...  \n",
       "191  https://pbs.twimg.com/profile_banners/93032627...  \n",
       "193  https://pbs.twimg.com/profile_banners/75027953...  \n",
       "194  https://pbs.twimg.com/profile_banners/94970992...  \n",
       "195  https://pbs.twimg.com/profile_banners/10393640...  \n",
       "197  https://pbs.twimg.com/profile_banners/92299947...  \n",
       "199  https://pbs.twimg.com/profile_banners/77941582...  \n",
       "200  https://pbs.twimg.com/profile_banners/90030595...  \n",
       "201  https://pbs.twimg.com/profile_banners/95553601...  \n",
       "204  https://pbs.twimg.com/profile_banners/32813124...  \n",
       "205  https://pbs.twimg.com/profile_banners/89273789...  \n",
       "206  https://pbs.twimg.com/profile_banners/41357905...  \n",
       "207  https://pbs.twimg.com/profile_banners/79532986...  \n",
       "210  https://pbs.twimg.com/profile_banners/80828152...  \n",
       "\n",
       "[156 rows x 6 columns]"
      ]
     },
     "execution_count": 255,
     "metadata": {},
     "output_type": "execute_result"
    }
   ],
   "source": [
    "pa[pa['political affiliation'].isnull()]"
   ]
  },
  {
   "cell_type": "code",
   "execution_count": null,
   "metadata": {},
   "outputs": [],
   "source": []
  },
  {
   "cell_type": "code",
   "execution_count": null,
   "metadata": {},
   "outputs": [],
   "source": []
  },
  {
   "cell_type": "code",
   "execution_count": null,
   "metadata": {},
   "outputs": [],
   "source": []
  },
  {
   "cell_type": "code",
   "execution_count": null,
   "metadata": {},
   "outputs": [],
   "source": []
  },
  {
   "cell_type": "code",
   "execution_count": null,
   "metadata": {},
   "outputs": [],
   "source": []
  },
  {
   "cell_type": "code",
   "execution_count": null,
   "metadata": {},
   "outputs": [],
   "source": []
  }
 ],
 "metadata": {
  "kernelspec": {
   "display_name": "Python 3",
   "language": "python",
   "name": "python3"
  },
  "language_info": {
   "codemirror_mode": {
    "name": "ipython",
    "version": 3
   },
   "file_extension": ".py",
   "mimetype": "text/x-python",
   "name": "python",
   "nbconvert_exporter": "python",
   "pygments_lexer": "ipython3",
   "version": "3.7.3"
  }
 },
 "nbformat": 4,
 "nbformat_minor": 2
}
