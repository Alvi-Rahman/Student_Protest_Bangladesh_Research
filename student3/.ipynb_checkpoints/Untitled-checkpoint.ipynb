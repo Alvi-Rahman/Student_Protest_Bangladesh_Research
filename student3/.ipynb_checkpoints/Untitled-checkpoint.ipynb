{
 "cells": [
  {
   "cell_type": "code",
   "execution_count": 1,
   "metadata": {},
   "outputs": [],
   "source": [
    "import numpy as np\n",
    "import pandas as pd"
   ]
  },
  {
   "cell_type": "code",
   "execution_count": 3,
   "metadata": {},
   "outputs": [],
   "source": [
    "bcl = np.array(pd.read_excel('.\\\\subject\\\\bcl.xlsx')['text'])\n",
    "\n",
    "bcl.shape\n",
    "\n",
    "kill = np.array(pd.read_excel('.\\\\verb\\\\kill.xlsx')['text'])\n",
    "\n",
    "kill.shape\n",
    "\n",
    "student = np.array(pd.read_excel('.\\\\object\\\\student.xlsx')['text'])\n",
    "\n",
    "student.shape\n",
    "\n",
    "bcl_kill_student = np.concatenate([bcl,kill,student],axis=0)\n",
    "\n",
    "bcl_kill_student.shape\n",
    "\n",
    "bcl_kill_student = np.array(list(set(bcl_kill_student)))\n",
    "\n",
    "len(bcl_kill_student)\n",
    "\n",
    "for i in range(len(bcl_kill_student)):\n",
    "    bcl_kill_student[i] = bcl_kill_student[i].lower()\n",
    "\n",
    "unique_bcl_kill_student = []\n",
    "\n",
    "for i in range(len(bcl_kill_student)):\n",
    "    if ('bcl' in bcl_kill_student[i] or 'bsl' in bcl_kill_student[i] or 'chaatro league' in bcl_kill_student[i] or 'chatro league' in bcl_kill_student[i]\n",
    "       or 'Chhatra League' in bcl_kill_student[i] or 'student league' in bcl_kill_student[i] or 'chatra league' in bcl_kill_student[i] or\n",
    "        'chattra league' in bcl_kill_student[i]) and ('kill' in bcl_kill_student[i] or 'murder' in bcl_kill_student[i]) and ('student' in bcl_kill_student[i] or 'protester' in bcl_kill_student or\n",
    "                                                                                       'school kids' in bcl_kill_student or 'teenage' in bcl_kill_student):\n",
    "        unique_bcl_kill_student.append(bcl_kill_student[i])\n",
    "\n",
    "len(unique_bcl_kill_student)\n",
    "\n",
    "freq_bcl_kill_students = len(unique_bcl_kill_student) / len(bcl_kill_student) * 100"
   ]
  },
  {
   "cell_type": "code",
   "execution_count": 131,
   "metadata": {},
   "outputs": [],
   "source": [
    "bcl_kill_student = np.concatenate([bcl,kill,student],axis=0)\n",
    "\n",
    "bcl_kill_student = np.array(list(set(bcl_kill_student)))\n",
    "\n",
    "for i in range(len(bcl_kill_student)):\n",
    "    bcl_kill_student[i] = bcl_kill_student[i].lower()\n",
    "\n",
    "unique_bcl_kill_student = []\n",
    "\n",
    "for i in range(len(bcl_kill_student)):\n",
    "    if ('bcl' in bcl_kill_student[i] or 'bsl' in bcl_kill_student[i] or 'chaatro league' in bcl_kill_student[i] or 'chatro league' in bcl_kill_student[i]\n",
    "       or 'Chhatra League' in bcl_kill_student[i] or 'student league' in bcl_kill_student[i] or 'chatra league' in bcl_kill_student[i] or\n",
    "        'chattra league' in bcl_kill_student[i]) and ('kill' in bcl_kill_student[i] or 'murder' in bcl_kill_student[i]) and ('student' in bcl_kill_student[i] or 'protester' in bcl_kill_student or\n",
    "                                                                                       'school kids' in bcl_kill_student or 'teenage' in bcl_kill_student):\n",
    "        unique_bcl_kill_student.append(bcl_kill_student[i])\n",
    "\n",
    "freq_bcl_kill_students = len(unique_bcl_kill_student) / len(bcl_kill_student) * 100"
   ]
  },
  {
   "cell_type": "code",
   "execution_count": 132,
   "metadata": {},
   "outputs": [
    {
     "data": {
      "text/plain": [
       "2.178940961655508"
      ]
     },
     "execution_count": 132,
     "metadata": {},
     "output_type": "execute_result"
    }
   ],
   "source": [
    "freq_bcl_kill_students"
   ]
  },
  {
   "cell_type": "code",
   "execution_count": null,
   "metadata": {},
   "outputs": [],
   "source": []
  },
  {
   "cell_type": "code",
   "execution_count": null,
   "metadata": {},
   "outputs": [],
   "source": []
  },
  {
   "cell_type": "code",
   "execution_count": 137,
   "metadata": {},
   "outputs": [],
   "source": [
    "boy = np.array(pd.read_excel('.\\\\object\\\\boy.xlsx')['text'])\n",
    "\n",
    "bcl_kill_boy = np.concatenate([bcl,kill,boy],axis=0)\n",
    "\n",
    "bcl_kill_boy = np.array(list(set(bcl_kill_boy)))\n",
    "\n",
    "for i in range(len(bcl_kill_boy)):\n",
    "    bcl_kill_boy[i] = bcl_kill_boy[i].lower()\n",
    "\n",
    "unique_bcl_kill_boy = []\n",
    "\n",
    "for i in range(len(bcl_kill_boy)):\n",
    "    if ('bcl' in bcl_kill_boy[i] or 'bsl' in bcl_kill_boy[i] or 'chaatro league' in bcl_kill_boy[i] or\n",
    "        'chatro league' in bcl_kill_boy[i] or 'Chhatra League' in bcl_kill_boy[i] or 'student league' in bcl_kill_boy[i] or \n",
    "        'chatra league' in bcl_kill_boy[i] or 'chattra league' in bcl_kill_boy[i]) and ('kill' in bcl_kill_boy[i] or 'murder' in bcl_kill_boy[i]) and 'boy' in bcl_kill_boy[i] :\n",
    "        \n",
    "        unique_bcl_kill_boy.append(bcl_kill_boy[i])\n",
    "\n",
    "freq_bcl_kill_boy = len(unique_bcl_kill_boy) / len(bcl_kill_boy) * 100"
   ]
  },
  {
   "cell_type": "code",
   "execution_count": null,
   "metadata": {},
   "outputs": [],
   "source": []
  },
  {
   "cell_type": "code",
   "execution_count": 138,
   "metadata": {},
   "outputs": [
    {
     "data": {
      "text/plain": [
       "0.39984767707539987"
      ]
     },
     "execution_count": 138,
     "metadata": {},
     "output_type": "execute_result"
    }
   ],
   "source": [
    "freq_bcl_kill_boy"
   ]
  },
  {
   "cell_type": "code",
   "execution_count": 139,
   "metadata": {},
   "outputs": [],
   "source": [
    "girl = np.array(pd.read_excel('.\\\\object\\\\girl.xlsx')['text'])\n",
    "\n",
    "bcl_kill_girl = np.concatenate([bcl,kill,girl],axis=0)\n",
    "\n",
    "bcl_kill_girl = np.array(list(set(bcl_kill_girl)))\n",
    "\n",
    "for i in range(len(bcl_kill_girl)):\n",
    "    bcl_kill_girl[i] = bcl_kill_girl[i].lower()\n",
    "\n",
    "unique_bcl_kill_girl = []\n",
    "\n",
    "for i in range(len(bcl_kill_girl)):\n",
    "    if ('bcl' in bcl_kill_girl[i] or 'bsl' in bcl_kill_girl[i] or 'chaatro league' in bcl_kill_girl[i] or\n",
    "        'chatro league' in bcl_kill_girl[i] or 'Chhatra League' in bcl_kill_girl[i] or 'student league' in bcl_kill_girl[i] or \n",
    "        'chatra league' in bcl_kill_girl[i] or 'chattra league' in bcl_kill_girl[i]) and ('kill' in bcl_kill_girl[i] or 'murder' in bcl_kill_girl[i]) and 'girl' in bcl_kill_girl[i] :\n",
    "        \n",
    "        unique_bcl_kill_girl.append(bcl_kill_girl[i])\n",
    "\n",
    "freq_bcl_kill_girl = len(unique_bcl_kill_girl) / len(bcl_kill_girl) * 100"
   ]
  },
  {
   "cell_type": "code",
   "execution_count": 140,
   "metadata": {},
   "outputs": [
    {
     "data": {
      "text/plain": [
       "1.7654711020256457"
      ]
     },
     "execution_count": 140,
     "metadata": {},
     "output_type": "execute_result"
    }
   ],
   "source": [
    "freq_bcl_kill_girl"
   ]
  },
  {
   "cell_type": "code",
   "execution_count": null,
   "metadata": {},
   "outputs": [],
   "source": []
  },
  {
   "cell_type": "code",
   "execution_count": 141,
   "metadata": {},
   "outputs": [],
   "source": [
    "journalist = np.array(pd.read_excel('.\\\\object\\\\journalist.xlsx')['text'])\n",
    "\n",
    "bcl_kill_journalist = np.concatenate([bcl,kill,journalist],axis=0)\n",
    "\n",
    "bcl_kill_journalist = np.array(list(set(bcl_kill_journalist)))\n",
    "\n",
    "for i in range(len(bcl_kill_journalist)):\n",
    "    bcl_kill_journalist[i] = bcl_kill_journalist[i].lower()\n",
    "\n",
    "unique_bcl_kill_journalist = []\n",
    "\n",
    "for i in range(len(bcl_kill_journalist)):\n",
    "    if ('bcl' in bcl_kill_journalist[i] or 'bsl' in bcl_kill_journalist[i] or 'chaatro league' in bcl_kill_journalist[i] or\n",
    "        'chatro league' in bcl_kill_journalist[i] or 'Chhatra League' in bcl_kill_journalist[i] or 'student league' in bcl_kill_journalist[i] or \n",
    "        'chatra league' in bcl_kill_journalist[i] or 'chattra league' in bcl_kill_journalist[i]) and ('kill' in bcl_kill_journalist[i] or 'murder' in bcl_kill_journalist[i]) and 'journalist' in bcl_kill_journalist[i] :\n",
    "        \n",
    "        unique_bcl_kill_journalist.append(bcl_kill_journalist[i])\n",
    "\n",
    "freq_bcl_kill_journalist = len(unique_bcl_kill_journalist) / len(bcl_kill_journalist) * 100"
   ]
  },
  {
   "cell_type": "code",
   "execution_count": 142,
   "metadata": {},
   "outputs": [
    {
     "data": {
      "text/plain": [
       "0.05270555165144061"
      ]
     },
     "execution_count": 142,
     "metadata": {},
     "output_type": "execute_result"
    }
   ],
   "source": [
    "freq_bcl_kill_journalist"
   ]
  },
  {
   "cell_type": "code",
   "execution_count": null,
   "metadata": {},
   "outputs": [],
   "source": []
  },
  {
   "cell_type": "code",
   "execution_count": null,
   "metadata": {},
   "outputs": [],
   "source": []
  },
  {
   "cell_type": "code",
   "execution_count": 143,
   "metadata": {},
   "outputs": [],
   "source": [
    "govt = np.array(pd.read_excel('.\\\\subject\\\\govt.xlsx')['text'])\n",
    "\n",
    "govt_kill_journalist = np.concatenate([govt,kill,journalist],axis=0)\n",
    "\n",
    "govt_kill_journalist = np.array(list(set(govt_kill_journalist)))\n",
    "\n",
    "for i in range(len(govt_kill_journalist)):\n",
    "    govt_kill_journalist[i] = govt_kill_journalist[i].lower()\n",
    "\n",
    "unique_govt_kill_journalist = []\n",
    "\n",
    "for i in range(len(govt_kill_journalist)):\n",
    "    if ('government' in govt_kill_journalist[i] or 'govt' in govt_kill_journalist[i] or 'Ruling party supporter' in govt_kill_journalist[i]\n",
    "       or 'political leader' in govt_kill_journalist[i] or 'government party' in govt_kill_journalist[i] or\n",
    "       'Pro government supporter' in govt_kill_journalist[i] or 'awami league' in govt_kill_journalist[i]) and ('kill' in govt_kill_journalist[i] or 'murder' in govt_kill_journalist[i]) and 'journalist' in govt_kill_journalist[i] :\n",
    "        \n",
    "        unique_govt_kill_journalist.append(govt_kill_journalist[i])\n",
    "\n",
    "freq_govt_kill_journalist = len(unique_govt_kill_journalist) / len(govt_kill_journalist) * 100"
   ]
  },
  {
   "cell_type": "code",
   "execution_count": 144,
   "metadata": {},
   "outputs": [
    {
     "data": {
      "text/plain": [
       "0.06428801028608164"
      ]
     },
     "execution_count": 144,
     "metadata": {},
     "output_type": "execute_result"
    }
   ],
   "source": [
    "freq_govt_kill_journalist"
   ]
  },
  {
   "cell_type": "code",
   "execution_count": null,
   "metadata": {},
   "outputs": [],
   "source": []
  },
  {
   "cell_type": "code",
   "execution_count": null,
   "metadata": {},
   "outputs": [],
   "source": []
  },
  {
   "cell_type": "code",
   "execution_count": 145,
   "metadata": {},
   "outputs": [],
   "source": [
    "#student = np.array(pd.read_excel('.\\\\object\\\\student.xlsx')['text'])\n",
    "\n",
    "govt_kill_student = np.concatenate([govt,kill,student],axis=0)\n",
    "\n",
    "govt_kill_student = np.array(list(set(govt_kill_student)))\n",
    "\n",
    "for i in range(len(govt_kill_student)):\n",
    "    govt_kill_student[i] = govt_kill_student[i].lower()\n",
    "\n",
    "unique_govt_kill_student = []\n",
    "\n",
    "for i in range(len(govt_kill_student)):\n",
    "    if ('government' in govt_kill_student[i] or 'govt' in govt_kill_student[i] or 'Ruling party supporter' in govt_kill_student[i]\n",
    "       or 'political leader' in govt_kill_student[i] or 'government party' in govt_kill_student[i] or\n",
    "       'Pro government supporter' in govt_kill_student[i] or 'awami league' in govt_kill_student[i]) and ('kill' in govt_kill_student[i] or 'murder' in govt_kill_student[i]) and ('student' in govt_kill_student[i] or 'protester' in govt_kill_student or\n",
    "                                                                                       'school kids' in govt_kill_student or 'teenage' in govt_kill_student) :\n",
    "        \n",
    "        unique_govt_kill_student.append(govt_kill_student[i])\n",
    "\n",
    "freq_govt_kill_student = len(unique_govt_kill_student) / len(govt_kill_student) * 100"
   ]
  },
  {
   "cell_type": "code",
   "execution_count": 146,
   "metadata": {},
   "outputs": [
    {
     "data": {
      "text/plain": [
       "6.702835141757088"
      ]
     },
     "execution_count": 146,
     "metadata": {},
     "output_type": "execute_result"
    }
   ],
   "source": [
    "freq_govt_kill_student"
   ]
  },
  {
   "cell_type": "code",
   "execution_count": null,
   "metadata": {},
   "outputs": [],
   "source": []
  },
  {
   "cell_type": "code",
   "execution_count": 147,
   "metadata": {},
   "outputs": [],
   "source": [
    "#boy = np.array(pd.read_excel('.\\\\object\\\\boy.xlsx')['text'])\n",
    "\n",
    "govt_kill_boy = np.concatenate([govt,kill,boy],axis=0)\n",
    "\n",
    "govt_kill_boy = np.array(list(set(govt_kill_boy)))\n",
    "\n",
    "for i in range(len(govt_kill_boy)):\n",
    "    govt_kill_boy[i] = govt_kill_boy[i].lower()\n",
    "\n",
    "unique_govt_kill_boy = []\n",
    "\n",
    "for i in range(len(govt_kill_boy)):\n",
    "    if ('government' in govt_kill_boy[i] or 'govt' in govt_kill_boy[i] or 'Ruling party supporter' in govt_kill_boy[i]\n",
    "       or 'political leader' in govt_kill_boy[i] or 'government party' in govt_kill_boy[i] or\n",
    "       'Pro government supporter' in govt_kill_boy[i] or 'awami league' in govt_kill_boy[i]) and ('kill' in govt_kill_boy[i] or 'murder' in govt_kill_boy[i]) and 'boy' in govt_kill_boy[i] :\n",
    "        \n",
    "        unique_govt_kill_boy.append(govt_kill_boy[i])\n",
    "\n",
    "freq_govt_kill_boy = len(unique_govt_kill_boy) / len(govt_kill_boy) * 100"
   ]
  },
  {
   "cell_type": "code",
   "execution_count": 148,
   "metadata": {},
   "outputs": [
    {
     "data": {
      "text/plain": [
       "0.36007651625970516"
      ]
     },
     "execution_count": 148,
     "metadata": {},
     "output_type": "execute_result"
    }
   ],
   "source": [
    "freq_govt_kill_boy"
   ]
  },
  {
   "cell_type": "code",
   "execution_count": null,
   "metadata": {},
   "outputs": [],
   "source": []
  },
  {
   "cell_type": "code",
   "execution_count": 149,
   "metadata": {},
   "outputs": [],
   "source": [
    "girl = np.array(pd.read_excel('.\\\\object\\\\girl.xlsx')['text'])\n",
    "\n",
    "govt_kill_girl = np.concatenate([govt,kill,girl],axis=0)\n",
    "\n",
    "govt_kill_girl = np.array(list(set(govt_kill_girl)))\n",
    "\n",
    "for i in range(len(govt_kill_girl)):\n",
    "    govt_kill_girl[i] = govt_kill_girl[i].lower()\n",
    "\n",
    "unique_govt_kill_girl = []\n",
    "\n",
    "for i in range(len(govt_kill_girl)):\n",
    "    if ('government' in govt_kill_girl[i] or 'govt' in govt_kill_girl[i] or 'Ruling party supporter' in govt_kill_girl[i]\n",
    "       or 'political leader' in govt_kill_girl[i] or 'government party' in govt_kill_girl[i] or\n",
    "       'Pro government supporter' in govt_kill_girl[i] or 'awami league' in govt_kill_girl[i]) and ('kill' in govt_kill_girl[i] or 'murder' in govt_kill_girl[i]) and 'girl' in govt_kill_girl[i] :\n",
    "        \n",
    "        unique_govt_kill_girl.append(govt_kill_girl[i])\n",
    "\n",
    "freq_govt_kill_girl = len(unique_govt_kill_girl) / len(govt_kill_girl) * 100"
   ]
  },
  {
   "cell_type": "code",
   "execution_count": 150,
   "metadata": {},
   "outputs": [
    {
     "data": {
      "text/plain": [
       "1.8788215675375208"
      ]
     },
     "execution_count": 150,
     "metadata": {},
     "output_type": "execute_result"
    }
   ],
   "source": [
    "freq_govt_kill_girl"
   ]
  },
  {
   "cell_type": "code",
   "execution_count": null,
   "metadata": {},
   "outputs": [],
   "source": []
  },
  {
   "cell_type": "code",
   "execution_count": 151,
   "metadata": {},
   "outputs": [],
   "source": [
    "#police = np.array(pd.read_excel('.\\\\subject\\\\police.xlsx')['text'])\n",
    "\n",
    "police_kill_journalist = np.concatenate([police,kill,journalist],axis=0)\n",
    "\n",
    "police_kill_journalist = np.array(list(set(police_kill_journalist)))\n",
    "\n",
    "for i in range(len(police_kill_journalist)):\n",
    "    police_kill_journalist[i] = police_kill_journalist[i].lower()\n",
    "\n",
    "unique_police_kill_journalist = []\n",
    "\n",
    "for i in range(len(police_kill_journalist)):\n",
    "    if 'police' in police_kill_journalist[i] and ('kill' in police_kill_journalist[i] or 'murder' in police_kill_journalist[i]) and 'journalist' in police_kill_journalist[i] :\n",
    "        \n",
    "        unique_police_kill_journalist.append(police_kill_journalist[i])\n",
    "\n",
    "freq_police_kill_journalist = len(unique_police_kill_journalist) / len(police_kill_journalist) * 100"
   ]
  },
  {
   "cell_type": "code",
   "execution_count": 152,
   "metadata": {},
   "outputs": [
    {
     "data": {
      "text/plain": [
       "0.049011599411860805"
      ]
     },
     "execution_count": 152,
     "metadata": {},
     "output_type": "execute_result"
    }
   ],
   "source": [
    "freq_police_kill_journalist"
   ]
  },
  {
   "cell_type": "code",
   "execution_count": null,
   "metadata": {},
   "outputs": [],
   "source": []
  },
  {
   "cell_type": "code",
   "execution_count": 153,
   "metadata": {},
   "outputs": [],
   "source": [
    "boy = np.array(pd.read_excel('.\\\\object\\\\boy.xlsx')['text'])\n",
    "\n",
    "police_kill_boy = np.concatenate([police,kill,boy],axis=0)\n",
    "\n",
    "police_kill_boy = np.array(list(set(police_kill_boy)))\n",
    "\n",
    "for i in range(len(police_kill_boy)):\n",
    "    police_kill_boy[i] = police_kill_boy[i].lower()\n",
    "\n",
    "unique_police_kill_boy = []\n",
    "\n",
    "for i in range(len(police_kill_boy)):\n",
    "    if 'police' in police_kill_boy[i] and ('kill' in police_kill_boy[i] or 'murder' in police_kill_boy[i]) and 'boy' in police_kill_boy[i] :\n",
    "        \n",
    "        unique_police_kill_boy.append(police_kill_boy[i])\n",
    "\n",
    "freq_police_kill_boy = len(unique_police_kill_boy) / len(police_kill_boy) * 100"
   ]
  },
  {
   "cell_type": "code",
   "execution_count": 154,
   "metadata": {},
   "outputs": [
    {
     "data": {
      "text/plain": [
       "0.2615062761506276"
      ]
     },
     "execution_count": 154,
     "metadata": {},
     "output_type": "execute_result"
    }
   ],
   "source": [
    "freq_police_kill_boy"
   ]
  },
  {
   "cell_type": "code",
   "execution_count": null,
   "metadata": {},
   "outputs": [],
   "source": []
  },
  {
   "cell_type": "code",
   "execution_count": 155,
   "metadata": {},
   "outputs": [],
   "source": [
    "girl = np.array(pd.read_excel('.\\\\object\\\\girl.xlsx')['text'])\n",
    "\n",
    "police_kill_girl = np.concatenate([police,kill,girl],axis=0)\n",
    "\n",
    "police_kill_girl = np.array(list(set(police_kill_girl)))\n",
    "\n",
    "for i in range(len(police_kill_girl)):\n",
    "    police_kill_girl[i] = police_kill_girl[i].lower()\n",
    "\n",
    "unique_police_kill_girl = []\n",
    "\n",
    "for i in range(len(police_kill_girl)):\n",
    "    if 'police' in police_kill_girl[i] and ('kill' in police_kill_girl[i] or 'murder' in police_kill_girl[i]) and 'girl' in police_kill_girl[i] :\n",
    "        \n",
    "        unique_police_kill_girl.append(police_kill_girl[i])\n",
    "\n",
    "freq_police_kill_girl = len(unique_police_kill_girl) / len(police_kill_girl) * 100"
   ]
  },
  {
   "cell_type": "code",
   "execution_count": 156,
   "metadata": {},
   "outputs": [
    {
     "data": {
      "text/plain": [
       "1.2696800406297613"
      ]
     },
     "execution_count": 156,
     "metadata": {},
     "output_type": "execute_result"
    }
   ],
   "source": [
    "freq_police_kill_girl"
   ]
  },
  {
   "cell_type": "code",
   "execution_count": null,
   "metadata": {},
   "outputs": [],
   "source": []
  },
  {
   "cell_type": "code",
   "execution_count": 159,
   "metadata": {},
   "outputs": [],
   "source": [
    "student = np.array(pd.read_excel('.\\\\object\\\\student.xlsx')['text'])\n",
    "\n",
    "police_kill_student = np.concatenate([police,kill,student],axis=0)\n",
    "\n",
    "police_kill_student = np.array(list(set(police_kill_student)))\n",
    "\n",
    "for i in range(len(police_kill_student)):\n",
    "    police_kill_student[i] = police_kill_student[i].lower()\n",
    "\n",
    "unique_police_kill_student = []\n",
    "\n",
    "for i in range(len(police_kill_student)):\n",
    "    if 'police' in police_kill_student[i] and ('kill' in police_kill_student[i] or 'murder' in police_kill_student[i]) and ('student' in police_kill_student[i] or 'protester' in police_kill_student or 'school kids' in police_kill_student or 'teenage' in police_kill_student) :    \n",
    "        unique_police_kill_student.append(police_kill_student[i])\n",
    "\n",
    "freq_police_kill_student = len(unique_police_kill_student) / len(police_kill_student) * 100"
   ]
  },
  {
   "cell_type": "code",
   "execution_count": 160,
   "metadata": {},
   "outputs": [
    {
     "data": {
      "text/plain": [
       "2.0446662204101504"
      ]
     },
     "execution_count": 160,
     "metadata": {},
     "output_type": "execute_result"
    }
   ],
   "source": [
    "freq_police_kill_student"
   ]
  },
  {
   "cell_type": "code",
   "execution_count": null,
   "metadata": {},
   "outputs": [],
   "source": []
  },
  {
   "cell_type": "code",
   "execution_count": 86,
   "metadata": {},
   "outputs": [],
   "source": [
    "shoot = np.array(pd.read_excel('.\\\\verb\\\\shoot.xlsx')['text'])\n",
    "\n",
    "police_shoot_student = np.concatenate([police,shoot,student],axis=0)\n",
    "\n",
    "police_shoot_student = np.array(list(set(police_shoot_student)))\n",
    "\n",
    "for i in range(len(police_shoot_student)):\n",
    "    police_shoot_student[i] = police_shoot_student[i].lower()\n",
    "\n",
    "unique_police_shoot_student = []\n",
    "\n",
    "for i in range(len(police_shoot_student)):\n",
    "    if 'police' in police_shoot_student[i] and 'shoot' in police_shoot_student[i] and ('student' in police_shoot_student[i] or 'protester' in police_shoot_student or 'school kids' in police_shoot_student or 'teenage' in police_shoot_student):\n",
    "        \n",
    "        unique_police_shoot_student.append(police_shoot_student[i])\n",
    "\n",
    "freq_police_shoot_student = len(unique_police_shoot_student) / len(police_shoot_student) * 100"
   ]
  },
  {
   "cell_type": "code",
   "execution_count": 87,
   "metadata": {},
   "outputs": [
    {
     "data": {
      "text/plain": [
       "0.1853035143769968"
      ]
     },
     "execution_count": 87,
     "metadata": {},
     "output_type": "execute_result"
    }
   ],
   "source": [
    "freq_police_shoot_student"
   ]
  },
  {
   "cell_type": "code",
   "execution_count": null,
   "metadata": {},
   "outputs": [],
   "source": []
  },
  {
   "cell_type": "code",
   "execution_count": 88,
   "metadata": {},
   "outputs": [],
   "source": [
    "police_shoot_boy = np.concatenate([police,shoot,boy],axis=0)\n",
    "\n",
    "police_shoot_boy = np.array(list(set(police_shoot_boy)))\n",
    "\n",
    "for i in range(len(police_shoot_boy)):\n",
    "    police_shoot_boy[i] = police_shoot_boy[i].lower()\n",
    "\n",
    "unique_police_shoot_boy = []\n",
    "\n",
    "for i in range(len(police_shoot_boy)):\n",
    "    if 'police' in police_shoot_boy[i] and 'shoot' in police_shoot_boy[i] and 'boy' in police_shoot_boy:\n",
    "        \n",
    "        unique_police_shoot_boy.append(police_shoot_boy[i])\n",
    "\n",
    "freq_police_shoot_boy = len(unique_police_shoot_boy) / len(police_shoot_boy) * 100"
   ]
  },
  {
   "cell_type": "code",
   "execution_count": 89,
   "metadata": {},
   "outputs": [
    {
     "data": {
      "text/plain": [
       "0.0"
      ]
     },
     "execution_count": 89,
     "metadata": {},
     "output_type": "execute_result"
    }
   ],
   "source": [
    "freq_police_shoot_boy"
   ]
  },
  {
   "cell_type": "code",
   "execution_count": null,
   "metadata": {},
   "outputs": [],
   "source": []
  },
  {
   "cell_type": "code",
   "execution_count": 90,
   "metadata": {},
   "outputs": [],
   "source": [
    "police_shoot_girl = np.concatenate([police,shoot,girl],axis=0)\n",
    "\n",
    "police_shoot_girl = np.array(list(set(police_shoot_girl)))\n",
    "\n",
    "for i in range(len(police_shoot_girl)):\n",
    "    police_shoot_girl[i] = police_shoot_girl[i].lower()\n",
    "\n",
    "unique_police_shoot_girl = []\n",
    "\n",
    "for i in range(len(police_shoot_girl)):\n",
    "    if 'police' in police_shoot_girl[i] and 'shoot' in police_shoot_girl[i] and 'girl' in police_shoot_girl:\n",
    "        \n",
    "        unique_police_shoot_girl.append(police_shoot_girl[i])\n",
    "\n",
    "freq_police_shoot_girl = len(unique_police_shoot_girl) / len(police_shoot_girl) * 100"
   ]
  },
  {
   "cell_type": "code",
   "execution_count": 94,
   "metadata": {},
   "outputs": [
    {
     "data": {
      "text/plain": [
       "0.0"
      ]
     },
     "execution_count": 94,
     "metadata": {},
     "output_type": "execute_result"
    }
   ],
   "source": [
    "freq_police_shoot_girl"
   ]
  },
  {
   "cell_type": "code",
   "execution_count": null,
   "metadata": {},
   "outputs": [],
   "source": []
  },
  {
   "cell_type": "code",
   "execution_count": null,
   "metadata": {},
   "outputs": [],
   "source": []
  },
  {
   "cell_type": "code",
   "execution_count": 92,
   "metadata": {},
   "outputs": [],
   "source": [
    "police_shoot_journalist = np.concatenate([police,shoot,journalist],axis=0)\n",
    "\n",
    "police_shoot_journalist = np.array(list(set(police_shoot_journalist)))\n",
    "\n",
    "for i in range(len(police_shoot_journalist)):\n",
    "    police_shoot_journalist[i] = police_shoot_journalist[i].lower()\n",
    "\n",
    "unique_police_shoot_journalist = []\n",
    "\n",
    "for i in range(len(police_shoot_journalist)):\n",
    "    if 'police' in police_shoot_journalist[i] and 'shoot' in police_shoot_journalist[i] and 'journalist' in police_shoot_journalist:\n",
    "        \n",
    "        unique_police_shoot_journalist.append(police_shoot_journalist[i])\n",
    "\n",
    "freq_police_shoot_journalist = len(unique_police_shoot_journalist) / len(police_shoot_journalist) * 100"
   ]
  },
  {
   "cell_type": "code",
   "execution_count": 93,
   "metadata": {},
   "outputs": [
    {
     "data": {
      "text/plain": [
       "0.0"
      ]
     },
     "execution_count": 93,
     "metadata": {},
     "output_type": "execute_result"
    }
   ],
   "source": [
    "freq_police_shoot_journalist"
   ]
  },
  {
   "cell_type": "code",
   "execution_count": null,
   "metadata": {},
   "outputs": [],
   "source": []
  },
  {
   "cell_type": "code",
   "execution_count": 96,
   "metadata": {},
   "outputs": [],
   "source": [
    "bcl_shoot_student = np.concatenate([bcl,shoot,student],axis=0)\n",
    "\n",
    "bcl_shoot_student.shape\n",
    "\n",
    "bcl_shoot_student = np.array(list(set(bcl_shoot_student)))\n",
    "\n",
    "len(bcl_shoot_student)\n",
    "\n",
    "for i in range(len(bcl_shoot_student)):\n",
    "    bcl_shoot_student[i] = bcl_shoot_student[i].lower()\n",
    "\n",
    "unique_bcl_shoot_student = []\n",
    "\n",
    "for i in range(len(bcl_shoot_student)):\n",
    "    if ('bcl' in bcl_shoot_student[i] or 'bsl' in bcl_shoot_student[i] or 'chaatro league' in bcl_shoot_student[i] or 'chatro league' in bcl_shoot_student[i]\n",
    "       or 'Chhatra League' in bcl_shoot_student[i] or 'student league' in bcl_shoot_student[i] or 'chatra league' in bcl_shoot_student[i] or\n",
    "        'chattra league' in bcl_shoot_student[i]) and 'shoot' in bcl_shoot_student[i] and ('student' in bcl_shoot_student[i] or 'protester' in bcl_shoot_student or\n",
    "                                                                                       'school kids' in bcl_shoot_student or 'teenage' in bcl_shoot_student):\n",
    "        unique_bcl_shoot_student.append(bcl_shoot_student[i])\n",
    "\n",
    "len(unique_bcl_shoot_student)\n",
    "\n",
    "freq_bcl_shoot_students = len(unique_bcl_shoot_student) / len(bcl_shoot_student) * 100"
   ]
  },
  {
   "cell_type": "code",
   "execution_count": 97,
   "metadata": {},
   "outputs": [
    {
     "data": {
      "text/plain": [
       "0.08321065096332331"
      ]
     },
     "execution_count": 97,
     "metadata": {},
     "output_type": "execute_result"
    }
   ],
   "source": [
    "freq_bcl_shoot_students"
   ]
  },
  {
   "cell_type": "code",
   "execution_count": null,
   "metadata": {},
   "outputs": [],
   "source": []
  },
  {
   "cell_type": "code",
   "execution_count": 98,
   "metadata": {},
   "outputs": [],
   "source": [
    "bcl_shoot_boy = np.concatenate([bcl,shoot,boy],axis=0)\n",
    "\n",
    "bcl_shoot_boy = np.array(list(set(bcl_shoot_boy)))\n",
    "\n",
    "for i in range(len(bcl_shoot_boy)):\n",
    "    bcl_shoot_boy[i] = bcl_shoot_boy[i].lower()\n",
    "\n",
    "unique_bcl_shoot_boy = []\n",
    "\n",
    "for i in range(len(bcl_shoot_boy)):\n",
    "    if ('bcl' in bcl_shoot_boy[i] or 'bsl' in bcl_shoot_boy[i] or 'chaatro league' in bcl_shoot_boy[i] or\n",
    "        'chatro league' in bcl_shoot_boy[i] or 'Chhatra League' in bcl_shoot_boy[i] or 'student league' in bcl_shoot_boy[i] or \n",
    "        'chatra league' in bcl_shoot_boy[i] or 'chattra league' in bcl_shoot_boy[i]) and 'shoot' in bcl_shoot_boy[i] and 'boy' in bcl_shoot_boy[i] :\n",
    "        \n",
    "        unique_bcl_shoot_boy.append(bcl_shoot_boy[i])\n",
    "\n",
    "freq_bcl_shoot_boy = len(unique_bcl_shoot_boy) / len(bcl_shoot_boy) * 100"
   ]
  },
  {
   "cell_type": "code",
   "execution_count": 99,
   "metadata": {},
   "outputs": [
    {
     "data": {
      "text/plain": [
       "0.14478764478764478"
      ]
     },
     "execution_count": 99,
     "metadata": {},
     "output_type": "execute_result"
    }
   ],
   "source": [
    "freq_bcl_shoot_boy"
   ]
  },
  {
   "cell_type": "code",
   "execution_count": null,
   "metadata": {},
   "outputs": [],
   "source": []
  },
  {
   "cell_type": "code",
   "execution_count": 100,
   "metadata": {},
   "outputs": [],
   "source": [
    "bcl_shoot_girl = np.concatenate([bcl,shoot,girl],axis=0)\n",
    "\n",
    "bcl_shoot_girl = np.array(list(set(bcl_shoot_girl)))\n",
    "\n",
    "for i in range(len(bcl_shoot_girl)):\n",
    "    bcl_shoot_girl[i] = bcl_shoot_girl[i].lower()\n",
    "\n",
    "unique_bcl_shoot_girl = []\n",
    "\n",
    "for i in range(len(bcl_shoot_girl)):\n",
    "    if ('bcl' in bcl_shoot_girl[i] or 'bsl' in bcl_shoot_girl[i] or 'chaatro league' in bcl_shoot_girl[i] or\n",
    "        'chatro league' in bcl_shoot_girl[i] or 'Chhatra League' in bcl_shoot_girl[i] or 'student league' in bcl_shoot_girl[i] or \n",
    "        'chatra league' in bcl_shoot_girl[i] or 'chattra league' in bcl_shoot_girl[i]) and 'shoot' in bcl_shoot_girl[i] and 'girl' in bcl_shoot_girl[i] :\n",
    "        \n",
    "        unique_bcl_shoot_girl.append(bcl_shoot_girl[i])\n",
    "\n",
    "freq_bcl_shoot_girl = len(unique_bcl_shoot_girl) / len(bcl_shoot_girl) * 100"
   ]
  },
  {
   "cell_type": "code",
   "execution_count": 101,
   "metadata": {},
   "outputs": [
    {
     "data": {
      "text/plain": [
       "0.16135538523598225"
      ]
     },
     "execution_count": 101,
     "metadata": {},
     "output_type": "execute_result"
    }
   ],
   "source": [
    "freq_bcl_shoot_girl"
   ]
  },
  {
   "cell_type": "code",
   "execution_count": null,
   "metadata": {},
   "outputs": [],
   "source": []
  },
  {
   "cell_type": "code",
   "execution_count": 102,
   "metadata": {},
   "outputs": [],
   "source": [
    "bcl_shoot_journalist = np.concatenate([bcl,shoot,journalist],axis=0)\n",
    "\n",
    "bcl_shoot_journalist = np.array(list(set(bcl_shoot_journalist)))\n",
    "\n",
    "for i in range(len(bcl_shoot_journalist)):\n",
    "    bcl_shoot_journalist[i] = bcl_shoot_journalist[i].lower()\n",
    "\n",
    "unique_bcl_shoot_journalist = []\n",
    "\n",
    "for i in range(len(bcl_shoot_journalist)):\n",
    "    if ('bcl' in bcl_shoot_journalist[i] or 'bsl' in bcl_shoot_journalist[i] or 'chaatro league' in bcl_shoot_journalist[i] or\n",
    "        'chatro league' in bcl_shoot_journalist[i] or 'Chhatra League' in bcl_shoot_journalist[i] or 'student league' in bcl_shoot_journalist[i] or \n",
    "        'chatra league' in bcl_shoot_journalist[i] or 'chattra league' in bcl_shoot_journalist[i]) and 'shoot' in bcl_shoot_journalist[i] and 'journalist' in bcl_shoot_journalist[i] :\n",
    "        \n",
    "        unique_bcl_shoot_journalist.append(bcl_shoot_journalist[i])\n",
    "\n",
    "freq_bcl_shoot_journalist = len(unique_bcl_shoot_journalist) / len(bcl_shoot_journalist) * 100"
   ]
  },
  {
   "cell_type": "code",
   "execution_count": 103,
   "metadata": {},
   "outputs": [
    {
     "data": {
      "text/plain": [
       "0.0"
      ]
     },
     "execution_count": 103,
     "metadata": {},
     "output_type": "execute_result"
    }
   ],
   "source": [
    "freq_bcl_shoot_journalist"
   ]
  },
  {
   "cell_type": "code",
   "execution_count": null,
   "metadata": {},
   "outputs": [],
   "source": []
  },
  {
   "cell_type": "code",
   "execution_count": 104,
   "metadata": {},
   "outputs": [],
   "source": [
    "govt_shoot_journalist = np.concatenate([govt,shoot,journalist],axis=0)\n",
    "\n",
    "govt_shoot_journalist = np.array(list(set(govt_shoot_journalist)))\n",
    "\n",
    "for i in range(len(govt_shoot_journalist)):\n",
    "    govt_shoot_journalist[i] = govt_shoot_journalist[i].lower()\n",
    "\n",
    "unique_govt_shoot_journalist = []\n",
    "\n",
    "for i in range(len(govt_shoot_journalist)):\n",
    "    if ('government' in govt_shoot_journalist[i] or 'govt' in govt_shoot_journalist[i] or 'Ruling party supporter' in govt_shoot_journalist[i]\n",
    "       or 'political leader' in govt_shoot_journalist[i] or 'government party' in govt_shoot_journalist[i] or\n",
    "       'Pro government supporter' in govt_shoot_journalist[i] or 'awami league' in govt_shoot_journalist[i]) and 'shoot' in govt_shoot_journalist[i] and 'journalist' in govt_shoot_journalist[i] :\n",
    "        \n",
    "        unique_govt_shoot_journalist.append(govt_shoot_journalist[i])\n",
    "\n",
    "freq_govt_shoot_journalist = len(unique_govt_shoot_journalist) / len(govt_shoot_journalist) * 100"
   ]
  },
  {
   "cell_type": "code",
   "execution_count": 105,
   "metadata": {},
   "outputs": [
    {
     "data": {
      "text/plain": [
       "0.0"
      ]
     },
     "execution_count": 105,
     "metadata": {},
     "output_type": "execute_result"
    }
   ],
   "source": [
    "freq_govt_shoot_journalist"
   ]
  },
  {
   "cell_type": "code",
   "execution_count": null,
   "metadata": {},
   "outputs": [],
   "source": []
  },
  {
   "cell_type": "code",
   "execution_count": 106,
   "metadata": {},
   "outputs": [],
   "source": [
    "govt_shoot_boy = np.concatenate([govt,shoot,boy],axis=0)\n",
    "\n",
    "govt_shoot_boy = np.array(list(set(govt_shoot_boy)))\n",
    "\n",
    "for i in range(len(govt_shoot_boy)):\n",
    "    govt_shoot_boy[i] = govt_shoot_boy[i].lower()\n",
    "\n",
    "unique_govt_shoot_boy = []\n",
    "\n",
    "for i in range(len(govt_shoot_boy)):\n",
    "    if ('government' in govt_shoot_boy[i] or 'govt' in govt_shoot_boy[i] or 'Ruling party supporter' in govt_shoot_boy[i]\n",
    "       or 'political leader' in govt_shoot_boy[i] or 'government party' in govt_shoot_boy[i] or\n",
    "       'Pro government supporter' in govt_shoot_boy[i] or 'awami league' in govt_shoot_boy[i]) and 'shoot' in govt_shoot_boy[i] and 'boy' in govt_shoot_boy[i] :\n",
    "        \n",
    "        unique_govt_shoot_boy.append(govt_shoot_boy[i])\n",
    "\n",
    "freq_govt_shoot_boy = len(unique_govt_shoot_boy) / len(govt_shoot_boy) * 100"
   ]
  },
  {
   "cell_type": "code",
   "execution_count": 107,
   "metadata": {},
   "outputs": [
    {
     "data": {
      "text/plain": [
       "0.029940119760479042"
      ]
     },
     "execution_count": 107,
     "metadata": {},
     "output_type": "execute_result"
    }
   ],
   "source": [
    "freq_govt_shoot_boy"
   ]
  },
  {
   "cell_type": "code",
   "execution_count": null,
   "metadata": {},
   "outputs": [],
   "source": []
  },
  {
   "cell_type": "code",
   "execution_count": 108,
   "metadata": {},
   "outputs": [],
   "source": [
    "govt_shoot_girl = np.concatenate([govt,shoot,girl],axis=0)\n",
    "\n",
    "govt_shoot_girl = np.array(list(set(govt_shoot_girl)))\n",
    "\n",
    "for i in range(len(govt_shoot_girl)):\n",
    "    govt_shoot_girl[i] = govt_shoot_girl[i].lower()\n",
    "\n",
    "unique_govt_shoot_girl = []\n",
    "\n",
    "for i in range(len(govt_shoot_girl)):\n",
    "    if ('government' in govt_shoot_girl[i] or 'govt' in govt_shoot_girl[i] or 'Ruling party supporter' in govt_shoot_girl[i]\n",
    "       or 'political leader' in govt_shoot_girl[i] or 'government party' in govt_shoot_girl[i] or\n",
    "       'Pro government supporter' in govt_shoot_girl[i] or 'awami league' in govt_shoot_girl[i]) and 'shoot' in govt_shoot_girl[i] and 'girl' in govt_shoot_girl[i] :\n",
    "        \n",
    "        unique_govt_shoot_girl.append(govt_shoot_girl[i])\n",
    "\n",
    "freq_govt_shoot_girl = len(unique_govt_shoot_girl) / len(govt_shoot_girl) * 100"
   ]
  },
  {
   "cell_type": "code",
   "execution_count": 110,
   "metadata": {},
   "outputs": [
    {
     "data": {
      "text/plain": [
       "0.04283878337855205"
      ]
     },
     "execution_count": 110,
     "metadata": {},
     "output_type": "execute_result"
    }
   ],
   "source": [
    "freq_govt_shoot_girl"
   ]
  },
  {
   "cell_type": "code",
   "execution_count": null,
   "metadata": {},
   "outputs": [],
   "source": []
  },
  {
   "cell_type": "code",
   "execution_count": 111,
   "metadata": {},
   "outputs": [],
   "source": [
    "govt_shoot_student = np.concatenate([govt,shoot,student],axis=0)\n",
    "\n",
    "govt_shoot_student = np.array(list(set(govt_shoot_student)))\n",
    "\n",
    "for i in range(len(govt_shoot_student)):\n",
    "    govt_shoot_student[i] = govt_shoot_student[i].lower()\n",
    "\n",
    "unique_govt_shoot_student = []\n",
    "\n",
    "for i in range(len(govt_shoot_student)):\n",
    "    if ('government' in govt_shoot_student[i] or 'govt' in govt_shoot_student[i] or 'Ruling party supporter' in govt_shoot_student[i]\n",
    "       or 'political leader' in govt_shoot_student[i] or 'government party' in govt_shoot_student[i] or\n",
    "       'Pro government supporter' in govt_shoot_student[i] or 'awami league' in govt_shoot_student[i]) and 'shoot' in govt_shoot_student[i] and ('student' in govt_shoot_student[i] or 'protester' in govt_shoot_student or\n",
    "                                                                                       'school kids' in govt_shoot_student or 'teenage' in govt_shoot_student) :\n",
    "        \n",
    "        unique_govt_shoot_student.append(govt_shoot_student[i])\n",
    "\n",
    "freq_govt_shoot_student = len(unique_govt_shoot_student) / len(govt_shoot_student) * 100"
   ]
  },
  {
   "cell_type": "code",
   "execution_count": 112,
   "metadata": {},
   "outputs": [
    {
     "data": {
      "text/plain": [
       "0.09684643786695721"
      ]
     },
     "execution_count": 112,
     "metadata": {},
     "output_type": "execute_result"
    }
   ],
   "source": [
    "freq_govt_shoot_student"
   ]
  },
  {
   "cell_type": "code",
   "execution_count": null,
   "metadata": {},
   "outputs": [],
   "source": []
  },
  {
   "cell_type": "code",
   "execution_count": 113,
   "metadata": {},
   "outputs": [],
   "source": [
    "rape = np.array(pd.read_excel('.\\\\verb\\\\rape.xlsx')['text'])\n",
    "\n",
    "bcl_rape_student = np.concatenate([bcl,rape,student],axis=0)\n",
    "\n",
    "bcl_rape_student = np.array(list(set(bcl_rape_student)))\n",
    "\n",
    "len(bcl_rape_student)\n",
    "\n",
    "for i in range(len(bcl_rape_student)):\n",
    "    bcl_rape_student[i] = bcl_rape_student[i].lower()\n",
    "\n",
    "unique_bcl_rape_student = []\n",
    "\n",
    "for i in range(len(bcl_rape_student)):\n",
    "    if ('bcl' in bcl_rape_student[i] or 'bsl' in bcl_rape_student[i] or 'chaatro league' in bcl_rape_student[i] or 'chatro league' in bcl_rape_student[i]\n",
    "       or 'Chhatra League' in bcl_rape_student[i] or 'student league' in bcl_rape_student[i] or 'chatra league' in bcl_rape_student[i] or\n",
    "        'chattra league' in bcl_rape_student[i]) and 'rape' in bcl_rape_student[i] and ('student' in bcl_rape_student[i] or 'protester' in bcl_rape_student or\n",
    "                                                                                       'school kids' in bcl_rape_student or 'teenage' in bcl_rape_student):\n",
    "        unique_bcl_rape_student.append(bcl_rape_student[i])\n",
    "\n",
    "len(unique_bcl_rape_student)\n",
    "\n",
    "freq_bcl_rape_students = len(unique_bcl_rape_student) / len(bcl_rape_student) * 100"
   ]
  },
  {
   "cell_type": "code",
   "execution_count": 114,
   "metadata": {},
   "outputs": [
    {
     "data": {
      "text/plain": [
       "2.103630158237667"
      ]
     },
     "execution_count": 114,
     "metadata": {},
     "output_type": "execute_result"
    }
   ],
   "source": [
    "freq_bcl_rape_students"
   ]
  },
  {
   "cell_type": "code",
   "execution_count": 115,
   "metadata": {},
   "outputs": [],
   "source": [
    "bcl_rape_boy = np.concatenate([bcl,rape,boy],axis=0)\n",
    "\n",
    "bcl_rape_boy = np.array(list(set(bcl_rape_boy)))\n",
    "\n",
    "len(bcl_rape_boy)\n",
    "\n",
    "for i in range(len(bcl_rape_boy)):\n",
    "    bcl_rape_boy[i] = bcl_rape_boy[i].lower()\n",
    "\n",
    "unique_bcl_rape_boy = []\n",
    "\n",
    "for i in range(len(bcl_rape_boy)):\n",
    "    if ('bcl' in bcl_rape_boy[i] or 'bsl' in bcl_rape_boy[i] or 'chaatro league' in bcl_rape_boy[i] or 'chatro league' in bcl_rape_boy[i]\n",
    "       or 'Chhatra League' in bcl_rape_boy[i] or 'boy league' in bcl_rape_boy[i] or 'chatra league' in bcl_rape_boy[i] or\n",
    "        'chattra league' in bcl_rape_boy[i]) and 'rape' in bcl_rape_boy[i] and 'boy' in bcl_rape_boy[i] :\n",
    "        unique_bcl_rape_boy.append(bcl_rape_boy[i])\n",
    "\n",
    "len(unique_bcl_rape_boy)\n",
    "\n",
    "freq_bcl_rape_boys = len(unique_bcl_rape_boy) / len(bcl_rape_boy) * 100"
   ]
  },
  {
   "cell_type": "code",
   "execution_count": 116,
   "metadata": {},
   "outputs": [
    {
     "data": {
      "text/plain": [
       "0.37914691943127965"
      ]
     },
     "execution_count": 116,
     "metadata": {},
     "output_type": "execute_result"
    }
   ],
   "source": [
    "freq_bcl_rape_boys"
   ]
  },
  {
   "cell_type": "code",
   "execution_count": null,
   "metadata": {},
   "outputs": [],
   "source": []
  },
  {
   "cell_type": "code",
   "execution_count": 117,
   "metadata": {},
   "outputs": [],
   "source": [
    "bcl_rape_girl = np.concatenate([bcl,rape,girl],axis=0)\n",
    "\n",
    "bcl_rape_girl = np.array(list(set(bcl_rape_girl)))\n",
    "\n",
    "len(bcl_rape_girl)\n",
    "\n",
    "for i in range(len(bcl_rape_girl)):\n",
    "    bcl_rape_girl[i] = bcl_rape_girl[i].lower()\n",
    "\n",
    "unique_bcl_rape_girl = []\n",
    "\n",
    "for i in range(len(bcl_rape_girl)):\n",
    "    if ('bcl' in bcl_rape_girl[i] or 'bsl' in bcl_rape_girl[i] or 'chaatro league' in bcl_rape_girl[i] or 'chatro league' in bcl_rape_girl[i]\n",
    "       or 'Chhatra League' in bcl_rape_girl[i] or 'girl league' in bcl_rape_girl[i] or 'chatra league' in bcl_rape_girl[i] or\n",
    "        'chattra league' in bcl_rape_girl[i]) and 'rape' in bcl_rape_girl[i] and 'girl' in bcl_rape_girl[i] :\n",
    "        unique_bcl_rape_girl.append(bcl_rape_girl[i])\n",
    "\n",
    "len(unique_bcl_rape_girl)\n",
    "\n",
    "freq_bcl_rape_girls = len(unique_bcl_rape_girl) / len(bcl_rape_girl) * 100"
   ]
  },
  {
   "cell_type": "code",
   "execution_count": 118,
   "metadata": {},
   "outputs": [
    {
     "data": {
      "text/plain": [
       "2.937692489931296"
      ]
     },
     "execution_count": 118,
     "metadata": {},
     "output_type": "execute_result"
    }
   ],
   "source": [
    "freq_bcl_rape_girls"
   ]
  },
  {
   "cell_type": "code",
   "execution_count": null,
   "metadata": {},
   "outputs": [],
   "source": []
  },
  {
   "cell_type": "code",
   "execution_count": 119,
   "metadata": {},
   "outputs": [],
   "source": [
    "rape = np.array(pd.read_excel('.\\\\verb\\\\rape.xlsx')['text'])\n",
    "\n",
    "bcl_rape_journalist = np.concatenate([bcl,rape,journalist],axis=0)\n",
    "\n",
    "bcl_rape_journalist = np.array(list(set(bcl_rape_journalist)))\n",
    "\n",
    "len(bcl_rape_journalist)\n",
    "\n",
    "for i in range(len(bcl_rape_journalist)):\n",
    "    bcl_rape_journalist[i] = bcl_rape_journalist[i].lower()\n",
    "\n",
    "unique_bcl_rape_journalist = []\n",
    "\n",
    "for i in range(len(bcl_rape_journalist)):\n",
    "    if ('bcl' in bcl_rape_journalist[i] or 'bsl' in bcl_rape_journalist[i] or 'chaatro league' in bcl_rape_journalist[i] or 'chatro league' in bcl_rape_journalist[i]\n",
    "       or 'Chhatra League' in bcl_rape_journalist[i] or 'journalist league' in bcl_rape_journalist[i] or 'chatra league' in bcl_rape_journalist[i] or\n",
    "        'chattra league' in bcl_rape_journalist[i]) and 'rape' in bcl_rape_journalist[i] and 'journalist' in bcl_rape_journalist[i] :\n",
    "        unique_bcl_rape_journalist.append(bcl_rape_journalist[i])\n",
    "\n",
    "len(unique_bcl_rape_journalist)\n",
    "\n",
    "freq_bcl_rape_journalists = len(unique_bcl_rape_journalist) / len(bcl_rape_journalist) * 100"
   ]
  },
  {
   "cell_type": "code",
   "execution_count": 120,
   "metadata": {},
   "outputs": [
    {
     "data": {
      "text/plain": [
       "0.0"
      ]
     },
     "execution_count": 120,
     "metadata": {},
     "output_type": "execute_result"
    }
   ],
   "source": [
    "freq_bcl_rape_journalists"
   ]
  },
  {
   "cell_type": "code",
   "execution_count": null,
   "metadata": {},
   "outputs": [],
   "source": []
  },
  {
   "cell_type": "code",
   "execution_count": 122,
   "metadata": {},
   "outputs": [],
   "source": [
    "govt_rape_journalist = np.concatenate([govt,rape,journalist],axis=0)\n",
    "\n",
    "govt_rape_journalist = np.array(list(set(govt_rape_journalist)))\n",
    "\n",
    "len(govt_rape_journalist)\n",
    "\n",
    "for i in range(len(govt_rape_journalist)):\n",
    "    govt_rape_journalist[i] = govt_rape_journalist[i].lower()\n",
    "\n",
    "unique_govt_rape_journalist = []\n",
    "\n",
    "for i in range(len(govt_rape_journalist)):\n",
    "    if ('government' in govt_rape_journalist[i] or 'govt' in govt_rape_journalist[i] or 'Ruling party supporter' in govt_rape_journalist[i]\n",
    "       or 'political leader' in govt_rape_journalist[i] or 'government party' in govt_rape_journalist[i] or\n",
    "       'Pro government supporter' in govt_rape_journalist[i] or 'awami league' in govt_rape_journalist[i]) and 'rape' in govt_rape_journalist[i] and 'journalist' in govt_rape_journalist[i] :\n",
    "        unique_govt_rape_journalist.append(govt_rape_journalist[i])\n",
    "\n",
    "len(unique_govt_rape_journalist)\n",
    "\n",
    "freq_govt_rape_journalists = len(unique_govt_rape_journalist) / len(govt_rape_journalist) * 100"
   ]
  },
  {
   "cell_type": "code",
   "execution_count": 124,
   "metadata": {},
   "outputs": [
    {
     "data": {
      "text/plain": [
       "0.023199164830066118"
      ]
     },
     "execution_count": 124,
     "metadata": {},
     "output_type": "execute_result"
    }
   ],
   "source": [
    "freq_govt_rape_journalists"
   ]
  },
  {
   "cell_type": "code",
   "execution_count": null,
   "metadata": {},
   "outputs": [],
   "source": []
  },
  {
   "cell_type": "code",
   "execution_count": 125,
   "metadata": {},
   "outputs": [],
   "source": [
    "govt_rape_boy = np.concatenate([govt,rape,boy],axis=0)\n",
    "\n",
    "govt_rape_boy = np.array(list(set(govt_rape_boy)))\n",
    "\n",
    "len(govt_rape_boy)\n",
    "\n",
    "for i in range(len(govt_rape_boy)):\n",
    "    govt_rape_boy[i] = govt_rape_boy[i].lower()\n",
    "\n",
    "unique_govt_rape_boy = []\n",
    "\n",
    "for i in range(len(govt_rape_boy)):\n",
    "    if ('government' in govt_rape_boy[i] or 'govt' in govt_rape_boy[i] or 'Ruling party supporter' in govt_rape_boy[i]\n",
    "       or 'political leader' in govt_rape_boy[i] or 'government party' in govt_rape_boy[i] or\n",
    "       'Pro government supporter' in govt_rape_boy[i] or 'awami league' in govt_rape_boy[i]) and 'rape' in govt_rape_boy[i] and 'boy' in govt_rape_boy[i] :\n",
    "        unique_govt_rape_boy.append(govt_rape_boy[i])\n",
    "\n",
    "len(unique_govt_rape_boy)\n",
    "\n",
    "freq_govt_rape_boys = len(unique_govt_rape_boy) / len(govt_rape_boy) * 100"
   ]
  },
  {
   "cell_type": "code",
   "execution_count": 126,
   "metadata": {},
   "outputs": [
    {
     "data": {
      "text/plain": [
       "0.35534860923906386"
      ]
     },
     "execution_count": 126,
     "metadata": {},
     "output_type": "execute_result"
    }
   ],
   "source": [
    "freq_govt_rape_boys"
   ]
  },
  {
   "cell_type": "code",
   "execution_count": null,
   "metadata": {},
   "outputs": [],
   "source": []
  },
  {
   "cell_type": "code",
   "execution_count": 127,
   "metadata": {},
   "outputs": [],
   "source": [
    "govt_rape_girl = np.concatenate([govt,rape,girl],axis=0)\n",
    "\n",
    "govt_rape_girl = np.array(list(set(govt_rape_girl)))\n",
    "\n",
    "len(govt_rape_girl)\n",
    "\n",
    "for i in range(len(govt_rape_girl)):\n",
    "    govt_rape_girl[i] = govt_rape_girl[i].lower()\n",
    "\n",
    "unique_govt_rape_girl = []\n",
    "\n",
    "for i in range(len(govt_rape_girl)):\n",
    "    if ('government' in govt_rape_girl[i] or 'govt' in govt_rape_girl[i] or 'Ruling party supporter' in govt_rape_girl[i]\n",
    "       or 'political leader' in govt_rape_girl[i] or 'government party' in govt_rape_girl[i] or\n",
    "       'Pro government supporter' in govt_rape_girl[i] or 'awami league' in govt_rape_girl[i]) and 'rape' in govt_rape_girl[i] and 'girl' in govt_rape_girl[i] :\n",
    "        unique_govt_rape_girl.append(govt_rape_girl[i])\n",
    "\n",
    "len(unique_govt_rape_girl)\n",
    "\n",
    "freq_govt_rape_girls = len(unique_govt_rape_girl) / len(govt_rape_girl) * 100"
   ]
  },
  {
   "cell_type": "code",
   "execution_count": 128,
   "metadata": {},
   "outputs": [
    {
     "data": {
      "text/plain": [
       "2.5319567354965584"
      ]
     },
     "execution_count": 128,
     "metadata": {},
     "output_type": "execute_result"
    }
   ],
   "source": [
    "freq_govt_rape_girls"
   ]
  },
  {
   "cell_type": "code",
   "execution_count": null,
   "metadata": {},
   "outputs": [],
   "source": []
  },
  {
   "cell_type": "code",
   "execution_count": 129,
   "metadata": {},
   "outputs": [],
   "source": [
    "govt_rape_student = np.concatenate([govt,rape,student],axis=0)\n",
    "\n",
    "govt_rape_student = np.array(list(set(govt_rape_student)))\n",
    "\n",
    "len(govt_rape_student)\n",
    "\n",
    "for i in range(len(govt_rape_student)):\n",
    "    govt_rape_student[i] = govt_rape_student[i].lower()\n",
    "\n",
    "unique_govt_rape_student = []\n",
    "\n",
    "for i in range(len(govt_rape_student)):\n",
    "    if ('government' in govt_rape_student[i] or 'govt' in govt_rape_student[i] or 'Ruling party supporter' in govt_rape_student[i]\n",
    "       or 'political leader' in govt_rape_student[i] or 'government party' in govt_rape_student[i] or\n",
    "       'Pro government supporter' in govt_rape_student[i] or 'awami league' in govt_rape_student[i]) and 'rape' in govt_rape_student[i] and ('student' in govt_rape_student[i] or 'protester' in govt_rape_student or\n",
    "                                                                                       'school kids' in govt_rape_student or 'teenage' in govt_rape_student) :\n",
    "        unique_govt_rape_student.append(govt_rape_student[i])\n",
    "\n",
    "len(unique_govt_rape_student)\n",
    "\n",
    "freq_govt_rape_students = len(unique_govt_rape_student) / len(govt_rape_student) * 100"
   ]
  },
  {
   "cell_type": "code",
   "execution_count": 130,
   "metadata": {},
   "outputs": [
    {
     "data": {
      "text/plain": [
       "5.344776561112755"
      ]
     },
     "execution_count": 130,
     "metadata": {},
     "output_type": "execute_result"
    }
   ],
   "source": [
    "freq_govt_rape_students"
   ]
  },
  {
   "cell_type": "code",
   "execution_count": null,
   "metadata": {},
   "outputs": [],
   "source": []
  },
  {
   "cell_type": "code",
   "execution_count": 164,
   "metadata": {},
   "outputs": [],
   "source": [
    "torture = np.array(pd.read_excel('.\\\\verb\\\\torture.xlsx')['text'])\n",
    "\n",
    "bcl_torture_student = np.concatenate([bcl,torture,student],axis=0)\n",
    "\n",
    "bcl_torture_student = np.array(list(set(bcl_torture_student)))\n",
    "\n",
    "len(bcl_torture_student)\n",
    "\n",
    "for i in range(len(bcl_torture_student)):\n",
    "    bcl_torture_student[i] = bcl_torture_student[i].lower()\n",
    "\n",
    "unique_bcl_torture_student = []\n",
    "\n",
    "for i in range(len(bcl_torture_student)):\n",
    "    if ('bcl' in bcl_torture_student[i] or 'bsl' in bcl_torture_student[i] or 'chaatro league' in bcl_torture_student[i] or 'chatro league' in bcl_torture_student[i]\n",
    "       or 'Chhatra League' in bcl_torture_student[i] or 'student league' in bcl_torture_student[i] or 'chatra league' in bcl_torture_student[i] or\n",
    "        'chattra league' in bcl_torture_student[i]) and ('torture' in bcl_torture_student[i] or 'assault' in bcl_torture_student[i] or 'beat' in bcl_torture_student[i]) and ('student' in bcl_torture_student[i] or 'protester' in bcl_torture_student or\n",
    "                                                                                       'school kids' in bcl_torture_student or 'teenage' in bcl_torture_student):\n",
    "        unique_bcl_torture_student.append(bcl_torture_student[i])\n",
    "\n",
    "len(unique_bcl_torture_student)\n",
    "\n",
    "freq_bcl_torture_students = len(unique_bcl_torture_student) / len(bcl_torture_student) * 100"
   ]
  },
  {
   "cell_type": "code",
   "execution_count": 165,
   "metadata": {},
   "outputs": [
    {
     "data": {
      "text/plain": [
       "1.175007771215418"
      ]
     },
     "execution_count": 165,
     "metadata": {},
     "output_type": "execute_result"
    }
   ],
   "source": [
    "freq_bcl_torture_students"
   ]
  },
  {
   "cell_type": "code",
   "execution_count": null,
   "metadata": {},
   "outputs": [],
   "source": []
  },
  {
   "cell_type": "code",
   "execution_count": 167,
   "metadata": {},
   "outputs": [],
   "source": [
    "bcl_torture_boy = np.concatenate([bcl,torture,boy],axis=0)\n",
    "\n",
    "bcl_torture_boy = np.array(list(set(bcl_torture_boy)))\n",
    "\n",
    "len(bcl_torture_boy)\n",
    "\n",
    "for i in range(len(bcl_torture_boy)):\n",
    "    bcl_torture_boy[i] = bcl_torture_boy[i].lower()\n",
    "\n",
    "unique_bcl_torture_boy = []\n",
    "\n",
    "for i in range(len(bcl_torture_boy)):\n",
    "    if ('bcl' in bcl_torture_boy[i] or 'bsl' in bcl_torture_boy[i] or 'chaatro league' in bcl_torture_boy[i] or 'chatro league' in bcl_torture_boy[i]\n",
    "       or 'Chhatra League' in bcl_torture_boy[i] or 'boy league' in bcl_torture_boy[i] or 'chatra league' in bcl_torture_boy[i] or\n",
    "        'chattra league' in bcl_torture_boy[i]) and ('torture' in bcl_torture_boy[i] or 'assault' in bcl_torture_boy[i] or 'beat' in bcl_torture_boy[i]) and 'boy' in bcl_torture_boy[i]:\n",
    "        unique_bcl_torture_boy.append(bcl_torture_boy[i])\n",
    "\n",
    "len(unique_bcl_torture_boy)\n",
    "\n",
    "freq_bcl_torture_boys = len(unique_bcl_torture_boy) / len(bcl_torture_boy) * 100"
   ]
  },
  {
   "cell_type": "code",
   "execution_count": 168,
   "metadata": {},
   "outputs": [
    {
     "data": {
      "text/plain": [
       "0.11574074074074073"
      ]
     },
     "execution_count": 168,
     "metadata": {},
     "output_type": "execute_result"
    }
   ],
   "source": [
    "freq_bcl_torture_boys"
   ]
  },
  {
   "cell_type": "code",
   "execution_count": null,
   "metadata": {},
   "outputs": [],
   "source": []
  },
  {
   "cell_type": "code",
   "execution_count": 169,
   "metadata": {},
   "outputs": [],
   "source": [
    "bcl_torture_girl = np.concatenate([bcl,torture,girl],axis=0)\n",
    "\n",
    "bcl_torture_girl = np.array(list(set(bcl_torture_girl)))\n",
    "\n",
    "len(bcl_torture_girl)\n",
    "\n",
    "for i in range(len(bcl_torture_girl)):\n",
    "    bcl_torture_girl[i] = bcl_torture_girl[i].lower()\n",
    "\n",
    "unique_bcl_torture_girl = []\n",
    "\n",
    "for i in range(len(bcl_torture_girl)):\n",
    "    if ('bcl' in bcl_torture_girl[i] or 'bsl' in bcl_torture_girl[i] or 'chaatro league' in bcl_torture_girl[i] or 'chatro league' in bcl_torture_girl[i]\n",
    "       or 'Chhatra League' in bcl_torture_girl[i] or 'girl league' in bcl_torture_girl[i] or 'chatra league' in bcl_torture_girl[i] or\n",
    "        'chattra league' in bcl_torture_girl[i]) and ('torture' in bcl_torture_girl[i] or 'assault' in bcl_torture_girl[i] or 'beat' in bcl_torture_girl[i]) and 'girl' in bcl_torture_girl[i]:\n",
    "        unique_bcl_torture_girl.append(bcl_torture_girl[i])\n",
    "\n",
    "len(unique_bcl_torture_girl)\n",
    "\n",
    "freq_bcl_torture_girls = len(unique_bcl_torture_girl) / len(bcl_torture_girl) * 100"
   ]
  },
  {
   "cell_type": "code",
   "execution_count": 170,
   "metadata": {},
   "outputs": [
    {
     "data": {
      "text/plain": [
       "0.39556962025316456"
      ]
     },
     "execution_count": 170,
     "metadata": {},
     "output_type": "execute_result"
    }
   ],
   "source": [
    "freq_bcl_torture_girls"
   ]
  },
  {
   "cell_type": "code",
   "execution_count": null,
   "metadata": {},
   "outputs": [],
   "source": []
  },
  {
   "cell_type": "code",
   "execution_count": 171,
   "metadata": {},
   "outputs": [],
   "source": [
    "bcl_torture_journalist = np.concatenate([bcl,torture,journalist],axis=0)\n",
    "\n",
    "bcl_torture_journalist = np.array(list(set(bcl_torture_journalist)))\n",
    "\n",
    "len(bcl_torture_journalist)\n",
    "\n",
    "for i in range(len(bcl_torture_journalist)):\n",
    "    bcl_torture_journalist[i] = bcl_torture_journalist[i].lower()\n",
    "\n",
    "unique_bcl_torture_journalist = []\n",
    "\n",
    "for i in range(len(bcl_torture_journalist)):\n",
    "    if ('bcl' in bcl_torture_journalist[i] or 'bsl' in bcl_torture_journalist[i] or 'chaatro league' in bcl_torture_journalist[i] or 'chatro league' in bcl_torture_journalist[i]\n",
    "       or 'Chhatra League' in bcl_torture_journalist[i] or 'journalist league' in bcl_torture_journalist[i] or 'chatra league' in bcl_torture_journalist[i] or\n",
    "        'chattra league' in bcl_torture_journalist[i]) and ('torture' in bcl_torture_journalist[i] or 'assault' in bcl_torture_journalist[i] or 'beat' in bcl_torture_journalist[i]) and 'journalist' in bcl_torture_journalist[i]:\n",
    "        unique_bcl_torture_journalist.append(bcl_torture_journalist[i])\n",
    "\n",
    "len(unique_bcl_torture_journalist)\n",
    "\n",
    "freq_bcl_torture_journalists = len(unique_bcl_torture_journalist) / len(bcl_torture_journalist) * 100"
   ]
  },
  {
   "cell_type": "code",
   "execution_count": 172,
   "metadata": {},
   "outputs": [
    {
     "data": {
      "text/plain": [
       "0.7896814951302974"
      ]
     },
     "execution_count": 172,
     "metadata": {},
     "output_type": "execute_result"
    }
   ],
   "source": [
    "freq_bcl_torture_journalists"
   ]
  },
  {
   "cell_type": "code",
   "execution_count": null,
   "metadata": {},
   "outputs": [],
   "source": []
  },
  {
   "cell_type": "code",
   "execution_count": 173,
   "metadata": {},
   "outputs": [],
   "source": [
    "govt_torture_student = np.concatenate([govt,torture,student],axis=0)\n",
    "\n",
    "govt_torture_student = np.array(list(set(govt_torture_student)))\n",
    "\n",
    "len(govt_torture_student)\n",
    "\n",
    "for i in range(len(govt_torture_student)):\n",
    "    govt_torture_student[i] = govt_torture_student[i].lower()\n",
    "\n",
    "unique_govt_torture_student = []\n",
    "\n",
    "for i in range(len(govt_torture_student)):\n",
    "    if ('government' in govt_torture_student[i] or 'govt' in govt_torture_student[i] or 'Ruling party supporter' in govt_torture_student[i]\n",
    "       or 'political leader' in govt_torture_student[i] or 'government party' in govt_torture_student[i] or\n",
    "       'Pro government supporter' in govt_torture_student[i] or 'awami league' in govt_torture_student[i]) and ('torture' in govt_torture_student[i] or 'assault' in govt_torture_student[i] or 'beat' in govt_torture_student[i]) and ('student' in govt_torture_student[i] or 'protester' in govt_torture_student or\n",
    "                                                                                       'school kids' in govt_torture_student or 'teenage' in govt_torture_student):\n",
    "        unique_govt_torture_student.append(govt_torture_student[i])\n",
    "\n",
    "len(unique_govt_torture_student)\n",
    "\n",
    "freq_govt_torture_students = len(unique_govt_torture_student) / len(govt_torture_student) * 100"
   ]
  },
  {
   "cell_type": "code",
   "execution_count": 174,
   "metadata": {},
   "outputs": [
    {
     "data": {
      "text/plain": [
       "2.481389578163772"
      ]
     },
     "execution_count": 174,
     "metadata": {},
     "output_type": "execute_result"
    }
   ],
   "source": [
    "freq_govt_torture_students"
   ]
  },
  {
   "cell_type": "code",
   "execution_count": null,
   "metadata": {},
   "outputs": [],
   "source": []
  },
  {
   "cell_type": "code",
   "execution_count": 175,
   "metadata": {},
   "outputs": [],
   "source": [
    "govt_torture_boy = np.concatenate([govt,torture,boy],axis=0)\n",
    "\n",
    "govt_torture_boy = np.array(list(set(govt_torture_boy)))\n",
    "\n",
    "len(govt_torture_boy)\n",
    "\n",
    "for i in range(len(govt_torture_boy)):\n",
    "    govt_torture_boy[i] = govt_torture_boy[i].lower()\n",
    "\n",
    "unique_govt_torture_boy = []\n",
    "\n",
    "for i in range(len(govt_torture_boy)):\n",
    "    if ('government' in govt_torture_boy[i] or 'govt' in govt_torture_boy[i] or 'Ruling party supporter' in govt_torture_boy[i]\n",
    "       or 'political leader' in govt_torture_boy[i] or 'government party' in govt_torture_boy[i] or\n",
    "       'Pro government supporter' in govt_torture_boy[i] or 'awami league' in govt_torture_boy[i]) and ('torture' in govt_torture_boy[i] or 'assault' in govt_torture_boy[i] or 'beat' in govt_torture_boy[i]) and 'boy' in govt_torture_boy[i] :\n",
    "        unique_govt_torture_boy.append(govt_torture_boy[i])\n",
    "\n",
    "len(unique_govt_torture_boy)\n",
    "\n",
    "freq_govt_torture_boys = len(unique_govt_torture_boy) / len(govt_torture_boy) * 100"
   ]
  },
  {
   "cell_type": "code",
   "execution_count": 176,
   "metadata": {},
   "outputs": [
    {
     "data": {
      "text/plain": [
       "0.15402387370042356"
      ]
     },
     "execution_count": 176,
     "metadata": {},
     "output_type": "execute_result"
    }
   ],
   "source": [
    "freq_govt_torture_boys"
   ]
  },
  {
   "cell_type": "code",
   "execution_count": null,
   "metadata": {},
   "outputs": [],
   "source": []
  },
  {
   "cell_type": "code",
   "execution_count": 177,
   "metadata": {},
   "outputs": [],
   "source": [
    "govt_torture_girl = np.concatenate([govt,torture,girl],axis=0)\n",
    "\n",
    "govt_torture_girl = np.array(list(set(govt_torture_girl)))\n",
    "\n",
    "len(govt_torture_girl)\n",
    "\n",
    "for i in range(len(govt_torture_girl)):\n",
    "    govt_torture_girl[i] = govt_torture_girl[i].lower()\n",
    "\n",
    "unique_govt_torture_girl = []\n",
    "\n",
    "for i in range(len(govt_torture_girl)):\n",
    "    if ('government' in govt_torture_girl[i] or 'govt' in govt_torture_girl[i] or 'Ruling party supporter' in govt_torture_girl[i]\n",
    "       or 'political leader' in govt_torture_girl[i] or 'government party' in govt_torture_girl[i] or\n",
    "       'Pro government supporter' in govt_torture_girl[i] or 'awami league' in govt_torture_girl[i]) and ('torture' in govt_torture_girl[i] or 'assault' in govt_torture_girl[i] or 'beat' in govt_torture_girl[i]) and 'girl' in govt_torture_girl[i] :\n",
    "        unique_govt_torture_girl.append(govt_torture_girl[i])\n",
    "\n",
    "len(unique_govt_torture_girl)\n",
    "\n",
    "freq_govt_torture_girls = len(unique_govt_torture_girl) / len(govt_torture_girl) * 100"
   ]
  },
  {
   "cell_type": "code",
   "execution_count": 178,
   "metadata": {},
   "outputs": [
    {
     "data": {
      "text/plain": [
       "0.4345666749441272"
      ]
     },
     "execution_count": 178,
     "metadata": {},
     "output_type": "execute_result"
    }
   ],
   "source": [
    "freq_govt_torture_girls"
   ]
  },
  {
   "cell_type": "code",
   "execution_count": null,
   "metadata": {},
   "outputs": [],
   "source": []
  },
  {
   "cell_type": "code",
   "execution_count": 179,
   "metadata": {},
   "outputs": [],
   "source": [
    "govt_torture_journalist = np.concatenate([govt,torture,journalist],axis=0)\n",
    "\n",
    "govt_torture_journalist = np.array(list(set(govt_torture_journalist)))\n",
    "\n",
    "len(govt_torture_journalist)\n",
    "\n",
    "for i in range(len(govt_torture_journalist)):\n",
    "    govt_torture_journalist[i] = govt_torture_journalist[i].lower()\n",
    "\n",
    "unique_govt_torture_journalist = []\n",
    "\n",
    "for i in range(len(govt_torture_journalist)):\n",
    "    if ('government' in govt_torture_journalist[i] or 'govt' in govt_torture_journalist[i] or 'Ruling party supporter' in govt_torture_journalist[i]\n",
    "       or 'political leader' in govt_torture_journalist[i] or 'government party' in govt_torture_journalist[i] or\n",
    "       'Pro government supporter' in govt_torture_journalist[i] or 'awami league' in govt_torture_journalist[i]) and ('torture' in govt_torture_journalist[i] or 'assault' in govt_torture_journalist[i] or 'beat' in govt_torture_journalist[i]) and 'journalist' in govt_torture_journalist[i] :\n",
    "        unique_govt_torture_journalist.append(govt_torture_journalist[i])\n",
    "\n",
    "len(unique_govt_torture_journalist)\n",
    "\n",
    "freq_govt_torture_journalists = len(unique_govt_torture_journalist) / len(govt_torture_journalist) * 100"
   ]
  },
  {
   "cell_type": "code",
   "execution_count": 181,
   "metadata": {},
   "outputs": [
    {
     "data": {
      "text/plain": [
       "0.29545734334605445"
      ]
     },
     "execution_count": 181,
     "metadata": {},
     "output_type": "execute_result"
    }
   ],
   "source": [
    "freq_govt_torture_journalists"
   ]
  },
  {
   "cell_type": "code",
   "execution_count": 183,
   "metadata": {},
   "outputs": [],
   "source": [
    "police_torture_student = np.concatenate([police,torture,student],axis=0)\n",
    "\n",
    "police_torture_student = np.array(list(set(police_torture_student)))\n",
    "\n",
    "len(police_torture_student)\n",
    "\n",
    "for i in range(len(police_torture_student)):\n",
    "    police_torture_student[i] = police_torture_student[i].lower()\n",
    "\n",
    "unique_police_torture_student = []\n",
    "\n",
    "for i in range(len(police_torture_student)):\n",
    "    if 'police' in police_torture_student[i]  and ('torture' in police_torture_student[i] or 'assault' in police_torture_student[i] or 'beat' in police_torture_student[i]) and ('student' in police_torture_student[i] or 'protester' in police_torture_student or\n",
    "                                                                                       'school kids' in police_torture_student or 'teenage' in police_torture_student):\n",
    "        unique_police_torture_student.append(police_torture_student[i])\n",
    "\n",
    "len(unique_police_torture_student)\n",
    "\n",
    "freq_police_torture_students = len(unique_police_torture_student) / len(police_torture_student) * 100"
   ]
  },
  {
   "cell_type": "code",
   "execution_count": 185,
   "metadata": {},
   "outputs": [
    {
     "data": {
      "text/plain": [
       "1.5760294026038746"
      ]
     },
     "execution_count": 185,
     "metadata": {},
     "output_type": "execute_result"
    }
   ],
   "source": [
    "freq_police_torture_students"
   ]
  },
  {
   "cell_type": "code",
   "execution_count": null,
   "metadata": {},
   "outputs": [],
   "source": []
  },
  {
   "cell_type": "code",
   "execution_count": 186,
   "metadata": {},
   "outputs": [],
   "source": [
    "police_torture_boy = np.concatenate([police,torture,boy],axis=0)\n",
    "\n",
    "police_torture_boy = np.array(list(set(police_torture_boy)))\n",
    "\n",
    "len(police_torture_boy)\n",
    "\n",
    "for i in range(len(police_torture_boy)):\n",
    "    police_torture_boy[i] = police_torture_boy[i].lower()\n",
    "\n",
    "unique_police_torture_boy = []\n",
    "\n",
    "for i in range(len(police_torture_boy)):\n",
    "    if 'police' in police_torture_boy[i]  and ('torture' in police_torture_boy[i] or 'assault' in police_torture_boy[i] or 'beat' in police_torture_boy[i]) and 'boy' in police_torture_boy[i]:\n",
    "        unique_police_torture_boy.append(police_torture_boy[i])\n",
    "\n",
    "len(unique_police_torture_boy)\n",
    "\n",
    "freq_police_torture_boys = len(unique_police_torture_boy) / len(police_torture_boy) * 100"
   ]
  },
  {
   "cell_type": "code",
   "execution_count": 187,
   "metadata": {},
   "outputs": [
    {
     "data": {
      "text/plain": [
       "0.1566579634464752"
      ]
     },
     "execution_count": 187,
     "metadata": {},
     "output_type": "execute_result"
    }
   ],
   "source": [
    "freq_police_torture_boys"
   ]
  },
  {
   "cell_type": "code",
   "execution_count": 188,
   "metadata": {},
   "outputs": [],
   "source": [
    "police_torture_girl = np.concatenate([police,torture,girl],axis=0)\n",
    "\n",
    "police_torture_girl = np.array(list(set(police_torture_girl)))\n",
    "\n",
    "len(police_torture_girl)\n",
    "\n",
    "for i in range(len(police_torture_girl)):\n",
    "    police_torture_girl[i] = police_torture_girl[i].lower()\n",
    "\n",
    "unique_police_torture_girl = []\n",
    "\n",
    "for i in range(len(police_torture_girl)):\n",
    "    if 'police' in police_torture_girl[i]  and ('torture' in police_torture_girl[i] or 'assault' in police_torture_girl[i] or 'beat' in police_torture_girl[i]) and 'girl' in police_torture_girl[i]:\n",
    "        unique_police_torture_girl.append(police_torture_girl[i])\n",
    "\n",
    "len(unique_police_torture_girl)\n",
    "\n",
    "freq_police_torture_girls = len(unique_police_torture_girl) / len(police_torture_girl) * 100"
   ]
  },
  {
   "cell_type": "code",
   "execution_count": 189,
   "metadata": {},
   "outputs": [
    {
     "data": {
      "text/plain": [
       "0.42654028436018954"
      ]
     },
     "execution_count": 189,
     "metadata": {},
     "output_type": "execute_result"
    }
   ],
   "source": [
    "freq_police_torture_girls"
   ]
  },
  {
   "cell_type": "code",
   "execution_count": null,
   "metadata": {},
   "outputs": [],
   "source": []
  },
  {
   "cell_type": "code",
   "execution_count": 190,
   "metadata": {},
   "outputs": [],
   "source": [
    "police_torture_journalist = np.concatenate([police,torture,journalist],axis=0)\n",
    "\n",
    "police_torture_journalist = np.array(list(set(police_torture_journalist)))\n",
    "\n",
    "len(police_torture_journalist)\n",
    "\n",
    "for i in range(len(police_torture_journalist)):\n",
    "    police_torture_journalist[i] = police_torture_journalist[i].lower()\n",
    "\n",
    "unique_police_torture_journalist = []\n",
    "\n",
    "for i in range(len(police_torture_journalist)):\n",
    "    if 'police' in police_torture_journalist[i]  and ('torture' in police_torture_journalist[i] or 'assault' in police_torture_journalist[i] or 'beat' in police_torture_journalist[i]) and 'journalist' in police_torture_journalist[i]:\n",
    "        unique_police_torture_journalist.append(police_torture_journalist[i])\n",
    "\n",
    "len(unique_police_torture_journalist)\n",
    "\n",
    "freq_police_torture_journalists = len(unique_police_torture_journalist) / len(police_torture_journalist) * 100"
   ]
  },
  {
   "cell_type": "code",
   "execution_count": 191,
   "metadata": {},
   "outputs": [
    {
     "data": {
      "text/plain": [
       "0.3664793549963352"
      ]
     },
     "execution_count": 191,
     "metadata": {},
     "output_type": "execute_result"
    }
   ],
   "source": [
    "freq_police_torture_journalists"
   ]
  },
  {
   "cell_type": "code",
   "execution_count": 201,
   "metadata": {},
   "outputs": [
    {
     "data": {
      "text/html": [
       "<div>\n",
       "<style scoped>\n",
       "    .dataframe tbody tr th:only-of-type {\n",
       "        vertical-align: middle;\n",
       "    }\n",
       "\n",
       "    .dataframe tbody tr th {\n",
       "        vertical-align: top;\n",
       "    }\n",
       "\n",
       "    .dataframe thead th {\n",
       "        text-align: right;\n",
       "    }\n",
       "</style>\n",
       "<table border=\"1\" class=\"dataframe\">\n",
       "  <thead>\n",
       "    <tr style=\"text-align: right;\">\n",
       "      <th></th>\n",
       "      <th>0</th>\n",
       "    </tr>\n",
       "  </thead>\n",
       "  <tbody>\n",
       "    <tr>\n",
       "      <th>0</th>\n",
       "      <td>0.399848</td>\n",
       "    </tr>\n",
       "    <tr>\n",
       "      <th>1</th>\n",
       "      <td>1.765471</td>\n",
       "    </tr>\n",
       "    <tr>\n",
       "      <th>2</th>\n",
       "      <td>0.052706</td>\n",
       "    </tr>\n",
       "    <tr>\n",
       "      <th>3</th>\n",
       "      <td>2.178941</td>\n",
       "    </tr>\n",
       "    <tr>\n",
       "      <th>4</th>\n",
       "      <td>0.379147</td>\n",
       "    </tr>\n",
       "    <tr>\n",
       "      <th>5</th>\n",
       "      <td>2.937692</td>\n",
       "    </tr>\n",
       "    <tr>\n",
       "      <th>6</th>\n",
       "      <td>0.000000</td>\n",
       "    </tr>\n",
       "    <tr>\n",
       "      <th>7</th>\n",
       "      <td>2.103630</td>\n",
       "    </tr>\n",
       "    <tr>\n",
       "      <th>8</th>\n",
       "      <td>0.144788</td>\n",
       "    </tr>\n",
       "    <tr>\n",
       "      <th>9</th>\n",
       "      <td>0.161355</td>\n",
       "    </tr>\n",
       "    <tr>\n",
       "      <th>10</th>\n",
       "      <td>0.000000</td>\n",
       "    </tr>\n",
       "    <tr>\n",
       "      <th>11</th>\n",
       "      <td>0.083211</td>\n",
       "    </tr>\n",
       "    <tr>\n",
       "      <th>12</th>\n",
       "      <td>0.115741</td>\n",
       "    </tr>\n",
       "    <tr>\n",
       "      <th>13</th>\n",
       "      <td>0.395570</td>\n",
       "    </tr>\n",
       "    <tr>\n",
       "      <th>14</th>\n",
       "      <td>0.789681</td>\n",
       "    </tr>\n",
       "    <tr>\n",
       "      <th>15</th>\n",
       "      <td>1.175008</td>\n",
       "    </tr>\n",
       "    <tr>\n",
       "      <th>16</th>\n",
       "      <td>0.360077</td>\n",
       "    </tr>\n",
       "    <tr>\n",
       "      <th>17</th>\n",
       "      <td>1.878822</td>\n",
       "    </tr>\n",
       "    <tr>\n",
       "      <th>18</th>\n",
       "      <td>0.064288</td>\n",
       "    </tr>\n",
       "    <tr>\n",
       "      <th>19</th>\n",
       "      <td>6.702835</td>\n",
       "    </tr>\n",
       "    <tr>\n",
       "      <th>20</th>\n",
       "      <td>0.355349</td>\n",
       "    </tr>\n",
       "    <tr>\n",
       "      <th>21</th>\n",
       "      <td>2.531957</td>\n",
       "    </tr>\n",
       "    <tr>\n",
       "      <th>22</th>\n",
       "      <td>0.023199</td>\n",
       "    </tr>\n",
       "    <tr>\n",
       "      <th>23</th>\n",
       "      <td>5.344777</td>\n",
       "    </tr>\n",
       "    <tr>\n",
       "      <th>24</th>\n",
       "      <td>0.029940</td>\n",
       "    </tr>\n",
       "    <tr>\n",
       "      <th>25</th>\n",
       "      <td>0.042839</td>\n",
       "    </tr>\n",
       "    <tr>\n",
       "      <th>26</th>\n",
       "      <td>0.000000</td>\n",
       "    </tr>\n",
       "    <tr>\n",
       "      <th>27</th>\n",
       "      <td>0.096846</td>\n",
       "    </tr>\n",
       "    <tr>\n",
       "      <th>28</th>\n",
       "      <td>0.154024</td>\n",
       "    </tr>\n",
       "    <tr>\n",
       "      <th>29</th>\n",
       "      <td>0.434567</td>\n",
       "    </tr>\n",
       "    <tr>\n",
       "      <th>30</th>\n",
       "      <td>0.295457</td>\n",
       "    </tr>\n",
       "    <tr>\n",
       "      <th>31</th>\n",
       "      <td>2.481390</td>\n",
       "    </tr>\n",
       "    <tr>\n",
       "      <th>32</th>\n",
       "      <td>0.261506</td>\n",
       "    </tr>\n",
       "    <tr>\n",
       "      <th>33</th>\n",
       "      <td>1.269680</td>\n",
       "    </tr>\n",
       "    <tr>\n",
       "      <th>34</th>\n",
       "      <td>0.049012</td>\n",
       "    </tr>\n",
       "    <tr>\n",
       "      <th>35</th>\n",
       "      <td>2.044666</td>\n",
       "    </tr>\n",
       "    <tr>\n",
       "      <th>36</th>\n",
       "      <td>0.000000</td>\n",
       "    </tr>\n",
       "    <tr>\n",
       "      <th>37</th>\n",
       "      <td>0.000000</td>\n",
       "    </tr>\n",
       "    <tr>\n",
       "      <th>38</th>\n",
       "      <td>0.000000</td>\n",
       "    </tr>\n",
       "    <tr>\n",
       "      <th>39</th>\n",
       "      <td>0.185304</td>\n",
       "    </tr>\n",
       "    <tr>\n",
       "      <th>40</th>\n",
       "      <td>0.156658</td>\n",
       "    </tr>\n",
       "    <tr>\n",
       "      <th>41</th>\n",
       "      <td>0.426540</td>\n",
       "    </tr>\n",
       "    <tr>\n",
       "      <th>42</th>\n",
       "      <td>0.366479</td>\n",
       "    </tr>\n",
       "    <tr>\n",
       "      <th>43</th>\n",
       "      <td>1.576029</td>\n",
       "    </tr>\n",
       "  </tbody>\n",
       "</table>\n",
       "</div>"
      ],
      "text/plain": [
       "           0\n",
       "0   0.399848\n",
       "1   1.765471\n",
       "2   0.052706\n",
       "3   2.178941\n",
       "4   0.379147\n",
       "5   2.937692\n",
       "6   0.000000\n",
       "7   2.103630\n",
       "8   0.144788\n",
       "9   0.161355\n",
       "10  0.000000\n",
       "11  0.083211\n",
       "12  0.115741\n",
       "13  0.395570\n",
       "14  0.789681\n",
       "15  1.175008\n",
       "16  0.360077\n",
       "17  1.878822\n",
       "18  0.064288\n",
       "19  6.702835\n",
       "20  0.355349\n",
       "21  2.531957\n",
       "22  0.023199\n",
       "23  5.344777\n",
       "24  0.029940\n",
       "25  0.042839\n",
       "26  0.000000\n",
       "27  0.096846\n",
       "28  0.154024\n",
       "29  0.434567\n",
       "30  0.295457\n",
       "31  2.481390\n",
       "32  0.261506\n",
       "33  1.269680\n",
       "34  0.049012\n",
       "35  2.044666\n",
       "36  0.000000\n",
       "37  0.000000\n",
       "38  0.000000\n",
       "39  0.185304\n",
       "40  0.156658\n",
       "41  0.426540\n",
       "42  0.366479\n",
       "43  1.576029"
      ]
     },
     "execution_count": 201,
     "metadata": {},
     "output_type": "execute_result"
    }
   ],
   "source": [
    "pd.DataFrame(list(zip([freq_bcl_kill_boy,freq_bcl_kill_girl,freq_bcl_kill_journalist,freq_bcl_kill_students,freq_bcl_rape_boys,freq_bcl_rape_girls,freq_bcl_rape_journalists,freq_bcl_rape_students,freq_bcl_shoot_boy,freq_bcl_shoot_girl,freq_bcl_shoot_journalist,freq_bcl_shoot_students,freq_bcl_torture_boys,freq_bcl_torture_girls,freq_bcl_torture_journalists,freq_bcl_torture_students,freq_govt_kill_boy,freq_govt_kill_girl,freq_govt_kill_journalist,freq_govt_kill_student,freq_govt_rape_boys,freq_govt_rape_girls,freq_govt_rape_journalists,freq_govt_rape_students,freq_govt_shoot_boy,freq_govt_shoot_girl,freq_govt_shoot_journalist,freq_govt_shoot_student,freq_govt_torture_boys,freq_govt_torture_girls,freq_govt_torture_journalists,freq_govt_torture_students,freq_police_kill_boy,freq_police_kill_girl,freq_police_kill_journalist,freq_police_kill_student,freq_police_shoot_boy,freq_police_shoot_girl,freq_police_shoot_journalist,freq_police_shoot_student,freq_police_torture_boys,freq_police_torture_girls,freq_police_torture_journalists,freq_police_torture_students])))"
   ]
  },
  {
   "cell_type": "code",
   "execution_count": 203,
   "metadata": {},
   "outputs": [],
   "source": [
    "cols = 'freq_bcl_kill_boy,freq_bcl_kill_girl,freq_bcl_kill_journalist,freq_bcl_kill_students,freq_bcl_rape_boys,freq_bcl_rape_girls,freq_bcl_rape_journalists,freq_bcl_rape_students,freq_bcl_shoot_boy,freq_bcl_shoot_girl,freq_bcl_shoot_journalist,freq_bcl_shoot_students,freq_bcl_torture_boys,freq_bcl_torture_girls,freq_bcl_torture_journalists,freq_bcl_torture_students,freq_govt_kill_boy,freq_govt_kill_girl,freq_govt_kill_journalist,freq_govt_kill_student,freq_govt_rape_boys,freq_govt_rape_girls,freq_govt_rape_journalists,freq_govt_rape_students,freq_govt_shoot_boy,freq_govt_shoot_girl,freq_govt_shoot_journalist,freq_govt_shoot_student,freq_govt_torture_boys,freq_govt_torture_girls,freq_govt_torture_journalists,freq_govt_torture_students,freq_police_kill_boy,freq_police_kill_girl,freq_police_kill_journalist,freq_police_kill_student,freq_police_shoot_boy,freq_police_shoot_girl,freq_police_shoot_journalist,freq_police_shoot_student,freq_police_torture_boys,freq_police_torture_girls,freq_police_torture_journalists,freq_police_torture_students'"
   ]
  },
  {
   "cell_type": "code",
   "execution_count": 204,
   "metadata": {},
   "outputs": [],
   "source": [
    "cols = cols.split(',')"
   ]
  },
  {
   "cell_type": "code",
   "execution_count": null,
   "metadata": {
    "collapsed": true
   },
   "outputs": [],
   "source": []
  },
  {
   "cell_type": "code",
   "execution_count": null,
   "metadata": {},
   "outputs": [],
   "source": []
  },
  {
   "cell_type": "code",
   "execution_count": null,
   "metadata": {},
   "outputs": [],
   "source": []
  },
  {
   "cell_type": "code",
   "execution_count": null,
   "metadata": {},
   "outputs": [],
   "source": []
  },
  {
   "cell_type": "code",
   "execution_count": null,
   "metadata": {},
   "outputs": [],
   "source": []
  },
  {
   "cell_type": "code",
   "execution_count": null,
   "metadata": {},
   "outputs": [],
   "source": []
  }
 ],
 "metadata": {
  "kernelspec": {
   "display_name": "Python 3",
   "language": "python",
   "name": "python3"
  },
  "language_info": {
   "codemirror_mode": {
    "name": "ipython",
    "version": 3
   },
   "file_extension": ".py",
   "mimetype": "text/x-python",
   "name": "python",
   "nbconvert_exporter": "python",
   "pygments_lexer": "ipython3",
   "version": "3.7.3"
  }
 },
 "nbformat": 4,
 "nbformat_minor": 2
}
